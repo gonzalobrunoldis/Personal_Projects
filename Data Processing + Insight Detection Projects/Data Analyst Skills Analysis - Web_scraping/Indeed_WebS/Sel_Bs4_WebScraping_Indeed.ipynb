{
 "cells": [
  {
   "cell_type": "code",
   "execution_count": 11,
   "id": "1b65b7a6",
   "metadata": {},
   "outputs": [],
   "source": [
    "#TODOs \n",
    "# Add Data Origin (Indeed in this case)\n",
    "# Check why it is not fetching the description correctly"
   ]
  },
  {
   "cell_type": "code",
   "execution_count": 12,
   "id": "0ade8527",
   "metadata": {},
   "outputs": [],
   "source": [
    "import pandas as pd\n",
    "import re\n",
    "import random\n",
    "from datetime import date, timedelta\n",
    "\n",
    "import selenium\n",
    "from bs4 import BeautifulSoup as soup\n",
    "from datetime import date, timedelta, datetime\n",
    "from IPython.core.display import clear_output\n",
    "from random import randint\n",
    "from requests import get\n",
    "from selenium import webdriver\n",
    "from selenium.webdriver.common.action_chains import ActionChains\n",
    "from time import sleep\n",
    "from time import time\n",
    "start_time = time()\n",
    "\n",
    "from urllib.request import urlopen as ureq\n",
    "import urllib\n",
    "from bs4 import BeautifulSoup as soup\n",
    "\n",
    "from warnings import warn"
   ]
  },
  {
   "cell_type": "markdown",
   "id": "cbdf124d",
   "metadata": {},
   "source": [
    "# Scraping Indeed Australia"
   ]
  },
  {
   "cell_type": "markdown",
   "id": "95e6a75a",
   "metadata": {},
   "source": [
    "### Opening up connection and getting HTML info from the webpage"
   ]
  },
  {
   "cell_type": "code",
   "execution_count": 13,
   "id": "2c89020c",
   "metadata": {},
   "outputs": [],
   "source": [
    "url = 'https://au.indeed.com/jobs?q=data+analyst&l=All+Sydney+NSW&radius=50&fromage=1'"
   ]
  },
  {
   "cell_type": "code",
   "execution_count": 14,
   "id": "e051747a",
   "metadata": {},
   "outputs": [],
   "source": [
    "driver = webdriver.Chrome()\n",
    "driver.get(url)\n",
    "driver.maximize_window()"
   ]
  },
  {
   "cell_type": "code",
   "execution_count": 15,
   "id": "a91f9e8d",
   "metadata": {},
   "outputs": [
    {
     "data": {
      "text/plain": [
       "'Page 1 of 56 jobs'"
      ]
     },
     "execution_count": 15,
     "metadata": {},
     "output_type": "execute_result"
    }
   ],
   "source": [
    "driver.find_element_by_xpath('//div[@id=\"searchCountPages\"]').text"
   ]
  },
  {
   "cell_type": "code",
   "execution_count": 16,
   "id": "88e0777f",
   "metadata": {},
   "outputs": [
    {
     "data": {
      "text/plain": [
       "'56'"
      ]
     },
     "execution_count": 16,
     "metadata": {},
     "output_type": "execute_result"
    }
   ],
   "source": [
    "new_jobs_posted = re.findall('\\d+',driver.find_element_by_xpath('//div[@id=\"searchCountPages\"]').text)[1]\n",
    "new_jobs_posted"
   ]
  },
  {
   "cell_type": "code",
   "execution_count": 17,
   "id": "492f56f2",
   "metadata": {},
   "outputs": [],
   "source": [
    "#Instatiating the lists to fill when looping\n",
    "job_titles=[]\n",
    "company_name=[]\n",
    "job_location=[]\n",
    "date_scraped=[]\n",
    "links=[]\n",
    "job_industry=[]\n",
    "job_desc=[]\n",
    "job_type=[]\n",
    "job_seniority=[]\n",
    "\n",
    "counter=0\n",
    "\n",
    "#Check for the app to stop if the job was already scrapped\n",
    "#df = pd.read_csv('Linkedin_data_info.csv')"
   ]
  },
  {
   "cell_type": "code",
   "execution_count": 18,
   "id": "fbb7c270",
   "metadata": {},
   "outputs": [],
   "source": [
    "#Contenedores\n",
    "contenedores = driver.find_elements_by_xpath('//table[@class=\"jobCard_mainContent\"]')"
   ]
  },
  {
   "cell_type": "code",
   "execution_count": 19,
   "id": "5465d9d3",
   "metadata": {},
   "outputs": [
    {
     "data": {
      "text/plain": [
       "15"
      ]
     },
     "execution_count": 19,
     "metadata": {},
     "output_type": "execute_result"
    }
   ],
   "source": [
    "len(contenedores)"
   ]
  },
  {
   "cell_type": "code",
   "execution_count": 20,
   "id": "9e7d43ed",
   "metadata": {},
   "outputs": [
    {
     "ename": "IndexError",
     "evalue": "list index out of range",
     "output_type": "error",
     "traceback": [
      "\u001b[1;31m---------------------------------------------------------------------------\u001b[0m",
      "\u001b[1;31mIndexError\u001b[0m                                Traceback (most recent call last)",
      "\u001b[1;32m<ipython-input-20-d720429ce0aa>\u001b[0m in \u001b[0;36m<module>\u001b[1;34m\u001b[0m\n\u001b[0;32m     21\u001b[0m         \u001b[0muclient\u001b[0m\u001b[1;33m.\u001b[0m\u001b[0mclose\u001b[0m\u001b[1;33m(\u001b[0m\u001b[1;33m)\u001b[0m\u001b[1;33m\u001b[0m\u001b[1;33m\u001b[0m\u001b[0m\n\u001b[0;32m     22\u001b[0m         \u001b[0mpage_soup\u001b[0m \u001b[1;33m=\u001b[0m \u001b[0msoup\u001b[0m\u001b[1;33m(\u001b[0m\u001b[0mpage_html\u001b[0m\u001b[1;33m,\u001b[0m \u001b[1;34m'html.parser'\u001b[0m\u001b[1;33m)\u001b[0m\u001b[1;33m\u001b[0m\u001b[1;33m\u001b[0m\u001b[0m\n\u001b[1;32m---> 23\u001b[1;33m         \u001b[0mjob_desc\u001b[0m\u001b[1;33m.\u001b[0m\u001b[0mappend\u001b[0m\u001b[1;33m(\u001b[0m\u001b[0mpage_soup\u001b[0m\u001b[1;33m.\u001b[0m\u001b[0mfindAll\u001b[0m\u001b[1;33m(\u001b[0m\u001b[1;34m'div'\u001b[0m\u001b[1;33m,\u001b[0m\u001b[1;33m{\u001b[0m\u001b[1;34m'id'\u001b[0m\u001b[1;33m:\u001b[0m\u001b[1;34m'jobDescriptionText'\u001b[0m\u001b[1;33m}\u001b[0m\u001b[1;33m)\u001b[0m\u001b[1;33m[\u001b[0m\u001b[1;36m0\u001b[0m\u001b[1;33m]\u001b[0m\u001b[1;33m.\u001b[0m\u001b[0mtext\u001b[0m\u001b[1;33m.\u001b[0m\u001b[0mstrip\u001b[0m\u001b[1;33m(\u001b[0m\u001b[1;33m)\u001b[0m\u001b[1;33m)\u001b[0m\u001b[1;33m\u001b[0m\u001b[1;33m\u001b[0m\u001b[0m\n\u001b[0m\u001b[0;32m     24\u001b[0m \u001b[1;33m\u001b[0m\u001b[0m\n\u001b[0;32m     25\u001b[0m         \u001b[0mjob_industry\u001b[0m\u001b[1;33m.\u001b[0m\u001b[0mappend\u001b[0m\u001b[1;33m(\u001b[0m\u001b[1;34m'NA'\u001b[0m\u001b[1;33m)\u001b[0m\u001b[1;33m\u001b[0m\u001b[1;33m\u001b[0m\u001b[0m\n",
      "\u001b[1;31mIndexError\u001b[0m: list index out of range"
     ]
    }
   ],
   "source": [
    "while len(contenedores)>0:\n",
    "    for job_post in range(0,len(contenedores)):\n",
    "        try:\n",
    "            driver.find_element_by_xpath('//button[@aria-label=\"Close\"]').click()\n",
    "        except:\n",
    "            pass\n",
    "        # Job Title\n",
    "        job_titles.append((driver.find_elements_by_xpath('//h2[@class=\"jobTitle jobTitle-color-purple jobTitle-newJob\"]')[job_post].text).replace('new','').strip())\n",
    "        # Company name\n",
    "        company_name.append(driver.find_elements_by_xpath('//span[@class=\"companyName\"]')[job_post].text)\n",
    "        # Job Location\n",
    "        job_location.append(driver.find_elements_by_xpath('//div[@class=\"companyLocation\"]')[job_post].text)\n",
    "        # Date Scraped\n",
    "        date_scraped.append(str(date.today()))\n",
    "        # Links\n",
    "        links.append(driver.find_elements_by_xpath(\"//a[contains(@class, 'tapItem fs-unmask result')]\")[job_post].get_attribute('href'))\n",
    "        # Loading each page and fetching job desc\n",
    "        url= links[job_post]\n",
    "        uclient = ureq(url)\n",
    "        page_html = uclient.read()\n",
    "        uclient.close()\n",
    "        page_soup = soup(page_html, 'html.parser')\n",
    "        job_desc.append(page_soup.findAll('div',{'id':'jobDescriptionText'})[0].text.strip())\n",
    "        \n",
    "        job_industry.append('NA')\n",
    "        job_type.append('NA')\n",
    "        job_seniority.append('NA')\n",
    "        sleep(random.uniform(2.1,5.6))\n",
    "        \n",
    "    try:\n",
    "        driver.find_element_by_xpath('//a[@aria-label=\"Next\"]').click()\n",
    "    except:\n",
    "        break "
   ]
  },
  {
   "cell_type": "code",
   "execution_count": null,
   "id": "a1ec0403",
   "metadata": {},
   "outputs": [],
   "source": [
    "dataframe_structure = {'Job Title': job_titles, 'Company Name':company_name, 'Location':job_location, 'Date Scraped':date_scraped, 'Job URL':links, 'Job Industry':job_industry, 'Job Type':job_type, 'Job Seniority':job_seniority, 'Job Description':job_desc}"
   ]
  },
  {
   "cell_type": "code",
   "execution_count": null,
   "id": "91369dd8",
   "metadata": {},
   "outputs": [],
   "source": [
    "#Check for the app to stop if the job was already scrapped\n",
    "df = pd.read_csv('Indeed_data_info_au.csv', engine='python')\n",
    "last_index_in_csv = int(df.iloc[-1]['Unnamed: 0']) + 1\n",
    "last_index_in_csv"
   ]
  },
  {
   "cell_type": "code",
   "execution_count": null,
   "id": "c3125c45",
   "metadata": {},
   "outputs": [],
   "source": [
    "last_index_in_csv_1 = last_index_in_csv+1\n",
    "df = pd.DataFrame(dataframe_structure)\n",
    "df.index += last_index_in_csv_1\n"
   ]
  },
  {
   "cell_type": "code",
   "execution_count": null,
   "id": "4ce18ceb",
   "metadata": {},
   "outputs": [],
   "source": [
    "df"
   ]
  },
  {
   "cell_type": "code",
   "execution_count": null,
   "id": "bcabc744",
   "metadata": {},
   "outputs": [],
   "source": [
    "df.to_csv('Indeed_data_info_au.csv',mode='a',header=False)"
   ]
  },
  {
   "cell_type": "markdown",
   "id": "585a008f",
   "metadata": {},
   "source": [
    "# Scraping Indeed US"
   ]
  },
  {
   "cell_type": "code",
   "execution_count": null,
   "id": "bb6ec403",
   "metadata": {},
   "outputs": [],
   "source": [
    "url = 'https://www.indeed.com/jobs?q=data+analyst&l=United+States&fromage=1&sort=date'"
   ]
  },
  {
   "cell_type": "code",
   "execution_count": null,
   "id": "dc7db263",
   "metadata": {},
   "outputs": [],
   "source": [
    "driver = webdriver.Chrome()\n",
    "driver.get(url)\n",
    "driver.maximize_window()"
   ]
  },
  {
   "cell_type": "code",
   "execution_count": null,
   "id": "8910cd10",
   "metadata": {},
   "outputs": [],
   "source": [
    "driver.find_element_by_xpath('//div[@id=\"searchCountPages\"]').text"
   ]
  },
  {
   "cell_type": "code",
   "execution_count": null,
   "id": "d5834766",
   "metadata": {},
   "outputs": [],
   "source": [
    "new_jobs_posted = re.findall('\\d+',driver.find_element_by_xpath('//div[@id=\"searchCountPages\"]').text)[1]\n",
    "new_jobs_posted"
   ]
  },
  {
   "cell_type": "code",
   "execution_count": null,
   "id": "9be32046",
   "metadata": {},
   "outputs": [],
   "source": [
    "#Instatiating the lists to fill when looping\n",
    "job_titles=[]\n",
    "company_name=[]\n",
    "job_location=[]\n",
    "date_scraped=[]\n",
    "links=[]\n",
    "job_industry=[]\n",
    "job_desc=[]\n",
    "job_type=[]\n",
    "job_seniority=[]\n",
    "\n",
    "counter=0\n",
    "\n",
    "#Check for the app to stop if the job was already scrapped\n",
    "try:\n",
    "    df = pd.read_csv('Indeed_data_info_us.csv', engine='python')\n",
    "    last_index_in_csv = int(df.iloc[-1]['Unnamed: 0']) \n",
    "except:\n",
    "    last_index_in_csv = 0"
   ]
  },
  {
   "cell_type": "code",
   "execution_count": null,
   "id": "c45d437c",
   "metadata": {},
   "outputs": [],
   "source": [
    "#Contenedores\n",
    "contenedores = driver.find_elements_by_xpath('//table[@class=\"jobCard_mainContent\"]')"
   ]
  },
  {
   "cell_type": "code",
   "execution_count": null,
   "id": "f0f0e7b9",
   "metadata": {},
   "outputs": [],
   "source": [
    "len(contenedores)"
   ]
  },
  {
   "cell_type": "code",
   "execution_count": null,
   "id": "571a022b",
   "metadata": {},
   "outputs": [],
   "source": [
    "while len(contenedores)>0:\n",
    "    for job_post in range(0,len(contenedores)):\n",
    "        try:\n",
    "            driver.find_element_by_xpath('//button[@aria-label=\"Close\"]').click()\n",
    "        except:\n",
    "            pass\n",
    "        try:\n",
    "            driver.find_element_by_xpath('//button[@class=\"popover-x-button-close icl-CloseButton\"]').click()\n",
    "        except:\n",
    "            pass\n",
    "        # Job Title\n",
    "        job_titles.append((driver.find_elements_by_xpath('//h2[@class=\"jobTitle jobTitle-color-purple jobTitle-newJob\"]')[job_post].text).replace('new','').strip())\n",
    "        # Company name\n",
    "        company_name.append(driver.find_elements_by_xpath('//span[@class=\"companyName\"]')[job_post].text)\n",
    "        # Job Location\n",
    "        job_location.append(driver.find_elements_by_xpath('//div[@class=\"companyLocation\"]')[job_post].text)\n",
    "        # Date Scraped\n",
    "        date_scraped.append(str(date.today()))\n",
    "        # Links\n",
    "        links.append(driver.find_elements_by_xpath(\"//a[contains(@class, 'tapItem fs-unmask result')]\")[job_post].get_attribute('href'))\n",
    "        # Loading each page and fetching job desc\n",
    "        url= links[job_post]\n",
    "        uclient = ureq(url)\n",
    "        page_html = uclient.read()\n",
    "        uclient.close()\n",
    "        page_soup = soup(page_html, 'html.parser')\n",
    "        job_desc.append(page_soup.findAll('div',{'id':'jobDescriptionText'})[0].text.strip())\n",
    "        \n",
    "        job_industry.append('NA')\n",
    "        job_type.append('NA')\n",
    "        job_seniority.append('NA')\n",
    "        sleep(random.uniform(2.1,5.6))\n",
    "        \n",
    "    try:\n",
    "        driver.find_element_by_xpath('//a[@aria-label=\"Next\"]').click()\n",
    "    except:\n",
    "        break "
   ]
  },
  {
   "cell_type": "code",
   "execution_count": null,
   "id": "bd6ddc36",
   "metadata": {},
   "outputs": [],
   "source": [
    "dataframe_structure = {'Job Title': job_titles, 'Company Name':company_name, 'Location':job_location, 'Date Scraped':date_scraped, 'Job URL':links, 'Job Industry':job_industry, 'Job Type':job_type, 'Job Seniority':job_seniority, 'Job Description':job_desc}"
   ]
  },
  {
   "cell_type": "code",
   "execution_count": null,
   "id": "90af5430",
   "metadata": {},
   "outputs": [],
   "source": [
    "last_index_in_csv_1 = last_index_in_csv+1\n",
    "df = pd.DataFrame(dataframe_structure)\n",
    "df.index += last_index_in_csv_1"
   ]
  },
  {
   "cell_type": "code",
   "execution_count": null,
   "id": "4444d5d7",
   "metadata": {},
   "outputs": [],
   "source": [
    "df"
   ]
  },
  {
   "cell_type": "code",
   "execution_count": null,
   "id": "2c9c0426",
   "metadata": {},
   "outputs": [],
   "source": [
    "df.to_csv('Indeed_data_info_us.csv',mode='a',header=False)"
   ]
  },
  {
   "cell_type": "markdown",
   "id": "a240bb6f",
   "metadata": {},
   "source": [
    "# Scraping Indeed SP"
   ]
  },
  {
   "cell_type": "code",
   "execution_count": null,
   "id": "b2ea313b",
   "metadata": {},
   "outputs": [],
   "source": [
    "url = 'https://es.indeed.com/jobs?q=data+analyst&l=Espa%C3%B1a&fromage=1'"
   ]
  },
  {
   "cell_type": "code",
   "execution_count": null,
   "id": "22b159e3",
   "metadata": {},
   "outputs": [],
   "source": [
    "driver = webdriver.Chrome()\n",
    "driver.get(url)\n",
    "driver.maximize_window()"
   ]
  },
  {
   "cell_type": "code",
   "execution_count": null,
   "id": "3761edca",
   "metadata": {},
   "outputs": [],
   "source": [
    "driver.find_element_by_xpath('//div[@id=\"searchCountPages\"]').text"
   ]
  },
  {
   "cell_type": "code",
   "execution_count": null,
   "id": "b538ce3a",
   "metadata": {},
   "outputs": [],
   "source": [
    "new_jobs_posted = re.findall('\\d+',driver.find_element_by_xpath('//div[@id=\"searchCountPages\"]').text)[1]\n",
    "new_jobs_posted"
   ]
  },
  {
   "cell_type": "code",
   "execution_count": null,
   "id": "367b1356",
   "metadata": {},
   "outputs": [],
   "source": [
    "#Instatiating the lists to fill when looping\n",
    "job_titles=[]\n",
    "company_name=[]\n",
    "job_location=[]\n",
    "date_scraped=[]\n",
    "links=[]\n",
    "job_industry=[]\n",
    "job_desc=[]\n",
    "job_type=[]\n",
    "job_seniority=[]\n",
    "\n",
    "counter=0\n",
    "\n",
    "#Check for the app to stop if the job was already scrapped\n",
    "try:\n",
    "    df = pd.read_csv('Indeed_data_info_sp.csv', engine='python')\n",
    "    last_index_in_csv = int(df.iloc[-1]['Unnamed: 0']) \n",
    "except:\n",
    "    last_index_in_csv = 0"
   ]
  },
  {
   "cell_type": "code",
   "execution_count": null,
   "id": "f69839a0",
   "metadata": {},
   "outputs": [],
   "source": [
    "#Contenedores\n",
    "contenedores = driver.find_elements_by_xpath('//table[@class=\"jobCard_mainContent\"]')"
   ]
  },
  {
   "cell_type": "code",
   "execution_count": null,
   "id": "6e201bd8",
   "metadata": {},
   "outputs": [],
   "source": [
    "len(contenedores)"
   ]
  },
  {
   "cell_type": "code",
   "execution_count": null,
   "id": "97e3ada5",
   "metadata": {},
   "outputs": [],
   "source": [
    "while len(contenedores)>0:\n",
    "    for job_post in range(0,len(contenedores)):\n",
    "        try:\n",
    "            driver.find_element_by_xpath('//button[@aria-label=\"Close\"]').click()\n",
    "        except:\n",
    "            pass\n",
    "        # Job Title\n",
    "        job_titles.append((driver.find_elements_by_xpath('//h2[@class=\"jobTitle jobTitle-color-purple jobTitle-newJob\"]')[job_post].text).replace('new','').strip())\n",
    "        # Company name\n",
    "        company_name.append(driver.find_elements_by_xpath('//span[@class=\"companyName\"]')[job_post].text)\n",
    "        # Job Location\n",
    "        job_location.append(driver.find_elements_by_xpath('//div[@class=\"companyLocation\"]')[job_post].text)\n",
    "        # Date Scraped\n",
    "        date_scraped.append(str(date.today()))\n",
    "        # Links\n",
    "        links.append(driver.find_elements_by_xpath(\"//a[contains(@class, 'tapItem fs-unmask result')]\")[job_post].get_attribute('href'))\n",
    "        # Loading each page and fetching job desc\n",
    "        url= links[job_post]\n",
    "        uclient = ureq(url)\n",
    "        page_html = uclient.read()\n",
    "        uclient.close()\n",
    "        page_soup = soup(page_html, 'html.parser')\n",
    "        job_desc.append(page_soup.findAll('div',{'id':'jobDescriptionText'})[0].text.strip())\n",
    "        \n",
    "        job_industry.append('NA')\n",
    "        job_type.append('NA')\n",
    "        job_seniority.append('NA')\n",
    "        sleep(random.uniform(2.1,5.6))\n",
    "        \n",
    "    try:\n",
    "        driver.find_element_by_xpath('//a[@aria-label=\"Next\"]').click()\n",
    "    except:\n",
    "        break "
   ]
  },
  {
   "cell_type": "code",
   "execution_count": null,
   "id": "400480e2",
   "metadata": {},
   "outputs": [],
   "source": [
    "dataframe_structure = {'Job Title': job_titles, 'Company Name':company_name, 'Location':job_location, 'Date Scraped':date_scraped, 'Job URL':links, 'Job Industry':job_industry, 'Job Type':job_type, 'Job Seniority':job_seniority, 'Job Description':job_desc}"
   ]
  },
  {
   "cell_type": "code",
   "execution_count": null,
   "id": "e8ff6698",
   "metadata": {},
   "outputs": [],
   "source": [
    "last_index_in_csv_1 = last_index_in_csv+1\n",
    "df = pd.DataFrame(dataframe_structure)\n",
    "df.index += last_index_in_csv_1"
   ]
  },
  {
   "cell_type": "code",
   "execution_count": null,
   "id": "d1117a83",
   "metadata": {},
   "outputs": [],
   "source": [
    "df"
   ]
  },
  {
   "cell_type": "code",
   "execution_count": null,
   "id": "cb71a5d8",
   "metadata": {},
   "outputs": [],
   "source": [
    "df.to_csv('Indeed_data_info_sp.csv',mode='a',header=False)"
   ]
  }
 ],
 "metadata": {
  "kernelspec": {
   "display_name": "Python 3",
   "language": "python",
   "name": "python3"
  },
  "language_info": {
   "codemirror_mode": {
    "name": "ipython",
    "version": 3
   },
   "file_extension": ".py",
   "mimetype": "text/x-python",
   "name": "python",
   "nbconvert_exporter": "python",
   "pygments_lexer": "ipython3",
   "version": "3.7.10"
  }
 },
 "nbformat": 4,
 "nbformat_minor": 5
}
