{
 "cells": [
  {
   "cell_type": "code",
   "execution_count": 29,
   "id": "c2110bee",
   "metadata": {},
   "outputs": [
    {
     "name": "stdout",
     "output_type": "stream",
     "text": [
      "Requirement already satisfied: langdetect in c:\\users\\gonzalo\\anaconda3\\envs\\dhdsblend\\lib\\site-packages (1.0.9)\n",
      "Requirement already satisfied: six in c:\\users\\gonzalo\\anaconda3\\envs\\dhdsblend\\lib\\site-packages (from langdetect) (1.15.0)\n",
      "Note: you may need to restart the kernel to use updated packages.\n"
     ]
    }
   ],
   "source": [
    "pip install langdetect"
   ]
  },
  {
   "cell_type": "code",
   "execution_count": 30,
   "id": "0d5657e1",
   "metadata": {},
   "outputs": [],
   "source": [
    "import pandas as pd\n",
    "import numpy as np\n",
    "\n",
    "## for language detection\n",
    "import langdetect "
   ]
  },
  {
   "cell_type": "markdown",
   "id": "57e7baee",
   "metadata": {},
   "source": [
    "# Import the scraped job postings "
   ]
  },
  {
   "cell_type": "markdown",
   "id": "b7ef1a9d",
   "metadata": {},
   "source": [
    "### Import australian job postings"
   ]
  },
  {
   "cell_type": "code",
   "execution_count": 31,
   "id": "328aafad",
   "metadata": {},
   "outputs": [],
   "source": [
    "au_glass_df = pd.read_csv(r'./Glassdoor_WebS/Glassdoor_data_info_au.csv')\n",
    "au_indeed_df = pd.read_csv(r'./Indeed_WebS/Indeed_data_info_au.csv')\n",
    "au_link_df = pd.read_csv(r'./LinkedIn_WebS/Linkedin_data_info_au.csv')\n",
    "au_seek_df = pd.read_csv(r'./Seek_WebS/Seek_data_info.csv')"
   ]
  },
  {
   "cell_type": "markdown",
   "id": "fe8de9bd",
   "metadata": {},
   "source": [
    "# Performing some data cleansing and making sure the data is trustworthy"
   ]
  },
  {
   "cell_type": "markdown",
   "id": "278eab27",
   "metadata": {},
   "source": [
    "## Australian DFs"
   ]
  },
  {
   "cell_type": "code",
   "execution_count": 32,
   "id": "e4aef2f9",
   "metadata": {},
   "outputs": [
    {
     "data": {
      "text/plain": [
       "Index(['Unnamed: 0', 'Job Title', 'Company Name', 'Location', 'Date Scraped',\n",
       "       'Job URL', 'Job Industry', 'Job Type', 'Job Seniority',\n",
       "       'Job Description'],\n",
       "      dtype='object')"
      ]
     },
     "execution_count": 32,
     "metadata": {},
     "output_type": "execute_result"
    }
   ],
   "source": [
    "au_glass_df.columns"
   ]
  },
  {
   "cell_type": "code",
   "execution_count": 33,
   "id": "dfb800e7",
   "metadata": {},
   "outputs": [
    {
     "data": {
      "text/html": [
       "<div>\n",
       "<style scoped>\n",
       "    .dataframe tbody tr th:only-of-type {\n",
       "        vertical-align: middle;\n",
       "    }\n",
       "\n",
       "    .dataframe tbody tr th {\n",
       "        vertical-align: top;\n",
       "    }\n",
       "\n",
       "    .dataframe thead th {\n",
       "        text-align: right;\n",
       "    }\n",
       "</style>\n",
       "<table border=\"1\" class=\"dataframe\">\n",
       "  <thead>\n",
       "    <tr style=\"text-align: right;\">\n",
       "      <th></th>\n",
       "      <th>Unnamed: 0</th>\n",
       "      <th>Job Title</th>\n",
       "      <th>Company Name</th>\n",
       "      <th>Location</th>\n",
       "      <th>Date Scraped</th>\n",
       "      <th>Job URL</th>\n",
       "      <th>Job Industry</th>\n",
       "      <th>Job Type</th>\n",
       "      <th>Job Seniority</th>\n",
       "      <th>Job Description</th>\n",
       "    </tr>\n",
       "  </thead>\n",
       "  <tbody>\n",
       "    <tr>\n",
       "      <th>0</th>\n",
       "      <td>NaN</td>\n",
       "      <td>NaN</td>\n",
       "      <td>NaN</td>\n",
       "      <td>NaN</td>\n",
       "      <td>NaN</td>\n",
       "      <td>NaN</td>\n",
       "      <td>NaN</td>\n",
       "      <td>NaN</td>\n",
       "      <td>NaN</td>\n",
       "      <td>NaN</td>\n",
       "    </tr>\n",
       "    <tr>\n",
       "      <th>1</th>\n",
       "      <td>NaN</td>\n",
       "      <td>NaN</td>\n",
       "      <td>NaN</td>\n",
       "      <td>NaN</td>\n",
       "      <td>NaN</td>\n",
       "      <td>NaN</td>\n",
       "      <td>NaN</td>\n",
       "      <td>NaN</td>\n",
       "      <td>NaN</td>\n",
       "      <td>NaN</td>\n",
       "    </tr>\n",
       "  </tbody>\n",
       "</table>\n",
       "</div>"
      ],
      "text/plain": [
       "   Unnamed: 0 Job Title Company Name Location Date Scraped Job URL  \\\n",
       "0         NaN       NaN          NaN      NaN          NaN     NaN   \n",
       "1         NaN       NaN          NaN      NaN          NaN     NaN   \n",
       "\n",
       "  Job Industry Job Type  Job Seniority Job Description  \n",
       "0          NaN      NaN            NaN             NaN  \n",
       "1          NaN      NaN            NaN             NaN  "
      ]
     },
     "execution_count": 33,
     "metadata": {},
     "output_type": "execute_result"
    }
   ],
   "source": [
    "au_glass_df.head(2)"
   ]
  },
  {
   "cell_type": "code",
   "execution_count": 34,
   "id": "1a710a23",
   "metadata": {},
   "outputs": [],
   "source": [
    "(au_glass_df.drop('Unnamed: 0',axis=1,inplace=True))\n",
    "au_glass_df.dropna(how='all',inplace=True)"
   ]
  },
  {
   "cell_type": "code",
   "execution_count": 35,
   "id": "84475ab4",
   "metadata": {},
   "outputs": [
    {
     "data": {
      "text/html": [
       "<div>\n",
       "<style scoped>\n",
       "    .dataframe tbody tr th:only-of-type {\n",
       "        vertical-align: middle;\n",
       "    }\n",
       "\n",
       "    .dataframe tbody tr th {\n",
       "        vertical-align: top;\n",
       "    }\n",
       "\n",
       "    .dataframe thead th {\n",
       "        text-align: right;\n",
       "    }\n",
       "</style>\n",
       "<table border=\"1\" class=\"dataframe\">\n",
       "  <thead>\n",
       "    <tr style=\"text-align: right;\">\n",
       "      <th></th>\n",
       "      <th>Job Title</th>\n",
       "      <th>Company Name</th>\n",
       "      <th>Location</th>\n",
       "      <th>Date Scraped</th>\n",
       "      <th>Job URL</th>\n",
       "      <th>Job Industry</th>\n",
       "      <th>Job Type</th>\n",
       "      <th>Job Seniority</th>\n",
       "      <th>Job Description</th>\n",
       "    </tr>\n",
       "  </thead>\n",
       "  <tbody>\n",
       "    <tr>\n",
       "      <th>236</th>\n",
       "      <td>Data &amp; Insights Analyst</td>\n",
       "      <td>Australian Communications and Media Authority</td>\n",
       "      <td>Sydney</td>\n",
       "      <td>7/26/2021</td>\n",
       "      <td>https://www.glassdoor.com/partner/jobListing.h...</td>\n",
       "      <td>Industry : Government</td>\n",
       "      <td>Job Type : N/A</td>\n",
       "      <td>NaN</td>\n",
       "      <td>We want to hear from you if you are a creative...</td>\n",
       "    </tr>\n",
       "    <tr>\n",
       "      <th>237</th>\n",
       "      <td>Business Analyst</td>\n",
       "      <td>NSW Public Service Commission</td>\n",
       "      <td>Sydney</td>\n",
       "      <td>7/26/2021</td>\n",
       "      <td>https://www.glassdoor.com/partner/jobListing.h...</td>\n",
       "      <td>Industry : N/A</td>\n",
       "      <td>Job Type : Full-time</td>\n",
       "      <td>NaN</td>\n",
       "      <td>Organisation/Entity: Transport For NSW\\nJob Ca...</td>\n",
       "    </tr>\n",
       "  </tbody>\n",
       "</table>\n",
       "</div>"
      ],
      "text/plain": [
       "                   Job Title                                   Company Name  \\\n",
       "236  Data & Insights Analyst  Australian Communications and Media Authority   \n",
       "237         Business Analyst                  NSW Public Service Commission   \n",
       "\n",
       "    Location Date Scraped                                            Job URL  \\\n",
       "236   Sydney    7/26/2021  https://www.glassdoor.com/partner/jobListing.h...   \n",
       "237   Sydney    7/26/2021  https://www.glassdoor.com/partner/jobListing.h...   \n",
       "\n",
       "              Job Industry              Job Type  Job Seniority  \\\n",
       "236  Industry : Government        Job Type : N/A            NaN   \n",
       "237         Industry : N/A  Job Type : Full-time            NaN   \n",
       "\n",
       "                                       Job Description  \n",
       "236  We want to hear from you if you are a creative...  \n",
       "237  Organisation/Entity: Transport For NSW\\nJob Ca...  "
      ]
     },
     "execution_count": 35,
     "metadata": {},
     "output_type": "execute_result"
    }
   ],
   "source": [
    "au_glass_df.head(2)"
   ]
  },
  {
   "cell_type": "code",
   "execution_count": 36,
   "id": "76be6923",
   "metadata": {},
   "outputs": [
    {
     "data": {
      "text/plain": [
       "Index(['Unnamed: 0', 'Job Title', 'Company Name', 'Location', 'Date Scraped',\n",
       "       'Job URL', 'Job Industry', 'Job Type', 'Job Seniority',\n",
       "       'Job Description'],\n",
       "      dtype='object')"
      ]
     },
     "execution_count": 36,
     "metadata": {},
     "output_type": "execute_result"
    }
   ],
   "source": [
    "au_indeed_df.columns"
   ]
  },
  {
   "cell_type": "code",
   "execution_count": 37,
   "id": "a99c02a8",
   "metadata": {},
   "outputs": [],
   "source": [
    "au_indeed_df.drop('Unnamed: 0',axis=1,inplace=True)"
   ]
  },
  {
   "cell_type": "code",
   "execution_count": 38,
   "id": "e3f6fad2",
   "metadata": {},
   "outputs": [
    {
     "data": {
      "text/html": [
       "<div>\n",
       "<style scoped>\n",
       "    .dataframe tbody tr th:only-of-type {\n",
       "        vertical-align: middle;\n",
       "    }\n",
       "\n",
       "    .dataframe tbody tr th {\n",
       "        vertical-align: top;\n",
       "    }\n",
       "\n",
       "    .dataframe thead th {\n",
       "        text-align: right;\n",
       "    }\n",
       "</style>\n",
       "<table border=\"1\" class=\"dataframe\">\n",
       "  <thead>\n",
       "    <tr style=\"text-align: right;\">\n",
       "      <th></th>\n",
       "      <th>Job Title</th>\n",
       "      <th>Company Name</th>\n",
       "      <th>Location</th>\n",
       "      <th>Date Scraped</th>\n",
       "      <th>Job URL</th>\n",
       "      <th>Job Industry</th>\n",
       "      <th>Job Type</th>\n",
       "      <th>Job Seniority</th>\n",
       "      <th>Job Description</th>\n",
       "    </tr>\n",
       "  </thead>\n",
       "  <tbody>\n",
       "    <tr>\n",
       "      <th>0</th>\n",
       "      <td>\\nRisk Advisory - Data &amp; Analytics - 2022 Grad...</td>\n",
       "      <td>Deloitte</td>\n",
       "      <td>Sydney NSW</td>\n",
       "      <td>7/18/2021</td>\n",
       "      <td>https://au.indeed.com/rc/clk?jk=fb0bbd1a5c9886...</td>\n",
       "      <td>NaN</td>\n",
       "      <td>NaN</td>\n",
       "      <td>NaN</td>\n",
       "      <td>Date: 18-Jul-2021\\n\\nLocation:\\nSydney, NSW, A...</td>\n",
       "    </tr>\n",
       "    <tr>\n",
       "      <th>1</th>\n",
       "      <td>Technical Business Analyst (Banking/Superannua...</td>\n",
       "      <td>Realtekh Australia</td>\n",
       "      <td>Sydney NSW</td>\n",
       "      <td>7/18/2021</td>\n",
       "      <td>https://au.indeed.com/company/Realtekh-Austral...</td>\n",
       "      <td>NaN</td>\n",
       "      <td>NaN</td>\n",
       "      <td>NaN</td>\n",
       "      <td>Role : Technical Business Analyst (Banking/Sup...</td>\n",
       "    </tr>\n",
       "  </tbody>\n",
       "</table>\n",
       "</div>"
      ],
      "text/plain": [
       "                                           Job Title        Company Name  \\\n",
       "0  \\nRisk Advisory - Data & Analytics - 2022 Grad...            Deloitte   \n",
       "1  Technical Business Analyst (Banking/Superannua...  Realtekh Australia   \n",
       "\n",
       "     Location Date Scraped                                            Job URL  \\\n",
       "0  Sydney NSW    7/18/2021  https://au.indeed.com/rc/clk?jk=fb0bbd1a5c9886...   \n",
       "1  Sydney NSW    7/18/2021  https://au.indeed.com/company/Realtekh-Austral...   \n",
       "\n",
       "   Job Industry  Job Type  Job Seniority  \\\n",
       "0           NaN       NaN            NaN   \n",
       "1           NaN       NaN            NaN   \n",
       "\n",
       "                                     Job Description  \n",
       "0  Date: 18-Jul-2021\\n\\nLocation:\\nSydney, NSW, A...  \n",
       "1  Role : Technical Business Analyst (Banking/Sup...  "
      ]
     },
     "execution_count": 38,
     "metadata": {},
     "output_type": "execute_result"
    }
   ],
   "source": [
    "au_indeed_df.head(2)"
   ]
  },
  {
   "cell_type": "code",
   "execution_count": 39,
   "id": "04d06d60",
   "metadata": {},
   "outputs": [
    {
     "data": {
      "text/plain": [
       "Index(['Job Title', 'Company Name', 'Location', 'Date Scraped', 'Job URL',\n",
       "       'Job Industry', 'Job Type', 'Job Seniority', 'Job Description',\n",
       "       'Unnamed: 9'],\n",
       "      dtype='object')"
      ]
     },
     "execution_count": 39,
     "metadata": {},
     "output_type": "execute_result"
    }
   ],
   "source": [
    "au_link_df.columns"
   ]
  },
  {
   "cell_type": "code",
   "execution_count": 40,
   "id": "bb565d7e",
   "metadata": {},
   "outputs": [
    {
     "data": {
      "text/html": [
       "<div>\n",
       "<style scoped>\n",
       "    .dataframe tbody tr th:only-of-type {\n",
       "        vertical-align: middle;\n",
       "    }\n",
       "\n",
       "    .dataframe tbody tr th {\n",
       "        vertical-align: top;\n",
       "    }\n",
       "\n",
       "    .dataframe thead th {\n",
       "        text-align: right;\n",
       "    }\n",
       "</style>\n",
       "<table border=\"1\" class=\"dataframe\">\n",
       "  <thead>\n",
       "    <tr style=\"text-align: right;\">\n",
       "      <th></th>\n",
       "      <th>Job Title</th>\n",
       "      <th>Company Name</th>\n",
       "      <th>Location</th>\n",
       "      <th>Date Scraped</th>\n",
       "      <th>Job URL</th>\n",
       "      <th>Job Industry</th>\n",
       "      <th>Job Type</th>\n",
       "      <th>Job Seniority</th>\n",
       "      <th>Job Description</th>\n",
       "      <th>Unnamed: 9</th>\n",
       "    </tr>\n",
       "  </thead>\n",
       "  <tbody>\n",
       "    <tr>\n",
       "      <th>0</th>\n",
       "      <td>0</td>\n",
       "      <td>Compliance Business Control Senior Analyst - F...</td>\n",
       "      <td>Citi</td>\n",
       "      <td>Sydney, New South Wales, Australia</td>\n",
       "      <td>7/26/2021</td>\n",
       "      <td>https://au.linkedin.com/jobs/view/compliance-b...</td>\n",
       "      <td>Banking, Financial Services, and Investment Ba...</td>\n",
       "      <td>Employment type\\nContract</td>\n",
       "      <td>Not Applicable</td>\n",
       "      <td>Job Id: 21314133  The Compl Bus Control Sr Ana...</td>\n",
       "    </tr>\n",
       "    <tr>\n",
       "      <th>1</th>\n",
       "      <td>1</td>\n",
       "      <td>Business Analyst</td>\n",
       "      <td>Transport for NSW</td>\n",
       "      <td>Burwood, New South Wales, Australia</td>\n",
       "      <td>7/26/2021</td>\n",
       "      <td>https://au.linkedin.com/jobs/view/business-ana...</td>\n",
       "      <td>Transportation/Trucking/Railroad</td>\n",
       "      <td>Employment type\\nFull-time</td>\n",
       "      <td>Mid-Senior level</td>\n",
       "      <td>About Us  Transport for NSW (TfNSW) is the lea...</td>\n",
       "    </tr>\n",
       "  </tbody>\n",
       "</table>\n",
       "</div>"
      ],
      "text/plain": [
       "   Job Title                                       Company Name  \\\n",
       "0          0  Compliance Business Control Senior Analyst - F...   \n",
       "1          1                                   Business Analyst   \n",
       "\n",
       "            Location                         Date Scraped    Job URL  \\\n",
       "0               Citi   Sydney, New South Wales, Australia  7/26/2021   \n",
       "1  Transport for NSW  Burwood, New South Wales, Australia  7/26/2021   \n",
       "\n",
       "                                        Job Industry  \\\n",
       "0  https://au.linkedin.com/jobs/view/compliance-b...   \n",
       "1  https://au.linkedin.com/jobs/view/business-ana...   \n",
       "\n",
       "                                            Job Type  \\\n",
       "0  Banking, Financial Services, and Investment Ba...   \n",
       "1                   Transportation/Trucking/Railroad   \n",
       "\n",
       "                Job Seniority   Job Description  \\\n",
       "0   Employment type\\nContract    Not Applicable   \n",
       "1  Employment type\\nFull-time  Mid-Senior level   \n",
       "\n",
       "                                          Unnamed: 9  \n",
       "0  Job Id: 21314133  The Compl Bus Control Sr Ana...  \n",
       "1  About Us  Transport for NSW (TfNSW) is the lea...  "
      ]
     },
     "execution_count": 40,
     "metadata": {},
     "output_type": "execute_result"
    }
   ],
   "source": [
    "au_link_df.head(2)"
   ]
  },
  {
   "cell_type": "code",
   "execution_count": 41,
   "id": "677b2e00",
   "metadata": {},
   "outputs": [],
   "source": [
    "au_link_df = au_link_df.drop('Job Title',axis=1).rename({'Company Name':'Job Title','Location':'Company Name','Date Scraped':'Location',\\\n",
    "'Job URL':'Date Scraped','Job Industry':'Job URL','Job Type':'Job Industry','Job Seniority':'Job Type','Job Description':'Job Seniority',\\\n",
    "'Unnamed: 9':'Job Description'},axis=1)"
   ]
  },
  {
   "cell_type": "code",
   "execution_count": 42,
   "id": "c66b0f43",
   "metadata": {},
   "outputs": [
    {
     "data": {
      "text/html": [
       "<div>\n",
       "<style scoped>\n",
       "    .dataframe tbody tr th:only-of-type {\n",
       "        vertical-align: middle;\n",
       "    }\n",
       "\n",
       "    .dataframe tbody tr th {\n",
       "        vertical-align: top;\n",
       "    }\n",
       "\n",
       "    .dataframe thead th {\n",
       "        text-align: right;\n",
       "    }\n",
       "</style>\n",
       "<table border=\"1\" class=\"dataframe\">\n",
       "  <thead>\n",
       "    <tr style=\"text-align: right;\">\n",
       "      <th></th>\n",
       "      <th>Job Title</th>\n",
       "      <th>Company Name</th>\n",
       "      <th>Location</th>\n",
       "      <th>Date Scraped</th>\n",
       "      <th>Job URL</th>\n",
       "      <th>Job Industry</th>\n",
       "      <th>Job Type</th>\n",
       "      <th>Job Seniority</th>\n",
       "      <th>Job Description</th>\n",
       "    </tr>\n",
       "  </thead>\n",
       "  <tbody>\n",
       "    <tr>\n",
       "      <th>0</th>\n",
       "      <td>Compliance Business Control Senior Analyst - F...</td>\n",
       "      <td>Citi</td>\n",
       "      <td>Sydney, New South Wales, Australia</td>\n",
       "      <td>7/26/2021</td>\n",
       "      <td>https://au.linkedin.com/jobs/view/compliance-b...</td>\n",
       "      <td>Banking, Financial Services, and Investment Ba...</td>\n",
       "      <td>Employment type\\nContract</td>\n",
       "      <td>Not Applicable</td>\n",
       "      <td>Job Id: 21314133  The Compl Bus Control Sr Ana...</td>\n",
       "    </tr>\n",
       "    <tr>\n",
       "      <th>1</th>\n",
       "      <td>Business Analyst</td>\n",
       "      <td>Transport for NSW</td>\n",
       "      <td>Burwood, New South Wales, Australia</td>\n",
       "      <td>7/26/2021</td>\n",
       "      <td>https://au.linkedin.com/jobs/view/business-ana...</td>\n",
       "      <td>Transportation/Trucking/Railroad</td>\n",
       "      <td>Employment type\\nFull-time</td>\n",
       "      <td>Mid-Senior level</td>\n",
       "      <td>About Us  Transport for NSW (TfNSW) is the lea...</td>\n",
       "    </tr>\n",
       "  </tbody>\n",
       "</table>\n",
       "</div>"
      ],
      "text/plain": [
       "                                           Job Title       Company Name  \\\n",
       "0  Compliance Business Control Senior Analyst - F...               Citi   \n",
       "1                                   Business Analyst  Transport for NSW   \n",
       "\n",
       "                              Location Date Scraped  \\\n",
       "0   Sydney, New South Wales, Australia    7/26/2021   \n",
       "1  Burwood, New South Wales, Australia    7/26/2021   \n",
       "\n",
       "                                             Job URL  \\\n",
       "0  https://au.linkedin.com/jobs/view/compliance-b...   \n",
       "1  https://au.linkedin.com/jobs/view/business-ana...   \n",
       "\n",
       "                                        Job Industry  \\\n",
       "0  Banking, Financial Services, and Investment Ba...   \n",
       "1                   Transportation/Trucking/Railroad   \n",
       "\n",
       "                     Job Type     Job Seniority  \\\n",
       "0   Employment type\\nContract    Not Applicable   \n",
       "1  Employment type\\nFull-time  Mid-Senior level   \n",
       "\n",
       "                                     Job Description  \n",
       "0  Job Id: 21314133  The Compl Bus Control Sr Ana...  \n",
       "1  About Us  Transport for NSW (TfNSW) is the lea...  "
      ]
     },
     "execution_count": 42,
     "metadata": {},
     "output_type": "execute_result"
    }
   ],
   "source": [
    "au_link_df.head(2)"
   ]
  },
  {
   "cell_type": "code",
   "execution_count": 43,
   "id": "112e16ab",
   "metadata": {},
   "outputs": [
    {
     "data": {
      "text/plain": [
       "Index(['Unnamed: 0', 'Job Title', 'Company Name', 'Location', 'Date Scraped',\n",
       "       'Job URL', 'Job Industry', 'Job Type', 'Job Seniority',\n",
       "       'Job Description'],\n",
       "      dtype='object')"
      ]
     },
     "execution_count": 43,
     "metadata": {},
     "output_type": "execute_result"
    }
   ],
   "source": [
    "au_seek_df.columns"
   ]
  },
  {
   "cell_type": "code",
   "execution_count": 44,
   "id": "e6aec7e6",
   "metadata": {},
   "outputs": [],
   "source": [
    "au_seek_df.drop('Unnamed: 0',axis=1,inplace=True)"
   ]
  },
  {
   "cell_type": "code",
   "execution_count": 45,
   "id": "d24d2ad7",
   "metadata": {},
   "outputs": [
    {
     "data": {
      "text/html": [
       "<div>\n",
       "<style scoped>\n",
       "    .dataframe tbody tr th:only-of-type {\n",
       "        vertical-align: middle;\n",
       "    }\n",
       "\n",
       "    .dataframe tbody tr th {\n",
       "        vertical-align: top;\n",
       "    }\n",
       "\n",
       "    .dataframe thead th {\n",
       "        text-align: right;\n",
       "    }\n",
       "</style>\n",
       "<table border=\"1\" class=\"dataframe\">\n",
       "  <thead>\n",
       "    <tr style=\"text-align: right;\">\n",
       "      <th></th>\n",
       "      <th>Job Title</th>\n",
       "      <th>Company Name</th>\n",
       "      <th>Location</th>\n",
       "      <th>Date Scraped</th>\n",
       "      <th>Job URL</th>\n",
       "      <th>Job Industry</th>\n",
       "      <th>Job Type</th>\n",
       "      <th>Job Seniority</th>\n",
       "      <th>Job Description</th>\n",
       "    </tr>\n",
       "  </thead>\n",
       "  <tbody>\n",
       "    <tr>\n",
       "      <th>0</th>\n",
       "      <td>Finance and Treasury Analyst</td>\n",
       "      <td>Gateway Bank Ltd</td>\n",
       "      <td>Sydney CBD, Inner West &amp; Eastern Suburbs</td>\n",
       "      <td>7/24/2021</td>\n",
       "      <td>https://www.seek.com.au/job/53012632?type=prom...</td>\n",
       "      <td>Accounting</td>\n",
       "      <td>Contract/Temp</td>\n",
       "      <td>NaN</td>\n",
       "      <td>This is a great opportunity for a junior Finan...</td>\n",
       "    </tr>\n",
       "    <tr>\n",
       "      <th>1</th>\n",
       "      <td>Junior Business Analyst - Data Entry</td>\n",
       "      <td>Talent Connect Australia</td>\n",
       "      <td>Sydney CBD, Inner West &amp; Eastern Suburbs</td>\n",
       "      <td>7/24/2021</td>\n",
       "      <td>https://www.seek.com.au/job/53114558?type=stan...</td>\n",
       "      <td>Information &amp; Communication Technology</td>\n",
       "      <td>Contract/Temp</td>\n",
       "      <td>NaN</td>\n",
       "      <td>Talent Connect are currently partnering with a...</td>\n",
       "    </tr>\n",
       "  </tbody>\n",
       "</table>\n",
       "</div>"
      ],
      "text/plain": [
       "                              Job Title              Company Name  \\\n",
       "0          Finance and Treasury Analyst          Gateway Bank Ltd   \n",
       "1  Junior Business Analyst - Data Entry  Talent Connect Australia   \n",
       "\n",
       "                                   Location Date Scraped  \\\n",
       "0  Sydney CBD, Inner West & Eastern Suburbs    7/24/2021   \n",
       "1  Sydney CBD, Inner West & Eastern Suburbs    7/24/2021   \n",
       "\n",
       "                                             Job URL  \\\n",
       "0  https://www.seek.com.au/job/53012632?type=prom...   \n",
       "1  https://www.seek.com.au/job/53114558?type=stan...   \n",
       "\n",
       "                             Job Industry       Job Type  Job Seniority  \\\n",
       "0                              Accounting  Contract/Temp            NaN   \n",
       "1  Information & Communication Technology  Contract/Temp            NaN   \n",
       "\n",
       "                                     Job Description  \n",
       "0  This is a great opportunity for a junior Finan...  \n",
       "1  Talent Connect are currently partnering with a...  "
      ]
     },
     "execution_count": 45,
     "metadata": {},
     "output_type": "execute_result"
    }
   ],
   "source": [
    "au_seek_df.head(2)"
   ]
  },
  {
   "cell_type": "markdown",
   "id": "a092a43b",
   "metadata": {},
   "source": [
    "## Let the EDA begin"
   ]
  },
  {
   "cell_type": "markdown",
   "id": "71ab5763",
   "metadata": {},
   "source": [
    "How will we handle it? We have to make a few decisions:\n",
    "1. Will we find the most required skills for all of the countries altogether? Or will we address each separately?\n",
    "2. Will we use any of the columns to group our information or analyze the dataset as a whole?\n",
    "3. How will we work on the long text data? "
   ]
  },
  {
   "cell_type": "markdown",
   "id": "36becc44",
   "metadata": {},
   "source": [
    "1. As we will be deciding beforehand which country i'm moving to, I will address each country required skills separately\n",
    "2. We will be looking for skills required for each position. It's likely that we will have to standirize the Job titles as different companies call the same positions different names\n",
    "3. As we dive deeper into the data, we will be exploring different options."
   ]
  },
  {
   "cell_type": "markdown",
   "id": "a0c828ef",
   "metadata": {},
   "source": [
    "### Australian DFs"
   ]
  },
  {
   "cell_type": "markdown",
   "id": "bb621f7f",
   "metadata": {},
   "source": [
    "First, we will concatenate all the dfs to be analyze the country data as a whole"
   ]
  },
  {
   "cell_type": "code",
   "execution_count": 46,
   "id": "b187479b",
   "metadata": {},
   "outputs": [],
   "source": [
    "df_au_concat = pd.concat([au_glass_df,\n",
    "au_indeed_df,\n",
    "au_link_df,\n",
    "au_seek_df])"
   ]
  },
  {
   "cell_type": "code",
   "execution_count": 47,
   "id": "e511a72a",
   "metadata": {},
   "outputs": [
    {
     "data": {
      "text/html": [
       "<div>\n",
       "<style scoped>\n",
       "    .dataframe tbody tr th:only-of-type {\n",
       "        vertical-align: middle;\n",
       "    }\n",
       "\n",
       "    .dataframe tbody tr th {\n",
       "        vertical-align: top;\n",
       "    }\n",
       "\n",
       "    .dataframe thead th {\n",
       "        text-align: right;\n",
       "    }\n",
       "</style>\n",
       "<table border=\"1\" class=\"dataframe\">\n",
       "  <thead>\n",
       "    <tr style=\"text-align: right;\">\n",
       "      <th></th>\n",
       "      <th>Job Title</th>\n",
       "      <th>Company Name</th>\n",
       "      <th>Location</th>\n",
       "      <th>Date Scraped</th>\n",
       "      <th>Job URL</th>\n",
       "      <th>Job Industry</th>\n",
       "      <th>Job Type</th>\n",
       "      <th>Job Seniority</th>\n",
       "      <th>Job Description</th>\n",
       "    </tr>\n",
       "  </thead>\n",
       "  <tbody>\n",
       "    <tr>\n",
       "      <th>236</th>\n",
       "      <td>Data &amp; Insights Analyst</td>\n",
       "      <td>Australian Communications and Media Authority</td>\n",
       "      <td>Sydney</td>\n",
       "      <td>7/26/2021</td>\n",
       "      <td>https://www.glassdoor.com/partner/jobListing.h...</td>\n",
       "      <td>Industry : Government</td>\n",
       "      <td>Job Type : N/A</td>\n",
       "      <td>NaN</td>\n",
       "      <td>We want to hear from you if you are a creative...</td>\n",
       "    </tr>\n",
       "    <tr>\n",
       "      <th>237</th>\n",
       "      <td>Business Analyst</td>\n",
       "      <td>NSW Public Service Commission</td>\n",
       "      <td>Sydney</td>\n",
       "      <td>7/26/2021</td>\n",
       "      <td>https://www.glassdoor.com/partner/jobListing.h...</td>\n",
       "      <td>Industry : N/A</td>\n",
       "      <td>Job Type : Full-time</td>\n",
       "      <td>NaN</td>\n",
       "      <td>Organisation/Entity: Transport For NSW\\nJob Ca...</td>\n",
       "    </tr>\n",
       "  </tbody>\n",
       "</table>\n",
       "</div>"
      ],
      "text/plain": [
       "                   Job Title                                   Company Name  \\\n",
       "236  Data & Insights Analyst  Australian Communications and Media Authority   \n",
       "237         Business Analyst                  NSW Public Service Commission   \n",
       "\n",
       "    Location Date Scraped                                            Job URL  \\\n",
       "236   Sydney    7/26/2021  https://www.glassdoor.com/partner/jobListing.h...   \n",
       "237   Sydney    7/26/2021  https://www.glassdoor.com/partner/jobListing.h...   \n",
       "\n",
       "              Job Industry              Job Type Job Seniority  \\\n",
       "236  Industry : Government        Job Type : N/A           NaN   \n",
       "237         Industry : N/A  Job Type : Full-time           NaN   \n",
       "\n",
       "                                       Job Description  \n",
       "236  We want to hear from you if you are a creative...  \n",
       "237  Organisation/Entity: Transport For NSW\\nJob Ca...  "
      ]
     },
     "execution_count": 47,
     "metadata": {},
     "output_type": "execute_result"
    }
   ],
   "source": [
    "df_au_concat.head(2)"
   ]
  },
  {
   "cell_type": "markdown",
   "id": "480a62ff",
   "metadata": {},
   "source": [
    "To simplify analysis, we will reset the index"
   ]
  },
  {
   "cell_type": "code",
   "execution_count": 48,
   "id": "a73c087f",
   "metadata": {},
   "outputs": [],
   "source": [
    "df_au_concat.reset_index(drop=True,inplace=True)"
   ]
  },
  {
   "cell_type": "markdown",
   "id": "400cbb92",
   "metadata": {},
   "source": [
    "### Language detection"
   ]
  },
  {
   "cell_type": "markdown",
   "id": "e004eaff",
   "metadata": {},
   "source": [
    "Just to make sure we have reliable information, we will be using a language detection tool"
   ]
  },
  {
   "cell_type": "code",
   "execution_count": 49,
   "id": "fb4a369c",
   "metadata": {},
   "outputs": [
    {
     "name": "stdout",
     "output_type": "stream",
     "text": [
      "We want to hear from you if you are a cr  -->  en\n"
     ]
    }
   ],
   "source": [
    "txt = df_au_concat[\"Job Description\"].iloc[0]\n",
    "print(txt[0:40], \" --> \", langdetect.detect(txt))"
   ]
  },
  {
   "cell_type": "code",
   "execution_count": 50,
   "id": "bc0fda79",
   "metadata": {},
   "outputs": [
    {
     "data": {
      "text/html": [
       "<div>\n",
       "<style scoped>\n",
       "    .dataframe tbody tr th:only-of-type {\n",
       "        vertical-align: middle;\n",
       "    }\n",
       "\n",
       "    .dataframe tbody tr th {\n",
       "        vertical-align: top;\n",
       "    }\n",
       "\n",
       "    .dataframe thead th {\n",
       "        text-align: right;\n",
       "    }\n",
       "</style>\n",
       "<table border=\"1\" class=\"dataframe\">\n",
       "  <thead>\n",
       "    <tr style=\"text-align: right;\">\n",
       "      <th></th>\n",
       "      <th>Job Title</th>\n",
       "      <th>Company Name</th>\n",
       "      <th>Location</th>\n",
       "      <th>Date Scraped</th>\n",
       "      <th>Job URL</th>\n",
       "      <th>Job Industry</th>\n",
       "      <th>Job Type</th>\n",
       "      <th>Job Seniority</th>\n",
       "      <th>Job Description</th>\n",
       "      <th>lang</th>\n",
       "    </tr>\n",
       "  </thead>\n",
       "  <tbody>\n",
       "    <tr>\n",
       "      <th>0</th>\n",
       "      <td>Data &amp; Insights Analyst</td>\n",
       "      <td>Australian Communications and Media Authority</td>\n",
       "      <td>Sydney</td>\n",
       "      <td>7/26/2021</td>\n",
       "      <td>https://www.glassdoor.com/partner/jobListing.h...</td>\n",
       "      <td>Industry : Government</td>\n",
       "      <td>Job Type : N/A</td>\n",
       "      <td>NaN</td>\n",
       "      <td>We want to hear from you if you are a creative...</td>\n",
       "      <td>en</td>\n",
       "    </tr>\n",
       "    <tr>\n",
       "      <th>1</th>\n",
       "      <td>Business Analyst</td>\n",
       "      <td>NSW Public Service Commission</td>\n",
       "      <td>Sydney</td>\n",
       "      <td>7/26/2021</td>\n",
       "      <td>https://www.glassdoor.com/partner/jobListing.h...</td>\n",
       "      <td>Industry : N/A</td>\n",
       "      <td>Job Type : Full-time</td>\n",
       "      <td>NaN</td>\n",
       "      <td>Organisation/Entity: Transport For NSW\\nJob Ca...</td>\n",
       "      <td>en</td>\n",
       "    </tr>\n",
       "    <tr>\n",
       "      <th>2</th>\n",
       "      <td>CRM Analyst</td>\n",
       "      <td>Hanes Brands</td>\n",
       "      <td>Alexandria</td>\n",
       "      <td>7/26/2021</td>\n",
       "      <td>https://www.glassdoor.com/partner/jobListing.h...</td>\n",
       "      <td>Industry : Manufacturing</td>\n",
       "      <td>Job Type : Full-time</td>\n",
       "      <td>NaN</td>\n",
       "      <td>Newly created role within our Online team, own...</td>\n",
       "      <td>en</td>\n",
       "    </tr>\n",
       "    <tr>\n",
       "      <th>3</th>\n",
       "      <td>Professional, Data Analysis</td>\n",
       "      <td>NaN</td>\n",
       "      <td>Sydney</td>\n",
       "      <td>7/26/2021</td>\n",
       "      <td>https://www.glassdoor.com/partner/jobListing.h...</td>\n",
       "      <td>Industry : Information Technology</td>\n",
       "      <td>Job Type : Full-time</td>\n",
       "      <td>NaN</td>\n",
       "      <td>Job Summary:\\nJoin our team of over 5,000 empl...</td>\n",
       "      <td>en</td>\n",
       "    </tr>\n",
       "    <tr>\n",
       "      <th>4</th>\n",
       "      <td>Business Analyst</td>\n",
       "      <td>Corporate Services</td>\n",
       "      <td>Sydney</td>\n",
       "      <td>7/26/2021</td>\n",
       "      <td>https://www.glassdoor.com/partner/jobListing.h...</td>\n",
       "      <td>Industry : Business Services</td>\n",
       "      <td>Job Type : Full-time</td>\n",
       "      <td>NaN</td>\n",
       "      <td>About us\\n\\nTransport for NSW (TfNSW) is the l...</td>\n",
       "      <td>en</td>\n",
       "    </tr>\n",
       "  </tbody>\n",
       "</table>\n",
       "</div>"
      ],
      "text/plain": [
       "                     Job Title                                   Company Name  \\\n",
       "0      Data & Insights Analyst  Australian Communications and Media Authority   \n",
       "1             Business Analyst                  NSW Public Service Commission   \n",
       "2                  CRM Analyst                                   Hanes Brands   \n",
       "3  Professional, Data Analysis                                            NaN   \n",
       "4             Business Analyst                             Corporate Services   \n",
       "\n",
       "     Location Date Scraped                                            Job URL  \\\n",
       "0      Sydney    7/26/2021  https://www.glassdoor.com/partner/jobListing.h...   \n",
       "1      Sydney    7/26/2021  https://www.glassdoor.com/partner/jobListing.h...   \n",
       "2  Alexandria    7/26/2021  https://www.glassdoor.com/partner/jobListing.h...   \n",
       "3      Sydney    7/26/2021  https://www.glassdoor.com/partner/jobListing.h...   \n",
       "4      Sydney    7/26/2021  https://www.glassdoor.com/partner/jobListing.h...   \n",
       "\n",
       "                        Job Industry              Job Type Job Seniority  \\\n",
       "0              Industry : Government        Job Type : N/A           NaN   \n",
       "1                     Industry : N/A  Job Type : Full-time           NaN   \n",
       "2           Industry : Manufacturing  Job Type : Full-time           NaN   \n",
       "3  Industry : Information Technology  Job Type : Full-time           NaN   \n",
       "4       Industry : Business Services  Job Type : Full-time           NaN   \n",
       "\n",
       "                                     Job Description lang  \n",
       "0  We want to hear from you if you are a creative...   en  \n",
       "1  Organisation/Entity: Transport For NSW\\nJob Ca...   en  \n",
       "2  Newly created role within our Online team, own...   en  \n",
       "3  Job Summary:\\nJoin our team of over 5,000 empl...   en  \n",
       "4  About us\\n\\nTransport for NSW (TfNSW) is the l...   en  "
      ]
     },
     "execution_count": 50,
     "metadata": {},
     "output_type": "execute_result"
    }
   ],
   "source": [
    "df_au_concat['lang'] = df_au_concat.fillna('')['Job Description'].apply(lambda x: langdetect.detect(x) if str(x).strip() != \"\" else \"\")\n",
    "df_au_concat.head()"
   ]
  },
  {
   "cell_type": "code",
   "execution_count": 51,
   "id": "a18ff274",
   "metadata": {},
   "outputs": [
    {
     "data": {
      "text/plain": [
       "en    4103\n",
       "        91\n",
       "pt       1\n",
       "Name: lang, dtype: int64"
      ]
     },
     "execution_count": 51,
     "metadata": {},
     "output_type": "execute_result"
    }
   ],
   "source": [
    "df_au_concat['lang'].value_counts()"
   ]
  },
  {
   "cell_type": "markdown",
   "id": "3741f58c",
   "metadata": {},
   "source": [
    "#### Let's take a look at the non-english results"
   ]
  },
  {
   "cell_type": "code",
   "execution_count": 52,
   "id": "5e31ce72",
   "metadata": {},
   "outputs": [
    {
     "data": {
      "text/html": [
       "<div>\n",
       "<style scoped>\n",
       "    .dataframe tbody tr th:only-of-type {\n",
       "        vertical-align: middle;\n",
       "    }\n",
       "\n",
       "    .dataframe tbody tr th {\n",
       "        vertical-align: top;\n",
       "    }\n",
       "\n",
       "    .dataframe thead th {\n",
       "        text-align: right;\n",
       "    }\n",
       "</style>\n",
       "<table border=\"1\" class=\"dataframe\">\n",
       "  <thead>\n",
       "    <tr style=\"text-align: right;\">\n",
       "      <th></th>\n",
       "      <th>Job Title</th>\n",
       "      <th>Company Name</th>\n",
       "      <th>Location</th>\n",
       "      <th>Date Scraped</th>\n",
       "      <th>Job URL</th>\n",
       "      <th>Job Industry</th>\n",
       "      <th>Job Type</th>\n",
       "      <th>Job Seniority</th>\n",
       "      <th>Job Description</th>\n",
       "      <th>lang</th>\n",
       "    </tr>\n",
       "  </thead>\n",
       "  <tbody>\n",
       "    <tr>\n",
       "      <th>1016</th>\n",
       "      <td>Application Development Senior Analyst</td>\n",
       "      <td>Jobs on jobactive</td>\n",
       "      <td>Sydney, New South Wales, Australia</td>\n",
       "      <td>2021-07-27</td>\n",
       "      <td>https://au.linkedin.com/jobs/view/application-...</td>\n",
       "      <td>NaN</td>\n",
       "      <td>NaN</td>\n",
       "      <td>NaN</td>\n",
       "      <td>NaN</td>\n",
       "      <td></td>\n",
       "    </tr>\n",
       "    <tr>\n",
       "      <th>1020</th>\n",
       "      <td>Business Analyst - Murex / Front Office</td>\n",
       "      <td>Excelian | Luxoft Financial Services</td>\n",
       "      <td>Sydney, New South Wales, Australia</td>\n",
       "      <td>2021-07-27</td>\n",
       "      <td>https://au.linkedin.com/jobs/view/business-ana...</td>\n",
       "      <td>NaN</td>\n",
       "      <td>NaN</td>\n",
       "      <td>NaN</td>\n",
       "      <td>NaN</td>\n",
       "      <td></td>\n",
       "    </tr>\n",
       "  </tbody>\n",
       "</table>\n",
       "</div>"
      ],
      "text/plain": [
       "                                    Job Title  \\\n",
       "1016   Application Development Senior Analyst   \n",
       "1020  Business Analyst - Murex / Front Office   \n",
       "\n",
       "                              Company Name  \\\n",
       "1016                     Jobs on jobactive   \n",
       "1020  Excelian | Luxoft Financial Services   \n",
       "\n",
       "                                Location Date Scraped  \\\n",
       "1016  Sydney, New South Wales, Australia   2021-07-27   \n",
       "1020  Sydney, New South Wales, Australia   2021-07-27   \n",
       "\n",
       "                                                Job URL Job Industry Job Type  \\\n",
       "1016  https://au.linkedin.com/jobs/view/application-...          NaN      NaN   \n",
       "1020  https://au.linkedin.com/jobs/view/business-ana...          NaN      NaN   \n",
       "\n",
       "     Job Seniority Job Description lang  \n",
       "1016           NaN             NaN       \n",
       "1020           NaN             NaN       "
      ]
     },
     "execution_count": 52,
     "metadata": {},
     "output_type": "execute_result"
    }
   ],
   "source": [
    "df_au_concat[df_au_concat['lang']==''].head(2)"
   ]
  },
  {
   "cell_type": "markdown",
   "id": "7a83bd51",
   "metadata": {},
   "source": [
    "The results where lang is empty are the ones where the job description field is empty, which makes sense. We should consider either completing the fields or dropping them as we won't be able to analyze the most fetched skills from them."
   ]
  },
  {
   "cell_type": "markdown",
   "id": "899cf2a7",
   "metadata": {},
   "source": [
    "#### Let's take a look at the 'pt' ocurrence"
   ]
  },
  {
   "cell_type": "code",
   "execution_count": 53,
   "id": "d26373f4",
   "metadata": {},
   "outputs": [
    {
     "data": {
      "text/plain": [
       "'The Business Process Consultant (BPC) will be responsible for delivering Industry best practices around platform implementation. The BPC is responsible for providing subject matter expertise within the industry. The BPC will establish, implement, and manage the business change required within a customer’s organization.  The BPC will lead all business process change aspects of the project delivery and solution delivery, be responsible for maintaining a high degree of expertise in ServiceNow best practices and hold yourself to high standards when implementing. Responsibilities include                                                                           Junte-se a nós. Seja parte da mudança. Sua carreira depende do que você quer ser e quem você quer ser. Trata-se de trazer suas capacidades, curiosidade e verdadeira essência para o seu trabalho. Na Accenture, você combinará sua criatividade com as mais recentes tecnologias para fazer coisas incríveis.  Somos uma comunidade global de profissionais apaixonados por tecnologia, projetos inovadores e ávidos por trabalhar em times de alta performance, com as mais recentes tecnologias como computação em nuvem, inteligência artificial, analytics, na transformação das maiores e mais respeitadas empresas do mundo.  Valorizamos o comprometimento com a criação de valor para os nossos clientes, o aprendizado contínuo, a nossa marca e reputação no mercado, a colaboração entre os nossos profissionais, com os nossos clientes e com a comunidade, o trabalho em equipe, o mindset e execução ágil, o respeito as pessoas, nossa rede global e, principalmente, os nossos profissionais.'"
      ]
     },
     "execution_count": 53,
     "metadata": {},
     "output_type": "execute_result"
    }
   ],
   "source": [
    "df_au_concat[df_au_concat['lang']=='pt']['Job Description'][1176]"
   ]
  },
  {
   "cell_type": "markdown",
   "id": "6c1c12eb",
   "metadata": {},
   "source": [
    "The job posting seems to be written in two languages: english and portuguese, and the language detection library accurately revealed that most of the text was written in portuguese. We can easily drop it as it is just one observation."
   ]
  },
  {
   "cell_type": "code",
   "execution_count": 54,
   "id": "6179ba43",
   "metadata": {},
   "outputs": [],
   "source": [
    "df_au_concat.drop(1176,inplace=True)"
   ]
  },
  {
   "cell_type": "markdown",
   "id": "7d38da93",
   "metadata": {},
   "source": [
    "#### Checking the job title distribution"
   ]
  },
  {
   "cell_type": "code",
   "execution_count": 55,
   "id": "06e00854",
   "metadata": {},
   "outputs": [
    {
     "data": {
      "text/plain": [
       "Business Analyst                     4.22\n",
       "Senior Business Analyst              2.81\n",
       "Data Analyst                         2.00\n",
       "Data Engineer                        1.91\n",
       "Software Engineer                    1.84\n",
       "Technical Business Analyst           1.62\n",
       "Senior Technical Business Analyst    0.72\n",
       "Senior Data Analyst                  0.57\n",
       "Software Developer                   0.48\n",
       "Motorcycle Postie                    0.43\n",
       "Name: Job Title, dtype: float64"
      ]
     },
     "execution_count": 55,
     "metadata": {},
     "output_type": "execute_result"
    }
   ],
   "source": [
    "round(df_au_concat['Job Title'].value_counts()/len(df_au_concat)*100,2)[0:10]"
   ]
  },
  {
   "cell_type": "markdown",
   "id": "6ce51f52",
   "metadata": {},
   "source": [
    "As we can see, the prevalent job title is Business analyst. However, we can see that senior business analyst is the second most fetched position. We will have to make a decision whether to merge these kind of ocurrences or not. Same case scenario with Software Engineer, for example."
   ]
  },
  {
   "cell_type": "code",
   "execution_count": 56,
   "id": "71653a44",
   "metadata": {},
   "outputs": [
    {
     "data": {
      "text/plain": [
       "1113"
      ]
     },
     "execution_count": 56,
     "metadata": {},
     "output_type": "execute_result"
    }
   ],
   "source": [
    "# We look for all of the job titles that contain business in them, as it is the positions we will be looking for\n",
    "df_au_concat[df_au_concat['Job Title'].str.contains('Business').fillna(False)]['Job Title'].value_counts().sum()"
   ]
  },
  {
   "cell_type": "markdown",
   "id": "93776890",
   "metadata": {},
   "source": [
    "1/4th of the job postings that we scraped contain business in the Job Title field. I believe this is a good enough sample to estimate the most requested skills. Hands on. "
   ]
  },
  {
   "cell_type": "code",
   "execution_count": 57,
   "id": "54549c4d",
   "metadata": {},
   "outputs": [],
   "source": [
    "# Saving the rows that comply with the condition set\n",
    "df_business_au = df_au_concat[df_au_concat['Job Title'].str.contains('Business').fillna(False)]"
   ]
  },
  {
   "cell_type": "code",
   "execution_count": 58,
   "id": "6e22b663",
   "metadata": {},
   "outputs": [],
   "source": [
    "df_analyst_au = df_au_concat[df_au_concat['Job Title'].str.contains('Analyst').fillna(False)]"
   ]
  },
  {
   "cell_type": "code",
   "execution_count": 59,
   "id": "431df822",
   "metadata": {},
   "outputs": [],
   "source": [
    "df_data_analytics_au = df_au_concat[df_au_concat['Job Title'].str.contains('Data Analytics').fillna(False)]"
   ]
  },
  {
   "cell_type": "code",
   "execution_count": 60,
   "id": "2cdf5827",
   "metadata": {},
   "outputs": [],
   "source": [
    "df_tableau_au = df_au_concat[df_au_concat['Job Title'].str.contains('Tableau').fillna(False)]"
   ]
  },
  {
   "cell_type": "code",
   "execution_count": 61,
   "id": "ea1e9120",
   "metadata": {},
   "outputs": [],
   "source": [
    "df_bi_au = df_au_concat[df_au_concat['Job Title'].str.contains('Business Intelligence').fillna(False)]"
   ]
  },
  {
   "cell_type": "code",
   "execution_count": 62,
   "id": "43abc01c",
   "metadata": {},
   "outputs": [],
   "source": [
    "df_risk_au = df_au_concat[df_au_concat['Job Title'].str.contains('Risk').fillna(False)]"
   ]
  },
  {
   "cell_type": "code",
   "execution_count": 63,
   "id": "e0720801",
   "metadata": {},
   "outputs": [],
   "source": [
    "df_customer_au = df_au_concat[df_au_concat['Job Title'].str.contains('Customer').fillna(False)]"
   ]
  },
  {
   "cell_type": "code",
   "execution_count": 64,
   "id": "ea5d4156",
   "metadata": {},
   "outputs": [],
   "source": [
    "df_product_au = df_au_concat[df_au_concat['Job Title'].str.contains('Product').fillna(False)]"
   ]
  },
  {
   "cell_type": "code",
   "execution_count": 65,
   "id": "8d85498d",
   "metadata": {},
   "outputs": [],
   "source": [
    "df_insights_au = df_au_concat[df_au_concat['Job Title'].str.contains('Insights').fillna(False)]"
   ]
  },
  {
   "cell_type": "code",
   "execution_count": 66,
   "id": "c2146eac",
   "metadata": {},
   "outputs": [],
   "source": [
    "df_full_concat_au = pd.concat([df_business_au,df_analyst_au,df_data_analytics_au,df_tableau_au,df_bi_au,df_risk_au,df_customer_au,df_product_au,df_insights_au])"
   ]
  },
  {
   "cell_type": "code",
   "execution_count": 67,
   "id": "8fa47691",
   "metadata": {},
   "outputs": [],
   "source": [
    "df_full_concat_au.drop_duplicates(inplace=True)"
   ]
  },
  {
   "cell_type": "code",
   "execution_count": 68,
   "id": "7b385e43",
   "metadata": {},
   "outputs": [
    {
     "data": {
      "text/plain": [
       "2570"
      ]
     },
     "execution_count": 68,
     "metadata": {},
     "output_type": "execute_result"
    }
   ],
   "source": [
    "len(df_full_concat_au)"
   ]
  },
  {
   "cell_type": "code",
   "execution_count": 69,
   "id": "2b430660",
   "metadata": {},
   "outputs": [
    {
     "data": {
      "text/html": [
       "<div>\n",
       "<style scoped>\n",
       "    .dataframe tbody tr th:only-of-type {\n",
       "        vertical-align: middle;\n",
       "    }\n",
       "\n",
       "    .dataframe tbody tr th {\n",
       "        vertical-align: top;\n",
       "    }\n",
       "\n",
       "    .dataframe thead th {\n",
       "        text-align: right;\n",
       "    }\n",
       "</style>\n",
       "<table border=\"1\" class=\"dataframe\">\n",
       "  <thead>\n",
       "    <tr style=\"text-align: right;\">\n",
       "      <th></th>\n",
       "      <th>Job Title</th>\n",
       "      <th>Company Name</th>\n",
       "      <th>Location</th>\n",
       "      <th>Date Scraped</th>\n",
       "      <th>Job URL</th>\n",
       "      <th>Job Industry</th>\n",
       "      <th>Job Type</th>\n",
       "      <th>Job Seniority</th>\n",
       "      <th>Job Description</th>\n",
       "      <th>lang</th>\n",
       "    </tr>\n",
       "  </thead>\n",
       "  <tbody>\n",
       "    <tr>\n",
       "      <th>1</th>\n",
       "      <td>Business Analyst</td>\n",
       "      <td>NSW Public Service Commission</td>\n",
       "      <td>Sydney</td>\n",
       "      <td>7/26/2021</td>\n",
       "      <td>https://www.glassdoor.com/partner/jobListing.h...</td>\n",
       "      <td>Industry : N/A</td>\n",
       "      <td>Job Type : Full-time</td>\n",
       "      <td>NaN</td>\n",
       "      <td>Organisation/Entity: Transport For NSW\\nJob Ca...</td>\n",
       "      <td>en</td>\n",
       "    </tr>\n",
       "    <tr>\n",
       "      <th>4</th>\n",
       "      <td>Business Analyst</td>\n",
       "      <td>Corporate Services</td>\n",
       "      <td>Sydney</td>\n",
       "      <td>7/26/2021</td>\n",
       "      <td>https://www.glassdoor.com/partner/jobListing.h...</td>\n",
       "      <td>Industry : Business Services</td>\n",
       "      <td>Job Type : Full-time</td>\n",
       "      <td>NaN</td>\n",
       "      <td>About us\\n\\nTransport for NSW (TfNSW) is the l...</td>\n",
       "      <td>en</td>\n",
       "    </tr>\n",
       "    <tr>\n",
       "      <th>8</th>\n",
       "      <td>Business Analyst</td>\n",
       "      <td>Macquarie Group Limited</td>\n",
       "      <td>Sydney</td>\n",
       "      <td>7/26/2021</td>\n",
       "      <td>https://www.glassdoor.com/partner/jobListing.h...</td>\n",
       "      <td>Industry : Finance</td>\n",
       "      <td>Job Type : Full-time</td>\n",
       "      <td>NaN</td>\n",
       "      <td>Our Macquarie Asset Management division has em...</td>\n",
       "      <td>en</td>\n",
       "    </tr>\n",
       "    <tr>\n",
       "      <th>12</th>\n",
       "      <td>Business Analyst - Finance</td>\n",
       "      <td>humm</td>\n",
       "      <td>Sydney</td>\n",
       "      <td>7/26/2021</td>\n",
       "      <td>https://www.glassdoor.com/partner/jobListing.h...</td>\n",
       "      <td>Industry : N/A</td>\n",
       "      <td>Job Type : Full-time</td>\n",
       "      <td>NaN</td>\n",
       "      <td>hummgroup (ASX-HUM) is one of Australasia’s mo...</td>\n",
       "      <td>en</td>\n",
       "    </tr>\n",
       "    <tr>\n",
       "      <th>15</th>\n",
       "      <td>Technical Business Analyst</td>\n",
       "      <td>CoreLogic</td>\n",
       "      <td>Sydney</td>\n",
       "      <td>7/26/2021</td>\n",
       "      <td>https://www.glassdoor.com/partner/jobListing.h...</td>\n",
       "      <td>Industry : Information Technology</td>\n",
       "      <td>Job Type : Full-time</td>\n",
       "      <td>NaN</td>\n",
       "      <td>Job Summary:\\nJoin our team of over 5,000 empl...</td>\n",
       "      <td>en</td>\n",
       "    </tr>\n",
       "  </tbody>\n",
       "</table>\n",
       "</div>"
      ],
      "text/plain": [
       "                     Job Title                   Company Name Location  \\\n",
       "1             Business Analyst  NSW Public Service Commission   Sydney   \n",
       "4             Business Analyst             Corporate Services   Sydney   \n",
       "8             Business Analyst        Macquarie Group Limited   Sydney   \n",
       "12  Business Analyst - Finance                           humm   Sydney   \n",
       "15  Technical Business Analyst                      CoreLogic   Sydney   \n",
       "\n",
       "   Date Scraped                                            Job URL  \\\n",
       "1     7/26/2021  https://www.glassdoor.com/partner/jobListing.h...   \n",
       "4     7/26/2021  https://www.glassdoor.com/partner/jobListing.h...   \n",
       "8     7/26/2021  https://www.glassdoor.com/partner/jobListing.h...   \n",
       "12    7/26/2021  https://www.glassdoor.com/partner/jobListing.h...   \n",
       "15    7/26/2021  https://www.glassdoor.com/partner/jobListing.h...   \n",
       "\n",
       "                         Job Industry              Job Type Job Seniority  \\\n",
       "1                      Industry : N/A  Job Type : Full-time           NaN   \n",
       "4        Industry : Business Services  Job Type : Full-time           NaN   \n",
       "8                  Industry : Finance  Job Type : Full-time           NaN   \n",
       "12                     Industry : N/A  Job Type : Full-time           NaN   \n",
       "15  Industry : Information Technology  Job Type : Full-time           NaN   \n",
       "\n",
       "                                      Job Description lang  \n",
       "1   Organisation/Entity: Transport For NSW\\nJob Ca...   en  \n",
       "4   About us\\n\\nTransport for NSW (TfNSW) is the l...   en  \n",
       "8   Our Macquarie Asset Management division has em...   en  \n",
       "12  hummgroup (ASX-HUM) is one of Australasia’s mo...   en  \n",
       "15  Job Summary:\\nJoin our team of over 5,000 empl...   en  "
      ]
     },
     "execution_count": 69,
     "metadata": {},
     "output_type": "execute_result"
    }
   ],
   "source": [
    "df_full_concat_au.head()"
   ]
  },
  {
   "cell_type": "markdown",
   "id": "44248c8e",
   "metadata": {},
   "source": [
    "### Text analysis"
   ]
  },
  {
   "cell_type": "markdown",
   "id": "3c05f0ab",
   "metadata": {},
   "source": [
    "As we won't be modelling, we will be looking for some commonly asked for skills and we will measure how much they are mentioned in different job postings. For this, we will be using the str.contains method as used above. "
   ]
  },
  {
   "cell_type": "markdown",
   "id": "19a74540",
   "metadata": {},
   "source": [
    "##### Skills that we will be looking for\n",
    "Below we will list the skills that will be looking for in the descriptions in order to understand which ones are fetched the most:\n",
    "- Data Visualization (data viz - Visualizing Data - Reporting)\n",
    "- Power BI (PowerBI)\n",
    "- Tableau\n",
    "- Looker\n",
    "- Qlik\n",
    "- Google Data Studio (GDS)\n",
    "- Data Cleaning (Data prep - Data preparation)\n",
    "- Programming\n",
    "- MATLAB\n",
    "- R\n",
    "- Python\n",
    "- SAS\n",
    "- SQL \n",
    "- NoSQL\n",
    "- Machine Learning (ML)\n",
    "- Microsoft Excel\n",
    "- ETL\n",
    "- Azure\n",
    "- AWS\n",
    "- Google Cloud Platform (GCP)\n",
    "- Oracle\n",
    "- Domain (industry)"
   ]
  },
  {
   "cell_type": "code",
   "execution_count": 70,
   "id": "21c439d7",
   "metadata": {},
   "outputs": [],
   "source": [
    "skills_list = ['data visualization','data viz','visualizing data','reporting','power bi','powerbi',\\\n",
    "'tableau','looker','qlik','google data studio', 'gds', 'data cleaning', 'data prep','data preparation'\\\n",
    ",'programming', 'matlab', ' r ', 'python', 'sas','sql', 'nosql','machine learning',' ml ','microsoft excel'\\\n",
    ",'excel','etl','azure','aws','google cloud platform','gcp','google','oracle','domain','industry','apache','spark'\\\n",
    ",'dataproc','databricks','airflow','dbt','pipeline','scalding','hadoop','pig']"
   ]
  },
  {
   "cell_type": "code",
   "execution_count": 71,
   "id": "16d3294f",
   "metadata": {},
   "outputs": [
    {
     "data": {
      "text/html": [
       "<div>\n",
       "<style scoped>\n",
       "    .dataframe tbody tr th:only-of-type {\n",
       "        vertical-align: middle;\n",
       "    }\n",
       "\n",
       "    .dataframe tbody tr th {\n",
       "        vertical-align: top;\n",
       "    }\n",
       "\n",
       "    .dataframe thead th {\n",
       "        text-align: right;\n",
       "    }\n",
       "</style>\n",
       "<table border=\"1\" class=\"dataframe\">\n",
       "  <thead>\n",
       "    <tr style=\"text-align: right;\">\n",
       "      <th></th>\n",
       "      <th>Job Title</th>\n",
       "      <th>Company Name</th>\n",
       "      <th>Location</th>\n",
       "      <th>Date Scraped</th>\n",
       "      <th>Job URL</th>\n",
       "      <th>Job Industry</th>\n",
       "      <th>Job Type</th>\n",
       "      <th>Job Seniority</th>\n",
       "      <th>Job Description</th>\n",
       "      <th>lang</th>\n",
       "    </tr>\n",
       "  </thead>\n",
       "  <tbody>\n",
       "    <tr>\n",
       "      <th>1</th>\n",
       "      <td>Business Analyst</td>\n",
       "      <td>NSW Public Service Commission</td>\n",
       "      <td>Sydney</td>\n",
       "      <td>7/26/2021</td>\n",
       "      <td>https://www.glassdoor.com/partner/jobListing.h...</td>\n",
       "      <td>Industry : N/A</td>\n",
       "      <td>Job Type : Full-time</td>\n",
       "      <td>NaN</td>\n",
       "      <td>Organisation/Entity: Transport For NSW\\nJob Ca...</td>\n",
       "      <td>en</td>\n",
       "    </tr>\n",
       "    <tr>\n",
       "      <th>4</th>\n",
       "      <td>Business Analyst</td>\n",
       "      <td>Corporate Services</td>\n",
       "      <td>Sydney</td>\n",
       "      <td>7/26/2021</td>\n",
       "      <td>https://www.glassdoor.com/partner/jobListing.h...</td>\n",
       "      <td>Industry : Business Services</td>\n",
       "      <td>Job Type : Full-time</td>\n",
       "      <td>NaN</td>\n",
       "      <td>About us\\n\\nTransport for NSW (TfNSW) is the l...</td>\n",
       "      <td>en</td>\n",
       "    </tr>\n",
       "    <tr>\n",
       "      <th>8</th>\n",
       "      <td>Business Analyst</td>\n",
       "      <td>Macquarie Group Limited</td>\n",
       "      <td>Sydney</td>\n",
       "      <td>7/26/2021</td>\n",
       "      <td>https://www.glassdoor.com/partner/jobListing.h...</td>\n",
       "      <td>Industry : Finance</td>\n",
       "      <td>Job Type : Full-time</td>\n",
       "      <td>NaN</td>\n",
       "      <td>Our Macquarie Asset Management division has em...</td>\n",
       "      <td>en</td>\n",
       "    </tr>\n",
       "    <tr>\n",
       "      <th>12</th>\n",
       "      <td>Business Analyst - Finance</td>\n",
       "      <td>humm</td>\n",
       "      <td>Sydney</td>\n",
       "      <td>7/26/2021</td>\n",
       "      <td>https://www.glassdoor.com/partner/jobListing.h...</td>\n",
       "      <td>Industry : N/A</td>\n",
       "      <td>Job Type : Full-time</td>\n",
       "      <td>NaN</td>\n",
       "      <td>hummgroup (ASX-HUM) is one of Australasia’s mo...</td>\n",
       "      <td>en</td>\n",
       "    </tr>\n",
       "    <tr>\n",
       "      <th>15</th>\n",
       "      <td>Technical Business Analyst</td>\n",
       "      <td>CoreLogic</td>\n",
       "      <td>Sydney</td>\n",
       "      <td>7/26/2021</td>\n",
       "      <td>https://www.glassdoor.com/partner/jobListing.h...</td>\n",
       "      <td>Industry : Information Technology</td>\n",
       "      <td>Job Type : Full-time</td>\n",
       "      <td>NaN</td>\n",
       "      <td>Job Summary:\\nJoin our team of over 5,000 empl...</td>\n",
       "      <td>en</td>\n",
       "    </tr>\n",
       "  </tbody>\n",
       "</table>\n",
       "</div>"
      ],
      "text/plain": [
       "                     Job Title                   Company Name Location  \\\n",
       "1             Business Analyst  NSW Public Service Commission   Sydney   \n",
       "4             Business Analyst             Corporate Services   Sydney   \n",
       "8             Business Analyst        Macquarie Group Limited   Sydney   \n",
       "12  Business Analyst - Finance                           humm   Sydney   \n",
       "15  Technical Business Analyst                      CoreLogic   Sydney   \n",
       "\n",
       "   Date Scraped                                            Job URL  \\\n",
       "1     7/26/2021  https://www.glassdoor.com/partner/jobListing.h...   \n",
       "4     7/26/2021  https://www.glassdoor.com/partner/jobListing.h...   \n",
       "8     7/26/2021  https://www.glassdoor.com/partner/jobListing.h...   \n",
       "12    7/26/2021  https://www.glassdoor.com/partner/jobListing.h...   \n",
       "15    7/26/2021  https://www.glassdoor.com/partner/jobListing.h...   \n",
       "\n",
       "                         Job Industry              Job Type Job Seniority  \\\n",
       "1                      Industry : N/A  Job Type : Full-time           NaN   \n",
       "4        Industry : Business Services  Job Type : Full-time           NaN   \n",
       "8                  Industry : Finance  Job Type : Full-time           NaN   \n",
       "12                     Industry : N/A  Job Type : Full-time           NaN   \n",
       "15  Industry : Information Technology  Job Type : Full-time           NaN   \n",
       "\n",
       "                                      Job Description lang  \n",
       "1   Organisation/Entity: Transport For NSW\\nJob Ca...   en  \n",
       "4   About us\\n\\nTransport for NSW (TfNSW) is the l...   en  \n",
       "8   Our Macquarie Asset Management division has em...   en  \n",
       "12  hummgroup (ASX-HUM) is one of Australasia’s mo...   en  \n",
       "15  Job Summary:\\nJoin our team of over 5,000 empl...   en  "
      ]
     },
     "execution_count": 71,
     "metadata": {},
     "output_type": "execute_result"
    }
   ],
   "source": [
    "df_full_concat_au.head()"
   ]
  },
  {
   "cell_type": "markdown",
   "id": "37386844",
   "metadata": {},
   "source": [
    "### Looking for the terms on the Job Descriptions"
   ]
  },
  {
   "cell_type": "code",
   "execution_count": 72,
   "id": "5e3ae17d",
   "metadata": {},
   "outputs": [],
   "source": [
    "skills_count_dict = {}"
   ]
  },
  {
   "cell_type": "code",
   "execution_count": 73,
   "id": "acaad15e",
   "metadata": {},
   "outputs": [
    {
     "name": "stdout",
     "output_type": "stream",
     "text": [
      "data visualization  was found in  26  job postings\n",
      "data viz  was found in  2  job postings\n",
      "visualizing data  was found in  0  job postings\n",
      "reporting  was found in  841  job postings\n",
      "power bi  was found in  151  job postings\n",
      "powerbi  was found in  93  job postings\n",
      "tableau  was found in  218  job postings\n",
      "looker  was found in  8  job postings\n",
      "qlik  was found in  29  job postings\n",
      "google data studio  was found in  2  job postings\n",
      "gds  was found in  0  job postings\n",
      "data cleaning  was found in  3  job postings\n",
      "data prep  was found in  14  job postings\n",
      "data preparation  was found in  14  job postings\n",
      "programming  was found in  112  job postings\n",
      "matlab  was found in  13  job postings\n",
      " r   was found in  73  job postings\n",
      "python  was found in  202  job postings\n",
      "sas  was found in  140  job postings\n",
      "sql  was found in  451  job postings\n",
      "nosql  was found in  1  job postings\n",
      "machine learning  was found in  54  job postings\n",
      " ml   was found in  10  job postings\n",
      "microsoft excel  was found in  47  job postings\n",
      "excel  was found in  870  job postings\n",
      "etl  was found in  65  job postings\n",
      "azure  was found in  62  job postings\n",
      "aws  was found in  61  job postings\n",
      "google cloud platform  was found in  5  job postings\n",
      "gcp  was found in  23  job postings\n",
      "google  was found in  84  job postings\n",
      "oracle  was found in  34  job postings\n",
      "domain  was found in  112  job postings\n",
      "industry  was found in  603  job postings\n",
      "apache  was found in  1  job postings\n",
      "spark  was found in  11  job postings\n",
      "dataproc  was found in  0  job postings\n",
      "databricks  was found in  14  job postings\n",
      "airflow  was found in  0  job postings\n",
      "dbt  was found in  2  job postings\n",
      "pipeline  was found in  52  job postings\n",
      "scalding  was found in  0  job postings\n",
      "hadoop  was found in  19  job postings\n",
      "pig  was found in  0  job postings\n"
     ]
    }
   ],
   "source": [
    "for i in skills_list:\n",
    "    print(i,' was found in ',len(df_full_concat_au[df_full_concat_au['Job Description'].str.lower().str.contains(i).fillna(False)]),' job postings')\n",
    "    skills_count_dict[i]=len(df_full_concat_au[df_full_concat_au['Job Description'].str.lower().str.contains(i).fillna(False)])"
   ]
  },
  {
   "cell_type": "code",
   "execution_count": 74,
   "id": "ffef4e1d",
   "metadata": {},
   "outputs": [
    {
     "data": {
      "text/plain": [
       "{'data visualization': 26,\n",
       " 'data viz': 2,\n",
       " 'visualizing data': 0,\n",
       " 'reporting': 841,\n",
       " 'power bi': 151,\n",
       " 'powerbi': 93,\n",
       " 'tableau': 218,\n",
       " 'looker': 8,\n",
       " 'qlik': 29,\n",
       " 'google data studio': 2,\n",
       " 'gds': 0,\n",
       " 'data cleaning': 3,\n",
       " 'data prep': 14,\n",
       " 'data preparation': 14,\n",
       " 'programming': 112,\n",
       " 'matlab': 13,\n",
       " ' r ': 73,\n",
       " 'python': 202,\n",
       " 'sas': 140,\n",
       " 'sql': 451,\n",
       " 'nosql': 1,\n",
       " 'machine learning': 54,\n",
       " ' ml ': 10,\n",
       " 'microsoft excel': 47,\n",
       " 'excel': 870,\n",
       " 'etl': 65,\n",
       " 'azure': 62,\n",
       " 'aws': 61,\n",
       " 'google cloud platform': 5,\n",
       " 'gcp': 23,\n",
       " 'google': 84,\n",
       " 'oracle': 34,\n",
       " 'domain': 112,\n",
       " 'industry': 603,\n",
       " 'apache': 1,\n",
       " 'spark': 11,\n",
       " 'dataproc': 0,\n",
       " 'databricks': 14,\n",
       " 'airflow': 0,\n",
       " 'dbt': 2,\n",
       " 'pipeline': 52,\n",
       " 'scalding': 0,\n",
       " 'hadoop': 19,\n",
       " 'pig': 0}"
      ]
     },
     "execution_count": 74,
     "metadata": {},
     "output_type": "execute_result"
    }
   ],
   "source": [
    "# Let's take a look at our dict\n",
    "skills_count_dict"
   ]
  },
  {
   "cell_type": "code",
   "execution_count": 75,
   "id": "6587d6e5",
   "metadata": {},
   "outputs": [],
   "source": [
    "skills_df_au = pd.DataFrame(skills_count_dict.items(),columns=['skill','count'])"
   ]
  },
  {
   "cell_type": "code",
   "execution_count": 76,
   "id": "69f472f9",
   "metadata": {},
   "outputs": [
    {
     "data": {
      "text/html": [
       "<div>\n",
       "<style scoped>\n",
       "    .dataframe tbody tr th:only-of-type {\n",
       "        vertical-align: middle;\n",
       "    }\n",
       "\n",
       "    .dataframe tbody tr th {\n",
       "        vertical-align: top;\n",
       "    }\n",
       "\n",
       "    .dataframe thead th {\n",
       "        text-align: right;\n",
       "    }\n",
       "</style>\n",
       "<table border=\"1\" class=\"dataframe\">\n",
       "  <thead>\n",
       "    <tr style=\"text-align: right;\">\n",
       "      <th></th>\n",
       "      <th>skill</th>\n",
       "      <th>count</th>\n",
       "    </tr>\n",
       "  </thead>\n",
       "  <tbody>\n",
       "    <tr>\n",
       "      <th>0</th>\n",
       "      <td>data visualization</td>\n",
       "      <td>26</td>\n",
       "    </tr>\n",
       "    <tr>\n",
       "      <th>1</th>\n",
       "      <td>data viz</td>\n",
       "      <td>2</td>\n",
       "    </tr>\n",
       "    <tr>\n",
       "      <th>2</th>\n",
       "      <td>visualizing data</td>\n",
       "      <td>0</td>\n",
       "    </tr>\n",
       "    <tr>\n",
       "      <th>3</th>\n",
       "      <td>reporting</td>\n",
       "      <td>841</td>\n",
       "    </tr>\n",
       "    <tr>\n",
       "      <th>4</th>\n",
       "      <td>power bi</td>\n",
       "      <td>151</td>\n",
       "    </tr>\n",
       "  </tbody>\n",
       "</table>\n",
       "</div>"
      ],
      "text/plain": [
       "                skill  count\n",
       "0  data visualization     26\n",
       "1            data viz      2\n",
       "2    visualizing data      0\n",
       "3           reporting    841\n",
       "4            power bi    151"
      ]
     },
     "execution_count": 76,
     "metadata": {},
     "output_type": "execute_result"
    }
   ],
   "source": [
    "skills_df_au.head()"
   ]
  },
  {
   "cell_type": "code",
   "execution_count": 77,
   "id": "cd383926",
   "metadata": {},
   "outputs": [],
   "source": [
    "skills_df_au['mentions_percent'] = round(skills_df_au['count']/len(df_full_concat_au)*100,2)"
   ]
  },
  {
   "cell_type": "code",
   "execution_count": 80,
   "id": "e662655a",
   "metadata": {},
   "outputs": [],
   "source": [
    "skills_df_au= skills_df_au.sort_values('mentions_percent',ascending= False)"
   ]
  },
  {
   "cell_type": "markdown",
   "id": "0c0c33bb",
   "metadata": {},
   "source": [
    "## Exporting the results"
   ]
  },
  {
   "cell_type": "code",
   "execution_count": 81,
   "id": "211104fd",
   "metadata": {},
   "outputs": [],
   "source": [
    "#skills_df_au.to_csv(r'C:\\Users\\Gonzalo\\Documents\\DH\\Contenido\\ds_blend_students_2020\\Proyectos Propios\\By Industry\\0 - Jobs\\Data Analytics\\Results - CSV\\results_au.csv')"
   ]
  },
  {
   "cell_type": "code",
   "execution_count": null,
   "id": "279e1e7e",
   "metadata": {},
   "outputs": [],
   "source": []
  },
  {
   "cell_type": "code",
   "execution_count": null,
   "id": "906ab793",
   "metadata": {},
   "outputs": [],
   "source": []
  }
 ],
 "metadata": {
  "kernelspec": {
   "display_name": "Python 3",
   "language": "python",
   "name": "python3"
  },
  "language_info": {
   "codemirror_mode": {
    "name": "ipython",
    "version": 3
   },
   "file_extension": ".py",
   "mimetype": "text/x-python",
   "name": "python",
   "nbconvert_exporter": "python",
   "pygments_lexer": "ipython3",
   "version": "3.7.10"
  }
 },
 "nbformat": 4,
 "nbformat_minor": 5
}
