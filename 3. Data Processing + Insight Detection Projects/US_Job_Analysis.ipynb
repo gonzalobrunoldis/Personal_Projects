{
 "cells": [
  {
   "cell_type": "code",
   "execution_count": 96,
   "id": "c2469f5c",
   "metadata": {},
   "outputs": [],
   "source": [
    "import pandas as pd\n",
    "import numpy as np\n",
    "\n",
    "## for language detection\n",
    "import langdetect "
   ]
  },
  {
   "cell_type": "markdown",
   "id": "0e43fbbd",
   "metadata": {},
   "source": [
    "### Import north american job postings"
   ]
  },
  {
   "cell_type": "code",
   "execution_count": 97,
   "id": "6f416930",
   "metadata": {},
   "outputs": [],
   "source": [
    "us_glass_df = pd.read_csv(r'./Glassdoor_WebS/Glassdoor_data_info_us.csv')\n",
    "us_indeed_df = pd.read_csv(r'./Indeed_WebS/Indeed_data_info_us.csv')\n",
    "us_link_df = pd.read_csv(r'./LinkedIn_WebS/Linkedin_data_info_us.csv')"
   ]
  },
  {
   "cell_type": "code",
   "execution_count": 98,
   "id": "8f37aafa",
   "metadata": {},
   "outputs": [
    {
     "data": {
      "text/html": [
       "<div>\n",
       "<style scoped>\n",
       "    .dataframe tbody tr th:only-of-type {\n",
       "        vertical-align: middle;\n",
       "    }\n",
       "\n",
       "    .dataframe tbody tr th {\n",
       "        vertical-align: top;\n",
       "    }\n",
       "\n",
       "    .dataframe thead th {\n",
       "        text-align: right;\n",
       "    }\n",
       "</style>\n",
       "<table border=\"1\" class=\"dataframe\">\n",
       "  <thead>\n",
       "    <tr style=\"text-align: right;\">\n",
       "      <th></th>\n",
       "      <th>Unnamed: 0</th>\n",
       "      <th>Job Title</th>\n",
       "      <th>Company Name</th>\n",
       "      <th>Location</th>\n",
       "      <th>Date Scraped</th>\n",
       "      <th>Job URL</th>\n",
       "      <th>Job Industry</th>\n",
       "      <th>Job Type</th>\n",
       "      <th>Job Seniority</th>\n",
       "      <th>Job Description</th>\n",
       "    </tr>\n",
       "  </thead>\n",
       "  <tbody>\n",
       "    <tr>\n",
       "      <th>0</th>\n",
       "      <td>1</td>\n",
       "      <td>Marketing Data Analyst</td>\n",
       "      <td>LS Networks</td>\n",
       "      <td>Portland, OR</td>\n",
       "      <td>7/26/2021</td>\n",
       "      <td>https://www.glassdoor.com/partner/jobListing.h...</td>\n",
       "      <td>Industry : N/A</td>\n",
       "      <td>Job Type : Full-time</td>\n",
       "      <td>NaN</td>\n",
       "      <td>Are you a talented, motivated individual who w...</td>\n",
       "    </tr>\n",
       "    <tr>\n",
       "      <th>1</th>\n",
       "      <td>2</td>\n",
       "      <td>Senior Analyst, Public Health Data Modernization</td>\n",
       "      <td>ASTHO</td>\n",
       "      <td>Arlington, VA</td>\n",
       "      <td>7/26/2021</td>\n",
       "      <td>https://www.glassdoor.com/partner/jobListing.h...</td>\n",
       "      <td>Industry : N/A</td>\n",
       "      <td>Job Type : Full-time</td>\n",
       "      <td>NaN</td>\n",
       "      <td>Summary: The Senior Analyst, Public Health Dat...</td>\n",
       "    </tr>\n",
       "  </tbody>\n",
       "</table>\n",
       "</div>"
      ],
      "text/plain": [
       "   Unnamed: 0                                         Job Title Company Name  \\\n",
       "0           1                            Marketing Data Analyst  LS Networks   \n",
       "1           2  Senior Analyst, Public Health Data Modernization        ASTHO   \n",
       "\n",
       "        Location Date Scraped  \\\n",
       "0   Portland, OR    7/26/2021   \n",
       "1  Arlington, VA    7/26/2021   \n",
       "\n",
       "                                             Job URL    Job Industry  \\\n",
       "0  https://www.glassdoor.com/partner/jobListing.h...  Industry : N/A   \n",
       "1  https://www.glassdoor.com/partner/jobListing.h...  Industry : N/A   \n",
       "\n",
       "               Job Type  Job Seniority  \\\n",
       "0  Job Type : Full-time            NaN   \n",
       "1  Job Type : Full-time            NaN   \n",
       "\n",
       "                                     Job Description  \n",
       "0  Are you a talented, motivated individual who w...  \n",
       "1  Summary: The Senior Analyst, Public Health Dat...  "
      ]
     },
     "execution_count": 98,
     "metadata": {},
     "output_type": "execute_result"
    }
   ],
   "source": [
    "us_glass_df.head(2)"
   ]
  },
  {
   "cell_type": "code",
   "execution_count": 99,
   "id": "5814db38",
   "metadata": {},
   "outputs": [],
   "source": [
    "(us_glass_df.drop('Unnamed: 0',axis=1,inplace=True))\n",
    "us_glass_df.dropna(how='all',inplace=True)"
   ]
  },
  {
   "cell_type": "code",
   "execution_count": 100,
   "id": "49961f63",
   "metadata": {},
   "outputs": [
    {
     "data": {
      "text/html": [
       "<div>\n",
       "<style scoped>\n",
       "    .dataframe tbody tr th:only-of-type {\n",
       "        vertical-align: middle;\n",
       "    }\n",
       "\n",
       "    .dataframe tbody tr th {\n",
       "        vertical-align: top;\n",
       "    }\n",
       "\n",
       "    .dataframe thead th {\n",
       "        text-align: right;\n",
       "    }\n",
       "</style>\n",
       "<table border=\"1\" class=\"dataframe\">\n",
       "  <thead>\n",
       "    <tr style=\"text-align: right;\">\n",
       "      <th></th>\n",
       "      <th>Job Title</th>\n",
       "      <th>Company Name</th>\n",
       "      <th>Location</th>\n",
       "      <th>Date Scraped</th>\n",
       "      <th>Job URL</th>\n",
       "      <th>Job Industry</th>\n",
       "      <th>Job Type</th>\n",
       "      <th>Job Seniority</th>\n",
       "      <th>Job Description</th>\n",
       "    </tr>\n",
       "  </thead>\n",
       "  <tbody>\n",
       "    <tr>\n",
       "      <th>0</th>\n",
       "      <td>Marketing Data Analyst</td>\n",
       "      <td>LS Networks</td>\n",
       "      <td>Portland, OR</td>\n",
       "      <td>7/26/2021</td>\n",
       "      <td>https://www.glassdoor.com/partner/jobListing.h...</td>\n",
       "      <td>Industry : N/A</td>\n",
       "      <td>Job Type : Full-time</td>\n",
       "      <td>NaN</td>\n",
       "      <td>Are you a talented, motivated individual who w...</td>\n",
       "    </tr>\n",
       "    <tr>\n",
       "      <th>1</th>\n",
       "      <td>Senior Analyst, Public Health Data Modernization</td>\n",
       "      <td>ASTHO</td>\n",
       "      <td>Arlington, VA</td>\n",
       "      <td>7/26/2021</td>\n",
       "      <td>https://www.glassdoor.com/partner/jobListing.h...</td>\n",
       "      <td>Industry : N/A</td>\n",
       "      <td>Job Type : Full-time</td>\n",
       "      <td>NaN</td>\n",
       "      <td>Summary: The Senior Analyst, Public Health Dat...</td>\n",
       "    </tr>\n",
       "  </tbody>\n",
       "</table>\n",
       "</div>"
      ],
      "text/plain": [
       "                                          Job Title Company Name  \\\n",
       "0                            Marketing Data Analyst  LS Networks   \n",
       "1  Senior Analyst, Public Health Data Modernization        ASTHO   \n",
       "\n",
       "        Location Date Scraped  \\\n",
       "0   Portland, OR    7/26/2021   \n",
       "1  Arlington, VA    7/26/2021   \n",
       "\n",
       "                                             Job URL    Job Industry  \\\n",
       "0  https://www.glassdoor.com/partner/jobListing.h...  Industry : N/A   \n",
       "1  https://www.glassdoor.com/partner/jobListing.h...  Industry : N/A   \n",
       "\n",
       "               Job Type  Job Seniority  \\\n",
       "0  Job Type : Full-time            NaN   \n",
       "1  Job Type : Full-time            NaN   \n",
       "\n",
       "                                     Job Description  \n",
       "0  Are you a talented, motivated individual who w...  \n",
       "1  Summary: The Senior Analyst, Public Health Dat...  "
      ]
     },
     "execution_count": 100,
     "metadata": {},
     "output_type": "execute_result"
    }
   ],
   "source": [
    "us_glass_df.head(2)"
   ]
  },
  {
   "cell_type": "code",
   "execution_count": 101,
   "id": "e3fbde5f",
   "metadata": {},
   "outputs": [
    {
     "data": {
      "text/plain": [
       "Index(['Unnamed: 0', 'Job Title', 'Company Name', 'Location', 'Date Scraped',\n",
       "       'Job URL', 'Job Industry', 'Job Type', 'Job Seniority',\n",
       "       'Job Description'],\n",
       "      dtype='object')"
      ]
     },
     "execution_count": 101,
     "metadata": {},
     "output_type": "execute_result"
    }
   ],
   "source": [
    "us_indeed_df.columns"
   ]
  },
  {
   "cell_type": "code",
   "execution_count": 102,
   "id": "c00d2468",
   "metadata": {},
   "outputs": [],
   "source": [
    "us_indeed_df.drop('Unnamed: 0',axis=1,inplace=True)"
   ]
  },
  {
   "cell_type": "code",
   "execution_count": 103,
   "id": "2afd749a",
   "metadata": {},
   "outputs": [
    {
     "data": {
      "text/html": [
       "<div>\n",
       "<style scoped>\n",
       "    .dataframe tbody tr th:only-of-type {\n",
       "        vertical-align: middle;\n",
       "    }\n",
       "\n",
       "    .dataframe tbody tr th {\n",
       "        vertical-align: top;\n",
       "    }\n",
       "\n",
       "    .dataframe thead th {\n",
       "        text-align: right;\n",
       "    }\n",
       "</style>\n",
       "<table border=\"1\" class=\"dataframe\">\n",
       "  <thead>\n",
       "    <tr style=\"text-align: right;\">\n",
       "      <th></th>\n",
       "      <th>Job Title</th>\n",
       "      <th>Company Name</th>\n",
       "      <th>Location</th>\n",
       "      <th>Date Scraped</th>\n",
       "      <th>Job URL</th>\n",
       "      <th>Job Industry</th>\n",
       "      <th>Job Type</th>\n",
       "      <th>Job Seniority</th>\n",
       "      <th>Job Description</th>\n",
       "    </tr>\n",
       "  </thead>\n",
       "  <tbody>\n",
       "    <tr>\n",
       "      <th>0</th>\n",
       "      <td>\\nComplaint Data Analyst</td>\n",
       "      <td>Olympus Corporation of the Americas</td>\n",
       "      <td>Center Valley, PA 18034</td>\n",
       "      <td>7/25/2021</td>\n",
       "      <td>https://www.indeed.com/rc/clk?jk=7c96832d3bdbc...</td>\n",
       "      <td>NaN</td>\n",
       "      <td>NaN</td>\n",
       "      <td>NaN</td>\n",
       "      <td>Are you looking for a company that cares about...</td>\n",
       "    </tr>\n",
       "    <tr>\n",
       "      <th>1</th>\n",
       "      <td>\\nData Analyst - Respiratory Therapy Enterprise</td>\n",
       "      <td>Cleveland Clinic</td>\n",
       "      <td>Cleveland, OH 44101</td>\n",
       "      <td>7/25/2021</td>\n",
       "      <td>https://www.indeed.com/rc/clk?jk=6f046824c8d2e...</td>\n",
       "      <td>NaN</td>\n",
       "      <td>NaN</td>\n",
       "      <td>NaN</td>\n",
       "      <td>Responsibilities:\\nPull data from enterprise d...</td>\n",
       "    </tr>\n",
       "  </tbody>\n",
       "</table>\n",
       "</div>"
      ],
      "text/plain": [
       "                                         Job Title  \\\n",
       "0                         \\nComplaint Data Analyst   \n",
       "1  \\nData Analyst - Respiratory Therapy Enterprise   \n",
       "\n",
       "                          Company Name                 Location Date Scraped  \\\n",
       "0  Olympus Corporation of the Americas  Center Valley, PA 18034    7/25/2021   \n",
       "1                     Cleveland Clinic      Cleveland, OH 44101    7/25/2021   \n",
       "\n",
       "                                             Job URL  Job Industry  Job Type  \\\n",
       "0  https://www.indeed.com/rc/clk?jk=7c96832d3bdbc...           NaN       NaN   \n",
       "1  https://www.indeed.com/rc/clk?jk=6f046824c8d2e...           NaN       NaN   \n",
       "\n",
       "   Job Seniority                                    Job Description  \n",
       "0            NaN  Are you looking for a company that cares about...  \n",
       "1            NaN  Responsibilities:\\nPull data from enterprise d...  "
      ]
     },
     "execution_count": 103,
     "metadata": {},
     "output_type": "execute_result"
    }
   ],
   "source": [
    "us_indeed_df.head(2)"
   ]
  },
  {
   "cell_type": "code",
   "execution_count": 104,
   "id": "4872dd71",
   "metadata": {},
   "outputs": [
    {
     "data": {
      "text/plain": [
       "Index(['Job Title', 'Company Name', 'Location', 'Date Scraped', 'Job URL',\n",
       "       'Job Industry', 'Job Type', 'Job Seniority', 'Job Description'],\n",
       "      dtype='object')"
      ]
     },
     "execution_count": 104,
     "metadata": {},
     "output_type": "execute_result"
    }
   ],
   "source": [
    "us_link_df.columns"
   ]
  },
  {
   "cell_type": "code",
   "execution_count": 105,
   "id": "1d1ff0fc",
   "metadata": {},
   "outputs": [
    {
     "data": {
      "text/html": [
       "<div>\n",
       "<style scoped>\n",
       "    .dataframe tbody tr th:only-of-type {\n",
       "        vertical-align: middle;\n",
       "    }\n",
       "\n",
       "    .dataframe tbody tr th {\n",
       "        vertical-align: top;\n",
       "    }\n",
       "\n",
       "    .dataframe thead th {\n",
       "        text-align: right;\n",
       "    }\n",
       "</style>\n",
       "<table border=\"1\" class=\"dataframe\">\n",
       "  <thead>\n",
       "    <tr style=\"text-align: right;\">\n",
       "      <th></th>\n",
       "      <th>Job Title</th>\n",
       "      <th>Company Name</th>\n",
       "      <th>Location</th>\n",
       "      <th>Date Scraped</th>\n",
       "      <th>Job URL</th>\n",
       "      <th>Job Industry</th>\n",
       "      <th>Job Type</th>\n",
       "      <th>Job Seniority</th>\n",
       "      <th>Job Description</th>\n",
       "    </tr>\n",
       "  </thead>\n",
       "  <tbody>\n",
       "    <tr>\n",
       "      <th>0</th>\n",
       "      <td>Asset Management Analyst</td>\n",
       "      <td>Ten-X</td>\n",
       "      <td>Richmond, VA</td>\n",
       "      <td>2021-07-26</td>\n",
       "      <td>https://www.linkedin.com/jobs/view/asset-manag...</td>\n",
       "      <td>Commercial Real Estate, Information Technology...</td>\n",
       "      <td>Employment type\\nFull-time</td>\n",
       "      <td>Associate</td>\n",
       "      <td>Asset Management Analyst OVERVIEW CoStar Group...</td>\n",
       "    </tr>\n",
       "    <tr>\n",
       "      <th>1</th>\n",
       "      <td>Software Engineer – Biologics</td>\n",
       "      <td>Genedata</td>\n",
       "      <td>Lexington, MA</td>\n",
       "      <td>2021-07-26</td>\n",
       "      <td>https://www.linkedin.com/jobs/view/software-en...</td>\n",
       "      <td>Biotechnology, Computer Software, and Informat...</td>\n",
       "      <td>Employment type\\nFull-time</td>\n",
       "      <td>Mid-Senior level</td>\n",
       "      <td>Software Engineer – Biologics The biopharmaceu...</td>\n",
       "    </tr>\n",
       "  </tbody>\n",
       "</table>\n",
       "</div>"
      ],
      "text/plain": [
       "                       Job Title Company Name       Location Date Scraped  \\\n",
       "0       Asset Management Analyst        Ten-X   Richmond, VA   2021-07-26   \n",
       "1  Software Engineer – Biologics     Genedata  Lexington, MA   2021-07-26   \n",
       "\n",
       "                                             Job URL  \\\n",
       "0  https://www.linkedin.com/jobs/view/asset-manag...   \n",
       "1  https://www.linkedin.com/jobs/view/software-en...   \n",
       "\n",
       "                                        Job Industry  \\\n",
       "0  Commercial Real Estate, Information Technology...   \n",
       "1  Biotechnology, Computer Software, and Informat...   \n",
       "\n",
       "                     Job Type     Job Seniority  \\\n",
       "0  Employment type\\nFull-time         Associate   \n",
       "1  Employment type\\nFull-time  Mid-Senior level   \n",
       "\n",
       "                                     Job Description  \n",
       "0  Asset Management Analyst OVERVIEW CoStar Group...  \n",
       "1  Software Engineer – Biologics The biopharmaceu...  "
      ]
     },
     "execution_count": 105,
     "metadata": {},
     "output_type": "execute_result"
    }
   ],
   "source": [
    "us_link_df.head(2)"
   ]
  },
  {
   "cell_type": "markdown",
   "id": "b422ca96",
   "metadata": {},
   "source": [
    "## Let the EDA begin"
   ]
  },
  {
   "cell_type": "markdown",
   "id": "dfbcf698",
   "metadata": {},
   "source": [
    "How will we handle it? We have to make a few decisions:\n",
    "1. Will we find the most required skills for all of the countries altogether? Or will we address each separately?\n",
    "2. Will we use any of the columns to group our information or analyze the dataset as a whole?\n",
    "3. How will we work on the long text data? "
   ]
  },
  {
   "cell_type": "markdown",
   "id": "5c8e7adc",
   "metadata": {},
   "source": [
    "1. As we will be deciding beforehand which country i'm moving to, I will address each country required skills separately\n",
    "2. We will be looking for skills required for each position. It's likely that we will have to standirize the Job titles as different companies call the same positions different names\n",
    "3. As we dive deeper into the data, we will be exploring different options."
   ]
  },
  {
   "cell_type": "markdown",
   "id": "a252163d",
   "metadata": {},
   "source": [
    "First, we will concatenate all the dfs to be analyze the country data as a whole"
   ]
  },
  {
   "cell_type": "code",
   "execution_count": 106,
   "id": "81128d84",
   "metadata": {},
   "outputs": [
    {
     "data": {
      "text/plain": [
       "269"
      ]
     },
     "execution_count": 106,
     "metadata": {},
     "output_type": "execute_result"
    }
   ],
   "source": [
    "len(us_glass_df)"
   ]
  },
  {
   "cell_type": "code",
   "execution_count": 107,
   "id": "0997397f",
   "metadata": {},
   "outputs": [
    {
     "data": {
      "text/plain": [
       "1352"
      ]
     },
     "execution_count": 107,
     "metadata": {},
     "output_type": "execute_result"
    }
   ],
   "source": [
    "len(us_indeed_df)"
   ]
  },
  {
   "cell_type": "code",
   "execution_count": 108,
   "id": "5ddfe113",
   "metadata": {},
   "outputs": [
    {
     "data": {
      "text/plain": [
       "7156"
      ]
     },
     "execution_count": 108,
     "metadata": {},
     "output_type": "execute_result"
    }
   ],
   "source": [
    "len(us_link_df)"
   ]
  },
  {
   "cell_type": "code",
   "execution_count": 109,
   "id": "fd986c91",
   "metadata": {},
   "outputs": [],
   "source": [
    "df_us_concat = pd.concat([us_glass_df,\n",
    "us_indeed_df,\n",
    "us_link_df])"
   ]
  },
  {
   "cell_type": "code",
   "execution_count": 110,
   "id": "96fa876e",
   "metadata": {},
   "outputs": [
    {
     "data": {
      "text/plain": [
       "8777"
      ]
     },
     "execution_count": 110,
     "metadata": {},
     "output_type": "execute_result"
    }
   ],
   "source": [
    "len(df_us_concat)"
   ]
  },
  {
   "cell_type": "code",
   "execution_count": 111,
   "id": "95a258cd",
   "metadata": {},
   "outputs": [
    {
     "data": {
      "text/html": [
       "<div>\n",
       "<style scoped>\n",
       "    .dataframe tbody tr th:only-of-type {\n",
       "        vertical-align: middle;\n",
       "    }\n",
       "\n",
       "    .dataframe tbody tr th {\n",
       "        vertical-align: top;\n",
       "    }\n",
       "\n",
       "    .dataframe thead th {\n",
       "        text-align: right;\n",
       "    }\n",
       "</style>\n",
       "<table border=\"1\" class=\"dataframe\">\n",
       "  <thead>\n",
       "    <tr style=\"text-align: right;\">\n",
       "      <th></th>\n",
       "      <th>Job Title</th>\n",
       "      <th>Company Name</th>\n",
       "      <th>Location</th>\n",
       "      <th>Date Scraped</th>\n",
       "      <th>Job URL</th>\n",
       "      <th>Job Industry</th>\n",
       "      <th>Job Type</th>\n",
       "      <th>Job Seniority</th>\n",
       "      <th>Job Description</th>\n",
       "    </tr>\n",
       "  </thead>\n",
       "  <tbody>\n",
       "    <tr>\n",
       "      <th>0</th>\n",
       "      <td>Marketing Data Analyst</td>\n",
       "      <td>LS Networks</td>\n",
       "      <td>Portland, OR</td>\n",
       "      <td>7/26/2021</td>\n",
       "      <td>https://www.glassdoor.com/partner/jobListing.h...</td>\n",
       "      <td>Industry : N/A</td>\n",
       "      <td>Job Type : Full-time</td>\n",
       "      <td>NaN</td>\n",
       "      <td>Are you a talented, motivated individual who w...</td>\n",
       "    </tr>\n",
       "    <tr>\n",
       "      <th>1</th>\n",
       "      <td>Senior Analyst, Public Health Data Modernization</td>\n",
       "      <td>ASTHO</td>\n",
       "      <td>Arlington, VA</td>\n",
       "      <td>7/26/2021</td>\n",
       "      <td>https://www.glassdoor.com/partner/jobListing.h...</td>\n",
       "      <td>Industry : N/A</td>\n",
       "      <td>Job Type : Full-time</td>\n",
       "      <td>NaN</td>\n",
       "      <td>Summary: The Senior Analyst, Public Health Dat...</td>\n",
       "    </tr>\n",
       "  </tbody>\n",
       "</table>\n",
       "</div>"
      ],
      "text/plain": [
       "                                          Job Title Company Name  \\\n",
       "0                            Marketing Data Analyst  LS Networks   \n",
       "1  Senior Analyst, Public Health Data Modernization        ASTHO   \n",
       "\n",
       "        Location Date Scraped  \\\n",
       "0   Portland, OR    7/26/2021   \n",
       "1  Arlington, VA    7/26/2021   \n",
       "\n",
       "                                             Job URL    Job Industry  \\\n",
       "0  https://www.glassdoor.com/partner/jobListing.h...  Industry : N/A   \n",
       "1  https://www.glassdoor.com/partner/jobListing.h...  Industry : N/A   \n",
       "\n",
       "               Job Type Job Seniority  \\\n",
       "0  Job Type : Full-time           NaN   \n",
       "1  Job Type : Full-time           NaN   \n",
       "\n",
       "                                     Job Description  \n",
       "0  Are you a talented, motivated individual who w...  \n",
       "1  Summary: The Senior Analyst, Public Health Dat...  "
      ]
     },
     "execution_count": 111,
     "metadata": {},
     "output_type": "execute_result"
    }
   ],
   "source": [
    "df_us_concat.head(2)"
   ]
  },
  {
   "cell_type": "markdown",
   "id": "b17cd339",
   "metadata": {},
   "source": [
    "To simplify analysis, we will reset the index"
   ]
  },
  {
   "cell_type": "code",
   "execution_count": 112,
   "id": "effd5769",
   "metadata": {},
   "outputs": [],
   "source": [
    "df_us_concat.reset_index(drop=True,inplace=True)"
   ]
  },
  {
   "cell_type": "markdown",
   "id": "02e402e2",
   "metadata": {},
   "source": [
    "### Language detection"
   ]
  },
  {
   "cell_type": "markdown",
   "id": "5ef98823",
   "metadata": {},
   "source": [
    "Just to make sure we have reliable information, we will be using a language detection tool"
   ]
  },
  {
   "cell_type": "code",
   "execution_count": 113,
   "id": "ac11b87b",
   "metadata": {},
   "outputs": [
    {
     "name": "stdout",
     "output_type": "stream",
     "text": [
      "Are you a talented, motivated individual  -->  en\n"
     ]
    }
   ],
   "source": [
    "txt = df_us_concat[\"Job Description\"].iloc[0]\n",
    "print(txt[0:40], \" --> \", langdetect.detect(txt))"
   ]
  },
  {
   "cell_type": "code",
   "execution_count": 114,
   "id": "7358feab",
   "metadata": {},
   "outputs": [],
   "source": [
    "#df_us_concat['lang'] = df_us_concat.fillna('')['Job Description'].apply(lambda x: langdetect.detect(x) if str(x).strip() != \"\" else \"\")\n",
    "#df_us_concat.head()"
   ]
  },
  {
   "cell_type": "code",
   "execution_count": 115,
   "id": "63dc86cd",
   "metadata": {},
   "outputs": [],
   "source": [
    "#df_us_concat['lang'].value_counts()"
   ]
  },
  {
   "cell_type": "markdown",
   "id": "37f1f9a1",
   "metadata": {},
   "source": [
    "#### Checking the job title distribution"
   ]
  },
  {
   "cell_type": "code",
   "execution_count": 116,
   "id": "969753fe",
   "metadata": {},
   "outputs": [
    {
     "data": {
      "text/plain": [
       "Software Development Engineer                        5.87\n",
       "Software Engineer                                    3.59\n",
       "Software Engineer II                                 2.21\n",
       "Data Analyst                                         2.03\n",
       "Business Analyst                                     2.01\n",
       "Data Engineer                                        1.29\n",
       "Data Scientist                                       0.93\n",
       "Software Development Engineer II                     0.75\n",
       "Volunteer: Flexible Data Support for Brandworkers    0.69\n",
       "Senior Financial Analyst                             0.60\n",
       "Name: Job Title, dtype: float64"
      ]
     },
     "execution_count": 116,
     "metadata": {},
     "output_type": "execute_result"
    }
   ],
   "source": [
    "round(df_us_concat['Job Title'].value_counts()/len(df_us_concat)*100,2)[0:10]"
   ]
  },
  {
   "cell_type": "markdown",
   "id": "3cb3a722",
   "metadata": {},
   "source": [
    "As we can see, the prevalent job title is Software engineer with a considreable difference. Let's focus on the analysts job offerings."
   ]
  },
  {
   "cell_type": "code",
   "execution_count": 117,
   "id": "423e19cb",
   "metadata": {},
   "outputs": [],
   "source": [
    "# Saving the rows that comply with the condition set\n",
    "df_business_us = df_us_concat[df_us_concat['Job Title'].str.contains('Business').fillna(False)]"
   ]
  },
  {
   "cell_type": "code",
   "execution_count": 118,
   "id": "0920fc8c",
   "metadata": {},
   "outputs": [],
   "source": [
    "df_analyst_us = df_us_concat[df_us_concat['Job Title'].str.contains('Analyst').fillna(False)]"
   ]
  },
  {
   "cell_type": "code",
   "execution_count": 119,
   "id": "e4006c05",
   "metadata": {},
   "outputs": [],
   "source": [
    "df_data_analytics_us = df_us_concat[df_us_concat['Job Title'].str.contains('Data Analytics').fillna(False)]"
   ]
  },
  {
   "cell_type": "code",
   "execution_count": 120,
   "id": "837f986f",
   "metadata": {},
   "outputs": [],
   "source": [
    "df_tableau_us = df_us_concat[df_us_concat['Job Title'].str.contains('Tableau').fillna(False)]"
   ]
  },
  {
   "cell_type": "code",
   "execution_count": 121,
   "id": "d5e3a30c",
   "metadata": {},
   "outputs": [],
   "source": [
    "df_bi_us = df_us_concat[df_us_concat['Job Title'].str.contains('Business Intelligence').fillna(False)]"
   ]
  },
  {
   "cell_type": "code",
   "execution_count": 122,
   "id": "93b9acc3",
   "metadata": {},
   "outputs": [],
   "source": [
    "df_risk_us = df_us_concat[df_us_concat['Job Title'].str.contains('Risk').fillna(False)]"
   ]
  },
  {
   "cell_type": "code",
   "execution_count": 123,
   "id": "63572f3e",
   "metadata": {},
   "outputs": [],
   "source": [
    "df_customer_us = df_us_concat[df_us_concat['Job Title'].str.contains('Customer').fillna(False)]"
   ]
  },
  {
   "cell_type": "code",
   "execution_count": 124,
   "id": "7c2d1bcb",
   "metadata": {},
   "outputs": [],
   "source": [
    "df_product_us = df_us_concat[df_us_concat['Job Title'].str.contains('Product').fillna(False)]"
   ]
  },
  {
   "cell_type": "code",
   "execution_count": 125,
   "id": "27fd8262",
   "metadata": {},
   "outputs": [],
   "source": [
    "df_insights_us = df_us_concat[df_us_concat['Job Title'].str.contains('Insights').fillna(False)]"
   ]
  },
  {
   "cell_type": "code",
   "execution_count": 126,
   "id": "6bafd769",
   "metadata": {},
   "outputs": [],
   "source": [
    "df_full_concat_us = pd.concat([df_business_us,df_analyst_us,df_data_analytics_us,df_tableau_us,df_bi_us,df_risk_us,df_customer_us,df_product_us,df_insights_us])"
   ]
  },
  {
   "cell_type": "code",
   "execution_count": 127,
   "id": "81e16640",
   "metadata": {},
   "outputs": [],
   "source": [
    "df_full_concat_us.drop_duplicates(inplace=True)"
   ]
  },
  {
   "cell_type": "code",
   "execution_count": 128,
   "id": "c38aab3c",
   "metadata": {},
   "outputs": [
    {
     "data": {
      "text/plain": [
       "4359"
      ]
     },
     "execution_count": 128,
     "metadata": {},
     "output_type": "execute_result"
    }
   ],
   "source": [
    "len(df_full_concat_us)"
   ]
  },
  {
   "cell_type": "code",
   "execution_count": 129,
   "id": "44be75cc",
   "metadata": {},
   "outputs": [
    {
     "data": {
      "text/html": [
       "<div>\n",
       "<style scoped>\n",
       "    .dataframe tbody tr th:only-of-type {\n",
       "        vertical-align: middle;\n",
       "    }\n",
       "\n",
       "    .dataframe tbody tr th {\n",
       "        vertical-align: top;\n",
       "    }\n",
       "\n",
       "    .dataframe thead th {\n",
       "        text-align: right;\n",
       "    }\n",
       "</style>\n",
       "<table border=\"1\" class=\"dataframe\">\n",
       "  <thead>\n",
       "    <tr style=\"text-align: right;\">\n",
       "      <th></th>\n",
       "      <th>Job Title</th>\n",
       "      <th>Company Name</th>\n",
       "      <th>Location</th>\n",
       "      <th>Date Scraped</th>\n",
       "      <th>Job URL</th>\n",
       "      <th>Job Industry</th>\n",
       "      <th>Job Type</th>\n",
       "      <th>Job Seniority</th>\n",
       "      <th>Job Description</th>\n",
       "    </tr>\n",
       "  </thead>\n",
       "  <tbody>\n",
       "    <tr>\n",
       "      <th>8</th>\n",
       "      <td>(ROH1477) Wealth Management Chief Data Office,...</td>\n",
       "      <td>JPMorgan Chase Bank, N.A.</td>\n",
       "      <td>Newark, DE</td>\n",
       "      <td>7/26/2021</td>\n",
       "      <td>https://www.glassdoor.com/partner/jobListing.h...</td>\n",
       "      <td>Industry : Finance</td>\n",
       "      <td>Job Type : Full-time</td>\n",
       "      <td>NaN</td>\n",
       "      <td>This role will fulfill a critical role within ...</td>\n",
       "    </tr>\n",
       "    <tr>\n",
       "      <th>16</th>\n",
       "      <td>Business Analyst/Data Analyst (on Data Enginee...</td>\n",
       "      <td>Softcrylic</td>\n",
       "      <td>Remote</td>\n",
       "      <td>2021-07-27</td>\n",
       "      <td>https://www.glassdoor.com/partner/jobListing.h...</td>\n",
       "      <td>Industry : Information Technology</td>\n",
       "      <td>Job Type : Full-time</td>\n",
       "      <td>NaN</td>\n",
       "      <td>Who We Are\\nFor 20 years, we have been working...</td>\n",
       "    </tr>\n",
       "    <tr>\n",
       "      <th>18</th>\n",
       "      <td>Junior Business Analyst</td>\n",
       "      <td>First Home Mortgage Corporation</td>\n",
       "      <td>Remote</td>\n",
       "      <td>2021-07-27</td>\n",
       "      <td>https://www.glassdoor.com/partner/jobListing.h...</td>\n",
       "      <td>Industry : Finance</td>\n",
       "      <td>Job Type : Full-time</td>\n",
       "      <td>NaN</td>\n",
       "      <td>First Home Mortgage Corporation has a full-tim...</td>\n",
       "    </tr>\n",
       "    <tr>\n",
       "      <th>34</th>\n",
       "      <td>Business Analyst(Scientific Background) - BB40...</td>\n",
       "      <td>TechData Service Company, LLC</td>\n",
       "      <td>Lawrenceville, NJ</td>\n",
       "      <td>2021-07-27</td>\n",
       "      <td>https://www.glassdoor.com/partner/jobListing.h...</td>\n",
       "      <td>Industry : Information Technology</td>\n",
       "      <td>Job Type : Full-time</td>\n",
       "      <td>NaN</td>\n",
       "      <td>Business Analyst – 40234-1\\nBB40234-1\\nLawrenc...</td>\n",
       "    </tr>\n",
       "    <tr>\n",
       "      <th>51</th>\n",
       "      <td>Business Analyst(Scientific Background) - BB40...</td>\n",
       "      <td>TechData Service Company, LLC</td>\n",
       "      <td>Lawrenceville, NJ</td>\n",
       "      <td>2021-07-28</td>\n",
       "      <td>https://www.glassdoor.com/partner/jobListing.h...</td>\n",
       "      <td>Industry : Information Technology</td>\n",
       "      <td>Job Type : Full-time</td>\n",
       "      <td>NaN</td>\n",
       "      <td>Business Analyst – 40234-1\\nBB40234-1\\nLawrenc...</td>\n",
       "    </tr>\n",
       "  </tbody>\n",
       "</table>\n",
       "</div>"
      ],
      "text/plain": [
       "                                            Job Title  \\\n",
       "8   (ROH1477) Wealth Management Chief Data Office,...   \n",
       "16  Business Analyst/Data Analyst (on Data Enginee...   \n",
       "18                            Junior Business Analyst   \n",
       "34  Business Analyst(Scientific Background) - BB40...   \n",
       "51  Business Analyst(Scientific Background) - BB40...   \n",
       "\n",
       "                       Company Name           Location Date Scraped  \\\n",
       "8         JPMorgan Chase Bank, N.A.         Newark, DE    7/26/2021   \n",
       "16                       Softcrylic             Remote   2021-07-27   \n",
       "18  First Home Mortgage Corporation             Remote   2021-07-27   \n",
       "34    TechData Service Company, LLC  Lawrenceville, NJ   2021-07-27   \n",
       "51    TechData Service Company, LLC  Lawrenceville, NJ   2021-07-28   \n",
       "\n",
       "                                              Job URL  \\\n",
       "8   https://www.glassdoor.com/partner/jobListing.h...   \n",
       "16  https://www.glassdoor.com/partner/jobListing.h...   \n",
       "18  https://www.glassdoor.com/partner/jobListing.h...   \n",
       "34  https://www.glassdoor.com/partner/jobListing.h...   \n",
       "51  https://www.glassdoor.com/partner/jobListing.h...   \n",
       "\n",
       "                         Job Industry              Job Type Job Seniority  \\\n",
       "8                  Industry : Finance  Job Type : Full-time           NaN   \n",
       "16  Industry : Information Technology  Job Type : Full-time           NaN   \n",
       "18                 Industry : Finance  Job Type : Full-time           NaN   \n",
       "34  Industry : Information Technology  Job Type : Full-time           NaN   \n",
       "51  Industry : Information Technology  Job Type : Full-time           NaN   \n",
       "\n",
       "                                      Job Description  \n",
       "8   This role will fulfill a critical role within ...  \n",
       "16  Who We Are\\nFor 20 years, we have been working...  \n",
       "18  First Home Mortgage Corporation has a full-tim...  \n",
       "34  Business Analyst – 40234-1\\nBB40234-1\\nLawrenc...  \n",
       "51  Business Analyst – 40234-1\\nBB40234-1\\nLawrenc...  "
      ]
     },
     "execution_count": 129,
     "metadata": {},
     "output_type": "execute_result"
    }
   ],
   "source": [
    "df_full_concat_us.head()"
   ]
  },
  {
   "cell_type": "markdown",
   "id": "b020a3fe",
   "metadata": {},
   "source": [
    "### Text analysis"
   ]
  },
  {
   "cell_type": "markdown",
   "id": "622b238f",
   "metadata": {},
   "source": [
    "As we won't be modelling, we will be looking for some commonly asked for skills and we will measure how much they are mentioned in different job postings. For this, we will be using the str.contains method as used above. "
   ]
  },
  {
   "cell_type": "markdown",
   "id": "f6c93f82",
   "metadata": {},
   "source": [
    "##### Skills that we will be looking for\n",
    "Below we will list the skills that will be looking for in the descriptions in order to understand which ones are fetched the most:\n",
    "- Data Visualization (data viz - Visualizing Data - Reporting)\n",
    "- Power BI (PowerBI)\n",
    "- Tableus\n",
    "- Looker\n",
    "- Qlik\n",
    "- Google Data Studio (GDS)\n",
    "- Data Cleaning (Data prep - Data preparation)\n",
    "- Programming\n",
    "- MATLAB\n",
    "- R\n",
    "- Python\n",
    "- SAS\n",
    "- SQL \n",
    "- NoSQL\n",
    "- Machine Learning (ML)\n",
    "- Microsoft Excel\n",
    "- ETL\n",
    "- Azure\n",
    "- AWS\n",
    "- Google Cloud Platform (GCP)\n",
    "- Oracle\n",
    "- Domain (industry)"
   ]
  },
  {
   "cell_type": "code",
   "execution_count": 130,
   "id": "c7e7a2cf",
   "metadata": {},
   "outputs": [],
   "source": [
    "skills_list = ['data visualization','data viz','visualizing data','reporting','power bi','powerbi',\\\n",
    "'tableau','looker','qlik','google data studio', 'gds', 'data cleaning', 'data prep','data preparation'\\\n",
    ",'programming', 'matlab', ' r ', 'python', 'sas','sql', 'nosql','machine learning',' ml ','microsoft excel'\\\n",
    ",'excel','etl','azure','aws','google cloud platform','gcp','google','oracle','apache','spark'\\\n",
    ",'dataproc','databricks','airflow','dbt','pipeline','scalding','hadoop','pig']"
   ]
  },
  {
   "cell_type": "code",
   "execution_count": 131,
   "id": "6785d2c9",
   "metadata": {},
   "outputs": [
    {
     "data": {
      "text/html": [
       "<div>\n",
       "<style scoped>\n",
       "    .dataframe tbody tr th:only-of-type {\n",
       "        vertical-align: middle;\n",
       "    }\n",
       "\n",
       "    .dataframe tbody tr th {\n",
       "        vertical-align: top;\n",
       "    }\n",
       "\n",
       "    .dataframe thead th {\n",
       "        text-align: right;\n",
       "    }\n",
       "</style>\n",
       "<table border=\"1\" class=\"dataframe\">\n",
       "  <thead>\n",
       "    <tr style=\"text-align: right;\">\n",
       "      <th></th>\n",
       "      <th>Job Title</th>\n",
       "      <th>Company Name</th>\n",
       "      <th>Location</th>\n",
       "      <th>Date Scraped</th>\n",
       "      <th>Job URL</th>\n",
       "      <th>Job Industry</th>\n",
       "      <th>Job Type</th>\n",
       "      <th>Job Seniority</th>\n",
       "      <th>Job Description</th>\n",
       "    </tr>\n",
       "  </thead>\n",
       "  <tbody>\n",
       "    <tr>\n",
       "      <th>8</th>\n",
       "      <td>(ROH1477) Wealth Management Chief Data Office,...</td>\n",
       "      <td>JPMorgan Chase Bank, N.A.</td>\n",
       "      <td>Newark, DE</td>\n",
       "      <td>7/26/2021</td>\n",
       "      <td>https://www.glassdoor.com/partner/jobListing.h...</td>\n",
       "      <td>Industry : Finance</td>\n",
       "      <td>Job Type : Full-time</td>\n",
       "      <td>NaN</td>\n",
       "      <td>This role will fulfill a critical role within ...</td>\n",
       "    </tr>\n",
       "    <tr>\n",
       "      <th>16</th>\n",
       "      <td>Business Analyst/Data Analyst (on Data Enginee...</td>\n",
       "      <td>Softcrylic</td>\n",
       "      <td>Remote</td>\n",
       "      <td>2021-07-27</td>\n",
       "      <td>https://www.glassdoor.com/partner/jobListing.h...</td>\n",
       "      <td>Industry : Information Technology</td>\n",
       "      <td>Job Type : Full-time</td>\n",
       "      <td>NaN</td>\n",
       "      <td>Who We Are\\nFor 20 years, we have been working...</td>\n",
       "    </tr>\n",
       "    <tr>\n",
       "      <th>18</th>\n",
       "      <td>Junior Business Analyst</td>\n",
       "      <td>First Home Mortgage Corporation</td>\n",
       "      <td>Remote</td>\n",
       "      <td>2021-07-27</td>\n",
       "      <td>https://www.glassdoor.com/partner/jobListing.h...</td>\n",
       "      <td>Industry : Finance</td>\n",
       "      <td>Job Type : Full-time</td>\n",
       "      <td>NaN</td>\n",
       "      <td>First Home Mortgage Corporation has a full-tim...</td>\n",
       "    </tr>\n",
       "    <tr>\n",
       "      <th>34</th>\n",
       "      <td>Business Analyst(Scientific Background) - BB40...</td>\n",
       "      <td>TechData Service Company, LLC</td>\n",
       "      <td>Lawrenceville, NJ</td>\n",
       "      <td>2021-07-27</td>\n",
       "      <td>https://www.glassdoor.com/partner/jobListing.h...</td>\n",
       "      <td>Industry : Information Technology</td>\n",
       "      <td>Job Type : Full-time</td>\n",
       "      <td>NaN</td>\n",
       "      <td>Business Analyst – 40234-1\\nBB40234-1\\nLawrenc...</td>\n",
       "    </tr>\n",
       "    <tr>\n",
       "      <th>51</th>\n",
       "      <td>Business Analyst(Scientific Background) - BB40...</td>\n",
       "      <td>TechData Service Company, LLC</td>\n",
       "      <td>Lawrenceville, NJ</td>\n",
       "      <td>2021-07-28</td>\n",
       "      <td>https://www.glassdoor.com/partner/jobListing.h...</td>\n",
       "      <td>Industry : Information Technology</td>\n",
       "      <td>Job Type : Full-time</td>\n",
       "      <td>NaN</td>\n",
       "      <td>Business Analyst – 40234-1\\nBB40234-1\\nLawrenc...</td>\n",
       "    </tr>\n",
       "  </tbody>\n",
       "</table>\n",
       "</div>"
      ],
      "text/plain": [
       "                                            Job Title  \\\n",
       "8   (ROH1477) Wealth Management Chief Data Office,...   \n",
       "16  Business Analyst/Data Analyst (on Data Enginee...   \n",
       "18                            Junior Business Analyst   \n",
       "34  Business Analyst(Scientific Background) - BB40...   \n",
       "51  Business Analyst(Scientific Background) - BB40...   \n",
       "\n",
       "                       Company Name           Location Date Scraped  \\\n",
       "8         JPMorgan Chase Bank, N.A.         Newark, DE    7/26/2021   \n",
       "16                       Softcrylic             Remote   2021-07-27   \n",
       "18  First Home Mortgage Corporation             Remote   2021-07-27   \n",
       "34    TechData Service Company, LLC  Lawrenceville, NJ   2021-07-27   \n",
       "51    TechData Service Company, LLC  Lawrenceville, NJ   2021-07-28   \n",
       "\n",
       "                                              Job URL  \\\n",
       "8   https://www.glassdoor.com/partner/jobListing.h...   \n",
       "16  https://www.glassdoor.com/partner/jobListing.h...   \n",
       "18  https://www.glassdoor.com/partner/jobListing.h...   \n",
       "34  https://www.glassdoor.com/partner/jobListing.h...   \n",
       "51  https://www.glassdoor.com/partner/jobListing.h...   \n",
       "\n",
       "                         Job Industry              Job Type Job Seniority  \\\n",
       "8                  Industry : Finance  Job Type : Full-time           NaN   \n",
       "16  Industry : Information Technology  Job Type : Full-time           NaN   \n",
       "18                 Industry : Finance  Job Type : Full-time           NaN   \n",
       "34  Industry : Information Technology  Job Type : Full-time           NaN   \n",
       "51  Industry : Information Technology  Job Type : Full-time           NaN   \n",
       "\n",
       "                                      Job Description  \n",
       "8   This role will fulfill a critical role within ...  \n",
       "16  Who We Are\\nFor 20 years, we have been working...  \n",
       "18  First Home Mortgage Corporation has a full-tim...  \n",
       "34  Business Analyst – 40234-1\\nBB40234-1\\nLawrenc...  \n",
       "51  Business Analyst – 40234-1\\nBB40234-1\\nLawrenc...  "
      ]
     },
     "execution_count": 131,
     "metadata": {},
     "output_type": "execute_result"
    }
   ],
   "source": [
    "df_full_concat_us.head()"
   ]
  },
  {
   "cell_type": "markdown",
   "id": "30c13936",
   "metadata": {},
   "source": [
    "### Looking for the terms on the Job Descriptions"
   ]
  },
  {
   "cell_type": "code",
   "execution_count": 132,
   "id": "59f00b51",
   "metadata": {},
   "outputs": [],
   "source": [
    "skills_count_dict = {}"
   ]
  },
  {
   "cell_type": "code",
   "execution_count": 133,
   "id": "a5fcd9ae",
   "metadata": {},
   "outputs": [
    {
     "name": "stdout",
     "output_type": "stream",
     "text": [
      "data visualization  was found in  253  job postings\n",
      "data viz  was found in  0  job postings\n",
      "visualizing data  was found in  9  job postings\n",
      "reporting  was found in  1296  job postings\n",
      "power bi  was found in  320  job postings\n",
      "powerbi  was found in  112  job postings\n",
      "tableau  was found in  405  job postings\n",
      "looker  was found in  64  job postings\n",
      "qlik  was found in  91  job postings\n",
      "google data studio  was found in  8  job postings\n",
      "gds  was found in  1  job postings\n",
      "data cleaning  was found in  25  job postings\n",
      "data prep  was found in  35  job postings\n",
      "data preparation  was found in  35  job postings\n",
      "programming  was found in  329  job postings\n",
      "matlab  was found in  12  job postings\n",
      " r   was found in  83  job postings\n",
      "python  was found in  435  job postings\n",
      "sas  was found in  193  job postings\n",
      "sql  was found in  954  job postings\n",
      "nosql  was found in  4  job postings\n",
      "machine learning  was found in  126  job postings\n",
      " ml   was found in  17  job postings\n",
      "microsoft excel  was found in  112  job postings\n",
      "excel  was found in  1543  job postings\n",
      "etl  was found in  193  job postings\n",
      "azure  was found in  154  job postings\n",
      "aws  was found in  521  job postings\n",
      "google cloud platform  was found in  13  job postings\n",
      "gcp  was found in  10  job postings\n",
      "google  was found in  187  job postings\n",
      "oracle  was found in  152  job postings\n",
      "apache  was found in  3  job postings\n",
      "spark  was found in  61  job postings\n",
      "dataproc  was found in  0  job postings\n",
      "databricks  was found in  5  job postings\n",
      "airflow  was found in  1  job postings\n",
      "dbt  was found in  35  job postings\n",
      "pipeline  was found in  155  job postings\n",
      "scalding  was found in  0  job postings\n",
      "hadoop  was found in  22  job postings\n",
      "pig  was found in  1  job postings\n"
     ]
    }
   ],
   "source": [
    "for i in skills_list:\n",
    "    print(i,' was found in ',len(df_full_concat_us[df_full_concat_us['Job Description'].str.lower().str.contains(i).fillna(False)]),' job postings')\n",
    "    skills_count_dict[i]=len(df_full_concat_us[df_full_concat_us['Job Description'].str.lower().str.contains(i).fillna(False)])"
   ]
  },
  {
   "cell_type": "code",
   "execution_count": 134,
   "id": "11b63648",
   "metadata": {},
   "outputs": [
    {
     "data": {
      "text/plain": [
       "{'data visualization': 253,\n",
       " 'data viz': 0,\n",
       " 'visualizing data': 9,\n",
       " 'reporting': 1296,\n",
       " 'power bi': 320,\n",
       " 'powerbi': 112,\n",
       " 'tableau': 405,\n",
       " 'looker': 64,\n",
       " 'qlik': 91,\n",
       " 'google data studio': 8,\n",
       " 'gds': 1,\n",
       " 'data cleaning': 25,\n",
       " 'data prep': 35,\n",
       " 'data preparation': 35,\n",
       " 'programming': 329,\n",
       " 'matlab': 12,\n",
       " ' r ': 83,\n",
       " 'python': 435,\n",
       " 'sas': 193,\n",
       " 'sql': 954,\n",
       " 'nosql': 4,\n",
       " 'machine learning': 126,\n",
       " ' ml ': 17,\n",
       " 'microsoft excel': 112,\n",
       " 'excel': 1543,\n",
       " 'etl': 193,\n",
       " 'azure': 154,\n",
       " 'aws': 521,\n",
       " 'google cloud platform': 13,\n",
       " 'gcp': 10,\n",
       " 'google': 187,\n",
       " 'oracle': 152,\n",
       " 'apache': 3,\n",
       " 'spark': 61,\n",
       " 'dataproc': 0,\n",
       " 'databricks': 5,\n",
       " 'airflow': 1,\n",
       " 'dbt': 35,\n",
       " 'pipeline': 155,\n",
       " 'scalding': 0,\n",
       " 'hadoop': 22,\n",
       " 'pig': 1}"
      ]
     },
     "execution_count": 134,
     "metadata": {},
     "output_type": "execute_result"
    }
   ],
   "source": [
    "# Let's take a look at our dict\n",
    "skills_count_dict"
   ]
  },
  {
   "cell_type": "code",
   "execution_count": 135,
   "id": "ec0a3df7",
   "metadata": {},
   "outputs": [],
   "source": [
    "skills_df_us = pd.DataFrame(skills_count_dict.items(),columns=['skill','count'])"
   ]
  },
  {
   "cell_type": "code",
   "execution_count": 136,
   "id": "d195b8b6",
   "metadata": {},
   "outputs": [
    {
     "data": {
      "text/html": [
       "<div>\n",
       "<style scoped>\n",
       "    .dataframe tbody tr th:only-of-type {\n",
       "        vertical-align: middle;\n",
       "    }\n",
       "\n",
       "    .dataframe tbody tr th {\n",
       "        vertical-align: top;\n",
       "    }\n",
       "\n",
       "    .dataframe thead th {\n",
       "        text-align: right;\n",
       "    }\n",
       "</style>\n",
       "<table border=\"1\" class=\"dataframe\">\n",
       "  <thead>\n",
       "    <tr style=\"text-align: right;\">\n",
       "      <th></th>\n",
       "      <th>skill</th>\n",
       "      <th>count</th>\n",
       "    </tr>\n",
       "  </thead>\n",
       "  <tbody>\n",
       "    <tr>\n",
       "      <th>0</th>\n",
       "      <td>data visualization</td>\n",
       "      <td>253</td>\n",
       "    </tr>\n",
       "    <tr>\n",
       "      <th>1</th>\n",
       "      <td>data viz</td>\n",
       "      <td>0</td>\n",
       "    </tr>\n",
       "    <tr>\n",
       "      <th>2</th>\n",
       "      <td>visualizing data</td>\n",
       "      <td>9</td>\n",
       "    </tr>\n",
       "    <tr>\n",
       "      <th>3</th>\n",
       "      <td>reporting</td>\n",
       "      <td>1296</td>\n",
       "    </tr>\n",
       "    <tr>\n",
       "      <th>4</th>\n",
       "      <td>power bi</td>\n",
       "      <td>320</td>\n",
       "    </tr>\n",
       "  </tbody>\n",
       "</table>\n",
       "</div>"
      ],
      "text/plain": [
       "                skill  count\n",
       "0  data visualization    253\n",
       "1            data viz      0\n",
       "2    visualizing data      9\n",
       "3           reporting   1296\n",
       "4            power bi    320"
      ]
     },
     "execution_count": 136,
     "metadata": {},
     "output_type": "execute_result"
    }
   ],
   "source": [
    "skills_df_us.head()"
   ]
  },
  {
   "cell_type": "code",
   "execution_count": 137,
   "id": "a2ab0085",
   "metadata": {},
   "outputs": [],
   "source": [
    "skills_df_us['mentions_percent'] = round(skills_df_us['count']/len(df_full_concat_us)*100,2)"
   ]
  },
  {
   "cell_type": "code",
   "execution_count": 138,
   "id": "b501717f",
   "metadata": {},
   "outputs": [],
   "source": [
    "skills_df_us=skills_df_us.sort_values('mentions_percent',ascending= False)"
   ]
  },
  {
   "cell_type": "code",
   "execution_count": 139,
   "id": "02b7825c",
   "metadata": {},
   "outputs": [
    {
     "data": {
      "text/html": [
       "<div>\n",
       "<style scoped>\n",
       "    .dataframe tbody tr th:only-of-type {\n",
       "        vertical-align: middle;\n",
       "    }\n",
       "\n",
       "    .dataframe tbody tr th {\n",
       "        vertical-align: top;\n",
       "    }\n",
       "\n",
       "    .dataframe thead th {\n",
       "        text-align: right;\n",
       "    }\n",
       "</style>\n",
       "<table border=\"1\" class=\"dataframe\">\n",
       "  <thead>\n",
       "    <tr style=\"text-align: right;\">\n",
       "      <th></th>\n",
       "      <th>skill</th>\n",
       "      <th>count</th>\n",
       "      <th>mentions_percent</th>\n",
       "    </tr>\n",
       "  </thead>\n",
       "  <tbody>\n",
       "    <tr>\n",
       "      <th>24</th>\n",
       "      <td>excel</td>\n",
       "      <td>1543</td>\n",
       "      <td>35.40</td>\n",
       "    </tr>\n",
       "    <tr>\n",
       "      <th>3</th>\n",
       "      <td>reporting</td>\n",
       "      <td>1296</td>\n",
       "      <td>29.73</td>\n",
       "    </tr>\n",
       "    <tr>\n",
       "      <th>19</th>\n",
       "      <td>sql</td>\n",
       "      <td>954</td>\n",
       "      <td>21.89</td>\n",
       "    </tr>\n",
       "    <tr>\n",
       "      <th>27</th>\n",
       "      <td>aws</td>\n",
       "      <td>521</td>\n",
       "      <td>11.95</td>\n",
       "    </tr>\n",
       "    <tr>\n",
       "      <th>17</th>\n",
       "      <td>python</td>\n",
       "      <td>435</td>\n",
       "      <td>9.98</td>\n",
       "    </tr>\n",
       "    <tr>\n",
       "      <th>6</th>\n",
       "      <td>tableau</td>\n",
       "      <td>405</td>\n",
       "      <td>9.29</td>\n",
       "    </tr>\n",
       "    <tr>\n",
       "      <th>14</th>\n",
       "      <td>programming</td>\n",
       "      <td>329</td>\n",
       "      <td>7.55</td>\n",
       "    </tr>\n",
       "    <tr>\n",
       "      <th>4</th>\n",
       "      <td>power bi</td>\n",
       "      <td>320</td>\n",
       "      <td>7.34</td>\n",
       "    </tr>\n",
       "    <tr>\n",
       "      <th>0</th>\n",
       "      <td>data visualization</td>\n",
       "      <td>253</td>\n",
       "      <td>5.80</td>\n",
       "    </tr>\n",
       "    <tr>\n",
       "      <th>25</th>\n",
       "      <td>etl</td>\n",
       "      <td>193</td>\n",
       "      <td>4.43</td>\n",
       "    </tr>\n",
       "    <tr>\n",
       "      <th>18</th>\n",
       "      <td>sas</td>\n",
       "      <td>193</td>\n",
       "      <td>4.43</td>\n",
       "    </tr>\n",
       "    <tr>\n",
       "      <th>30</th>\n",
       "      <td>google</td>\n",
       "      <td>187</td>\n",
       "      <td>4.29</td>\n",
       "    </tr>\n",
       "    <tr>\n",
       "      <th>38</th>\n",
       "      <td>pipeline</td>\n",
       "      <td>155</td>\n",
       "      <td>3.56</td>\n",
       "    </tr>\n",
       "    <tr>\n",
       "      <th>26</th>\n",
       "      <td>azure</td>\n",
       "      <td>154</td>\n",
       "      <td>3.53</td>\n",
       "    </tr>\n",
       "    <tr>\n",
       "      <th>31</th>\n",
       "      <td>oracle</td>\n",
       "      <td>152</td>\n",
       "      <td>3.49</td>\n",
       "    </tr>\n",
       "    <tr>\n",
       "      <th>21</th>\n",
       "      <td>machine learning</td>\n",
       "      <td>126</td>\n",
       "      <td>2.89</td>\n",
       "    </tr>\n",
       "    <tr>\n",
       "      <th>23</th>\n",
       "      <td>microsoft excel</td>\n",
       "      <td>112</td>\n",
       "      <td>2.57</td>\n",
       "    </tr>\n",
       "    <tr>\n",
       "      <th>5</th>\n",
       "      <td>powerbi</td>\n",
       "      <td>112</td>\n",
       "      <td>2.57</td>\n",
       "    </tr>\n",
       "    <tr>\n",
       "      <th>8</th>\n",
       "      <td>qlik</td>\n",
       "      <td>91</td>\n",
       "      <td>2.09</td>\n",
       "    </tr>\n",
       "    <tr>\n",
       "      <th>16</th>\n",
       "      <td>r</td>\n",
       "      <td>83</td>\n",
       "      <td>1.90</td>\n",
       "    </tr>\n",
       "    <tr>\n",
       "      <th>7</th>\n",
       "      <td>looker</td>\n",
       "      <td>64</td>\n",
       "      <td>1.47</td>\n",
       "    </tr>\n",
       "    <tr>\n",
       "      <th>33</th>\n",
       "      <td>spark</td>\n",
       "      <td>61</td>\n",
       "      <td>1.40</td>\n",
       "    </tr>\n",
       "    <tr>\n",
       "      <th>13</th>\n",
       "      <td>data preparation</td>\n",
       "      <td>35</td>\n",
       "      <td>0.80</td>\n",
       "    </tr>\n",
       "    <tr>\n",
       "      <th>12</th>\n",
       "      <td>data prep</td>\n",
       "      <td>35</td>\n",
       "      <td>0.80</td>\n",
       "    </tr>\n",
       "    <tr>\n",
       "      <th>37</th>\n",
       "      <td>dbt</td>\n",
       "      <td>35</td>\n",
       "      <td>0.80</td>\n",
       "    </tr>\n",
       "    <tr>\n",
       "      <th>11</th>\n",
       "      <td>data cleaning</td>\n",
       "      <td>25</td>\n",
       "      <td>0.57</td>\n",
       "    </tr>\n",
       "    <tr>\n",
       "      <th>40</th>\n",
       "      <td>hadoop</td>\n",
       "      <td>22</td>\n",
       "      <td>0.50</td>\n",
       "    </tr>\n",
       "    <tr>\n",
       "      <th>22</th>\n",
       "      <td>ml</td>\n",
       "      <td>17</td>\n",
       "      <td>0.39</td>\n",
       "    </tr>\n",
       "    <tr>\n",
       "      <th>28</th>\n",
       "      <td>google cloud platform</td>\n",
       "      <td>13</td>\n",
       "      <td>0.30</td>\n",
       "    </tr>\n",
       "    <tr>\n",
       "      <th>15</th>\n",
       "      <td>matlab</td>\n",
       "      <td>12</td>\n",
       "      <td>0.28</td>\n",
       "    </tr>\n",
       "    <tr>\n",
       "      <th>29</th>\n",
       "      <td>gcp</td>\n",
       "      <td>10</td>\n",
       "      <td>0.23</td>\n",
       "    </tr>\n",
       "    <tr>\n",
       "      <th>2</th>\n",
       "      <td>visualizing data</td>\n",
       "      <td>9</td>\n",
       "      <td>0.21</td>\n",
       "    </tr>\n",
       "    <tr>\n",
       "      <th>9</th>\n",
       "      <td>google data studio</td>\n",
       "      <td>8</td>\n",
       "      <td>0.18</td>\n",
       "    </tr>\n",
       "    <tr>\n",
       "      <th>35</th>\n",
       "      <td>databricks</td>\n",
       "      <td>5</td>\n",
       "      <td>0.11</td>\n",
       "    </tr>\n",
       "    <tr>\n",
       "      <th>20</th>\n",
       "      <td>nosql</td>\n",
       "      <td>4</td>\n",
       "      <td>0.09</td>\n",
       "    </tr>\n",
       "    <tr>\n",
       "      <th>32</th>\n",
       "      <td>apache</td>\n",
       "      <td>3</td>\n",
       "      <td>0.07</td>\n",
       "    </tr>\n",
       "    <tr>\n",
       "      <th>10</th>\n",
       "      <td>gds</td>\n",
       "      <td>1</td>\n",
       "      <td>0.02</td>\n",
       "    </tr>\n",
       "    <tr>\n",
       "      <th>36</th>\n",
       "      <td>airflow</td>\n",
       "      <td>1</td>\n",
       "      <td>0.02</td>\n",
       "    </tr>\n",
       "    <tr>\n",
       "      <th>41</th>\n",
       "      <td>pig</td>\n",
       "      <td>1</td>\n",
       "      <td>0.02</td>\n",
       "    </tr>\n",
       "    <tr>\n",
       "      <th>34</th>\n",
       "      <td>dataproc</td>\n",
       "      <td>0</td>\n",
       "      <td>0.00</td>\n",
       "    </tr>\n",
       "    <tr>\n",
       "      <th>1</th>\n",
       "      <td>data viz</td>\n",
       "      <td>0</td>\n",
       "      <td>0.00</td>\n",
       "    </tr>\n",
       "    <tr>\n",
       "      <th>39</th>\n",
       "      <td>scalding</td>\n",
       "      <td>0</td>\n",
       "      <td>0.00</td>\n",
       "    </tr>\n",
       "  </tbody>\n",
       "</table>\n",
       "</div>"
      ],
      "text/plain": [
       "                    skill  count  mentions_percent\n",
       "24                  excel   1543             35.40\n",
       "3               reporting   1296             29.73\n",
       "19                    sql    954             21.89\n",
       "27                    aws    521             11.95\n",
       "17                 python    435              9.98\n",
       "6                 tableau    405              9.29\n",
       "14            programming    329              7.55\n",
       "4                power bi    320              7.34\n",
       "0      data visualization    253              5.80\n",
       "25                    etl    193              4.43\n",
       "18                    sas    193              4.43\n",
       "30                 google    187              4.29\n",
       "38               pipeline    155              3.56\n",
       "26                  azure    154              3.53\n",
       "31                 oracle    152              3.49\n",
       "21       machine learning    126              2.89\n",
       "23        microsoft excel    112              2.57\n",
       "5                 powerbi    112              2.57\n",
       "8                    qlik     91              2.09\n",
       "16                     r      83              1.90\n",
       "7                  looker     64              1.47\n",
       "33                  spark     61              1.40\n",
       "13       data preparation     35              0.80\n",
       "12              data prep     35              0.80\n",
       "37                    dbt     35              0.80\n",
       "11          data cleaning     25              0.57\n",
       "40                 hadoop     22              0.50\n",
       "22                    ml      17              0.39\n",
       "28  google cloud platform     13              0.30\n",
       "15                 matlab     12              0.28\n",
       "29                    gcp     10              0.23\n",
       "2        visualizing data      9              0.21\n",
       "9      google data studio      8              0.18\n",
       "35             databricks      5              0.11\n",
       "20                  nosql      4              0.09\n",
       "32                 apache      3              0.07\n",
       "10                    gds      1              0.02\n",
       "36                airflow      1              0.02\n",
       "41                    pig      1              0.02\n",
       "34               dataproc      0              0.00\n",
       "1                data viz      0              0.00\n",
       "39               scalding      0              0.00"
      ]
     },
     "execution_count": 139,
     "metadata": {},
     "output_type": "execute_result"
    }
   ],
   "source": [
    "skills_df_us"
   ]
  },
  {
   "cell_type": "markdown",
   "id": "086885fa",
   "metadata": {},
   "source": [
    "## Exporting the results"
   ]
  },
  {
   "cell_type": "code",
   "execution_count": 140,
   "id": "2eae369e",
   "metadata": {},
   "outputs": [],
   "source": [
    "#skills_df_us.to_csv(r'C:\\Users\\Gonzalo\\Documents\\DH\\Contenido\\ds_blend_students_2020\\Proyectos Propios\\By Industry\\0 - Jobs\\Data Analytics\\Results - CSV\\results_us.csv')"
   ]
  }
 ],
 "metadata": {
  "kernelspec": {
   "display_name": "Python 3",
   "language": "python",
   "name": "python3"
  },
  "language_info": {
   "codemirror_mode": {
    "name": "ipython",
    "version": 3
   },
   "file_extension": ".py",
   "mimetype": "text/x-python",
   "name": "python",
   "nbconvert_exporter": "python",
   "pygments_lexer": "ipython3",
   "version": "3.7.10"
  }
 },
 "nbformat": 4,
 "nbformat_minor": 5
}
