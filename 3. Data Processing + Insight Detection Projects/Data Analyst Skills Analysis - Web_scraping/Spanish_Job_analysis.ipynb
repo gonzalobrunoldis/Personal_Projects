{
 "cells": [
  {
   "cell_type": "code",
   "execution_count": 175,
   "id": "149f93da",
   "metadata": {},
   "outputs": [],
   "source": [
    "import pandas as pd\n",
    "import numpy as np\n",
    "\n",
    "## for language detection\n",
    "import langdetect "
   ]
  },
  {
   "cell_type": "markdown",
   "id": "acc9e0d7",
   "metadata": {},
   "source": [
    "### Import spanish job postings"
   ]
  },
  {
   "cell_type": "code",
   "execution_count": 176,
   "id": "ec3eed8f",
   "metadata": {},
   "outputs": [],
   "source": [
    "sp_glass_df = pd.read_csv(r'./Glassdoor_WebS/Glassdoor_data_info_sp.csv')\n",
    "sp_indeed_df = pd.read_csv(r'./Indeed_WebS/Indeed_data_info_sp.csv')\n",
    "sp_link_df = pd.read_csv(r'./LinkedIn_WebS/Linkedin_data_info_sp.csv')"
   ]
  },
  {
   "cell_type": "code",
   "execution_count": 177,
   "id": "aa0b67cd",
   "metadata": {},
   "outputs": [
    {
     "data": {
      "text/plain": [
       "Index(['Unnamed: 0', 'Job Title', 'Company Name', 'Location', 'Date Scraped',\n",
       "       'Job URL', 'Job Industry', 'Job Type', 'Job Seniority',\n",
       "       'Job Description'],\n",
       "      dtype='object')"
      ]
     },
     "execution_count": 177,
     "metadata": {},
     "output_type": "execute_result"
    }
   ],
   "source": [
    "sp_glass_df.columns"
   ]
  },
  {
   "cell_type": "code",
   "execution_count": 178,
   "id": "e28d9bbe",
   "metadata": {},
   "outputs": [
    {
     "data": {
      "text/html": [
       "<div>\n",
       "<style scoped>\n",
       "    .dataframe tbody tr th:only-of-type {\n",
       "        vertical-align: middle;\n",
       "    }\n",
       "\n",
       "    .dataframe tbody tr th {\n",
       "        vertical-align: top;\n",
       "    }\n",
       "\n",
       "    .dataframe thead th {\n",
       "        text-align: right;\n",
       "    }\n",
       "</style>\n",
       "<table border=\"1\" class=\"dataframe\">\n",
       "  <thead>\n",
       "    <tr style=\"text-align: right;\">\n",
       "      <th></th>\n",
       "      <th>Unnamed: 0</th>\n",
       "      <th>Job Title</th>\n",
       "      <th>Company Name</th>\n",
       "      <th>Location</th>\n",
       "      <th>Date Scraped</th>\n",
       "      <th>Job URL</th>\n",
       "      <th>Job Industry</th>\n",
       "      <th>Job Type</th>\n",
       "      <th>Job Seniority</th>\n",
       "      <th>Job Description</th>\n",
       "    </tr>\n",
       "  </thead>\n",
       "  <tbody>\n",
       "    <tr>\n",
       "      <th>0</th>\n",
       "      <td>1</td>\n",
       "      <td>Business Analyst (m/f/d)</td>\n",
       "      <td>TUI</td>\n",
       "      <td>Arca</td>\n",
       "      <td>7/26/2021</td>\n",
       "      <td>https://www.glassdoor.com/partner/jobListing.h...</td>\n",
       "      <td>Industry : Travel &amp; Tourism</td>\n",
       "      <td>Job Type : N/A</td>\n",
       "      <td>NaN</td>\n",
       "      <td>For TUI Group IT we are looking for a Business...</td>\n",
       "    </tr>\n",
       "    <tr>\n",
       "      <th>1</th>\n",
       "      <td>2</td>\n",
       "      <td>Business Analyst | Delta Partners</td>\n",
       "      <td>FTI Consulting, Inc.</td>\n",
       "      <td>Spain</td>\n",
       "      <td>7/26/2021</td>\n",
       "      <td>https://www.glassdoor.com/partner/jobListing.h...</td>\n",
       "      <td>Industry : Business Services</td>\n",
       "      <td>Job Type : Internship</td>\n",
       "      <td>NaN</td>\n",
       "      <td>Brief Description\\n\\nThis job is for you if yo...</td>\n",
       "    </tr>\n",
       "  </tbody>\n",
       "</table>\n",
       "</div>"
      ],
      "text/plain": [
       "   Unnamed: 0                          Job Title          Company Name  \\\n",
       "0           1           Business Analyst (m/f/d)                   TUI   \n",
       "1           2  Business Analyst | Delta Partners  FTI Consulting, Inc.   \n",
       "\n",
       "  Location Date Scraped                                            Job URL  \\\n",
       "0     Arca    7/26/2021  https://www.glassdoor.com/partner/jobListing.h...   \n",
       "1    Spain    7/26/2021  https://www.glassdoor.com/partner/jobListing.h...   \n",
       "\n",
       "                   Job Industry               Job Type  Job Seniority  \\\n",
       "0   Industry : Travel & Tourism         Job Type : N/A            NaN   \n",
       "1  Industry : Business Services  Job Type : Internship            NaN   \n",
       "\n",
       "                                     Job Description  \n",
       "0  For TUI Group IT we are looking for a Business...  \n",
       "1  Brief Description\\n\\nThis job is for you if yo...  "
      ]
     },
     "execution_count": 178,
     "metadata": {},
     "output_type": "execute_result"
    }
   ],
   "source": [
    "sp_glass_df.head(2)"
   ]
  },
  {
   "cell_type": "code",
   "execution_count": 179,
   "id": "805e8c93",
   "metadata": {},
   "outputs": [],
   "source": [
    "(sp_glass_df.drop('Unnamed: 0',axis=1,inplace=True))\n",
    "sp_glass_df.dropna(how='all',inplace=True)"
   ]
  },
  {
   "cell_type": "code",
   "execution_count": 180,
   "id": "d218aa91",
   "metadata": {},
   "outputs": [
    {
     "data": {
      "text/html": [
       "<div>\n",
       "<style scoped>\n",
       "    .dataframe tbody tr th:only-of-type {\n",
       "        vertical-align: middle;\n",
       "    }\n",
       "\n",
       "    .dataframe tbody tr th {\n",
       "        vertical-align: top;\n",
       "    }\n",
       "\n",
       "    .dataframe thead th {\n",
       "        text-align: right;\n",
       "    }\n",
       "</style>\n",
       "<table border=\"1\" class=\"dataframe\">\n",
       "  <thead>\n",
       "    <tr style=\"text-align: right;\">\n",
       "      <th></th>\n",
       "      <th>Job Title</th>\n",
       "      <th>Company Name</th>\n",
       "      <th>Location</th>\n",
       "      <th>Date Scraped</th>\n",
       "      <th>Job URL</th>\n",
       "      <th>Job Industry</th>\n",
       "      <th>Job Type</th>\n",
       "      <th>Job Seniority</th>\n",
       "      <th>Job Description</th>\n",
       "    </tr>\n",
       "  </thead>\n",
       "  <tbody>\n",
       "    <tr>\n",
       "      <th>0</th>\n",
       "      <td>Business Analyst (m/f/d)</td>\n",
       "      <td>TUI</td>\n",
       "      <td>Arca</td>\n",
       "      <td>7/26/2021</td>\n",
       "      <td>https://www.glassdoor.com/partner/jobListing.h...</td>\n",
       "      <td>Industry : Travel &amp; Tourism</td>\n",
       "      <td>Job Type : N/A</td>\n",
       "      <td>NaN</td>\n",
       "      <td>For TUI Group IT we are looking for a Business...</td>\n",
       "    </tr>\n",
       "    <tr>\n",
       "      <th>1</th>\n",
       "      <td>Business Analyst | Delta Partners</td>\n",
       "      <td>FTI Consulting, Inc.</td>\n",
       "      <td>Spain</td>\n",
       "      <td>7/26/2021</td>\n",
       "      <td>https://www.glassdoor.com/partner/jobListing.h...</td>\n",
       "      <td>Industry : Business Services</td>\n",
       "      <td>Job Type : Internship</td>\n",
       "      <td>NaN</td>\n",
       "      <td>Brief Description\\n\\nThis job is for you if yo...</td>\n",
       "    </tr>\n",
       "  </tbody>\n",
       "</table>\n",
       "</div>"
      ],
      "text/plain": [
       "                           Job Title          Company Name Location  \\\n",
       "0           Business Analyst (m/f/d)                   TUI     Arca   \n",
       "1  Business Analyst | Delta Partners  FTI Consulting, Inc.    Spain   \n",
       "\n",
       "  Date Scraped                                            Job URL  \\\n",
       "0    7/26/2021  https://www.glassdoor.com/partner/jobListing.h...   \n",
       "1    7/26/2021  https://www.glassdoor.com/partner/jobListing.h...   \n",
       "\n",
       "                   Job Industry               Job Type  Job Seniority  \\\n",
       "0   Industry : Travel & Tourism         Job Type : N/A            NaN   \n",
       "1  Industry : Business Services  Job Type : Internship            NaN   \n",
       "\n",
       "                                     Job Description  \n",
       "0  For TUI Group IT we are looking for a Business...  \n",
       "1  Brief Description\\n\\nThis job is for you if yo...  "
      ]
     },
     "execution_count": 180,
     "metadata": {},
     "output_type": "execute_result"
    }
   ],
   "source": [
    "sp_glass_df.head(2)"
   ]
  },
  {
   "cell_type": "code",
   "execution_count": 181,
   "id": "74084cc5",
   "metadata": {},
   "outputs": [
    {
     "data": {
      "text/plain": [
       "Index(['row', 'Job Title', 'Company Name', 'Location', 'Date Scraped',\n",
       "       'Job URL', 'Job Industry', 'Job Type', 'Job Seniority',\n",
       "       'Job Description'],\n",
       "      dtype='object')"
      ]
     },
     "execution_count": 181,
     "metadata": {},
     "output_type": "execute_result"
    }
   ],
   "source": [
    "sp_indeed_df.columns"
   ]
  },
  {
   "cell_type": "code",
   "execution_count": 182,
   "id": "fcef82c1",
   "metadata": {},
   "outputs": [],
   "source": [
    "sp_indeed_df.drop('row',axis=1,inplace=True)"
   ]
  },
  {
   "cell_type": "code",
   "execution_count": 183,
   "id": "60aec610",
   "metadata": {},
   "outputs": [
    {
     "data": {
      "text/html": [
       "<div>\n",
       "<style scoped>\n",
       "    .dataframe tbody tr th:only-of-type {\n",
       "        vertical-align: middle;\n",
       "    }\n",
       "\n",
       "    .dataframe tbody tr th {\n",
       "        vertical-align: top;\n",
       "    }\n",
       "\n",
       "    .dataframe thead th {\n",
       "        text-align: right;\n",
       "    }\n",
       "</style>\n",
       "<table border=\"1\" class=\"dataframe\">\n",
       "  <thead>\n",
       "    <tr style=\"text-align: right;\">\n",
       "      <th></th>\n",
       "      <th>Job Title</th>\n",
       "      <th>Company Name</th>\n",
       "      <th>Location</th>\n",
       "      <th>Date Scraped</th>\n",
       "      <th>Job URL</th>\n",
       "      <th>Job Industry</th>\n",
       "      <th>Job Type</th>\n",
       "      <th>Job Seniority</th>\n",
       "      <th>Job Description</th>\n",
       "    </tr>\n",
       "  </thead>\n",
       "  <tbody>\n",
       "    <tr>\n",
       "      <th>0</th>\n",
       "      <td>nueva oferta\\nBusiness Analyst (m/f/d)</td>\n",
       "      <td>TUI</td>\n",
       "      <td>Arca, A Coruña provincia</td>\n",
       "      <td>7/26/2021</td>\n",
       "      <td>https://es.indeed.com/rc/clk?jk=4510d66ff04f01...</td>\n",
       "      <td>NaN</td>\n",
       "      <td>NaN</td>\n",
       "      <td>NaN</td>\n",
       "      <td>For TUI Group IT we are looking for a Business...</td>\n",
       "    </tr>\n",
       "    <tr>\n",
       "      <th>1</th>\n",
       "      <td>nueva oferta\\nAnalytics Analyst With English</td>\n",
       "      <td>Triangle</td>\n",
       "      <td>Madrid, Madrid provincia</td>\n",
       "      <td>7/26/2021</td>\n",
       "      <td>https://es.indeed.com/rc/clk?jk=44e95198c04487...</td>\n",
       "      <td>NaN</td>\n",
       "      <td>NaN</td>\n",
       "      <td>NaN</td>\n",
       "      <td>Role:\\nAnalytics Analyst with English\\nDescrip...</td>\n",
       "    </tr>\n",
       "  </tbody>\n",
       "</table>\n",
       "</div>"
      ],
      "text/plain": [
       "                                      Job Title Company Name  \\\n",
       "0        nueva oferta\\nBusiness Analyst (m/f/d)          TUI   \n",
       "1  nueva oferta\\nAnalytics Analyst With English     Triangle   \n",
       "\n",
       "                   Location Date Scraped  \\\n",
       "0  Arca, A Coruña provincia    7/26/2021   \n",
       "1  Madrid, Madrid provincia    7/26/2021   \n",
       "\n",
       "                                             Job URL  Job Industry  Job Type  \\\n",
       "0  https://es.indeed.com/rc/clk?jk=4510d66ff04f01...           NaN       NaN   \n",
       "1  https://es.indeed.com/rc/clk?jk=44e95198c04487...           NaN       NaN   \n",
       "\n",
       "   Job Seniority                                    Job Description  \n",
       "0            NaN  For TUI Group IT we are looking for a Business...  \n",
       "1            NaN  Role:\\nAnalytics Analyst with English\\nDescrip...  "
      ]
     },
     "execution_count": 183,
     "metadata": {},
     "output_type": "execute_result"
    }
   ],
   "source": [
    "sp_indeed_df.head(2)"
   ]
  },
  {
   "cell_type": "code",
   "execution_count": 184,
   "id": "730ef149",
   "metadata": {},
   "outputs": [
    {
     "data": {
      "text/plain": [
       "Index(['Job Title', 'Company Name', 'Location', 'Date Scraped', 'Job URL',\n",
       "       'Job Industry', 'Job Type', 'Job Seniority', 'Job Description'],\n",
       "      dtype='object')"
      ]
     },
     "execution_count": 184,
     "metadata": {},
     "output_type": "execute_result"
    }
   ],
   "source": [
    "sp_link_df.columns"
   ]
  },
  {
   "cell_type": "code",
   "execution_count": 185,
   "id": "fed31dd7",
   "metadata": {},
   "outputs": [
    {
     "data": {
      "text/html": [
       "<div>\n",
       "<style scoped>\n",
       "    .dataframe tbody tr th:only-of-type {\n",
       "        vertical-align: middle;\n",
       "    }\n",
       "\n",
       "    .dataframe tbody tr th {\n",
       "        vertical-align: top;\n",
       "    }\n",
       "\n",
       "    .dataframe thead th {\n",
       "        text-align: right;\n",
       "    }\n",
       "</style>\n",
       "<table border=\"1\" class=\"dataframe\">\n",
       "  <thead>\n",
       "    <tr style=\"text-align: right;\">\n",
       "      <th></th>\n",
       "      <th>Job Title</th>\n",
       "      <th>Company Name</th>\n",
       "      <th>Location</th>\n",
       "      <th>Date Scraped</th>\n",
       "      <th>Job URL</th>\n",
       "      <th>Job Industry</th>\n",
       "      <th>Job Type</th>\n",
       "      <th>Job Seniority</th>\n",
       "      <th>Job Description</th>\n",
       "    </tr>\n",
       "  </thead>\n",
       "  <tbody>\n",
       "    <tr>\n",
       "      <th>0</th>\n",
       "      <td>Programador/a Robótica (ESTABLE). Inglés.</td>\n",
       "      <td>Keyland Sistemas de Gestión</td>\n",
       "      <td>Valladolid, Castilla and Leon, Spain</td>\n",
       "      <td>2021-07-26</td>\n",
       "      <td>https://es.linkedin.com/jobs/view/programador-...</td>\n",
       "      <td>Computer Software</td>\n",
       "      <td>Employment type\\nFull-time</td>\n",
       "      <td>Mid-Senior level</td>\n",
       "      <td>En KEYLAND nos dedicamos a la optimización, de...</td>\n",
       "    </tr>\n",
       "    <tr>\n",
       "      <th>1</th>\n",
       "      <td>Business Intelligence Analyst</td>\n",
       "      <td>Carnovo</td>\n",
       "      <td>Barcelona, Catalonia, Spain</td>\n",
       "      <td>2021-07-26</td>\n",
       "      <td>https://es.linkedin.com/jobs/view/business-int...</td>\n",
       "      <td>NaN</td>\n",
       "      <td>NaN</td>\n",
       "      <td>NaN</td>\n",
       "      <td>At Carnovo we are continuing to revolutionize ...</td>\n",
       "    </tr>\n",
       "  </tbody>\n",
       "</table>\n",
       "</div>"
      ],
      "text/plain": [
       "                                   Job Title                 Company Name  \\\n",
       "0  Programador/a Robótica (ESTABLE). Inglés.  Keyland Sistemas de Gestión   \n",
       "1              Business Intelligence Analyst                      Carnovo   \n",
       "\n",
       "                               Location Date Scraped  \\\n",
       "0  Valladolid, Castilla and Leon, Spain   2021-07-26   \n",
       "1           Barcelona, Catalonia, Spain   2021-07-26   \n",
       "\n",
       "                                             Job URL       Job Industry  \\\n",
       "0  https://es.linkedin.com/jobs/view/programador-...  Computer Software   \n",
       "1  https://es.linkedin.com/jobs/view/business-int...                NaN   \n",
       "\n",
       "                     Job Type     Job Seniority  \\\n",
       "0  Employment type\\nFull-time  Mid-Senior level   \n",
       "1                         NaN               NaN   \n",
       "\n",
       "                                     Job Description  \n",
       "0  En KEYLAND nos dedicamos a la optimización, de...  \n",
       "1  At Carnovo we are continuing to revolutionize ...  "
      ]
     },
     "execution_count": 185,
     "metadata": {},
     "output_type": "execute_result"
    }
   ],
   "source": [
    "sp_link_df.head(2)"
   ]
  },
  {
   "cell_type": "markdown",
   "id": "e159290d",
   "metadata": {},
   "source": [
    "## Let the EDA begin"
   ]
  },
  {
   "cell_type": "markdown",
   "id": "3925daf8",
   "metadata": {},
   "source": [
    "How will we handle it? We have to make a few decisions:\n",
    "1. Will we find the most required skills for all of the countries altogether? Or will we address each separately?\n",
    "2. Will we use any of the columns to group our information or analyze the dataset as a whole?\n",
    "3. How will we work on the long text data? "
   ]
  },
  {
   "cell_type": "markdown",
   "id": "1ff2856f",
   "metadata": {},
   "source": [
    "1. As we will be deciding beforehand which country i'm moving to, I will address each country required skills separately\n",
    "2. We will be looking for skills required for each position. It's likely that we will have to standirize the Job titles as different companies call the same positions different names\n",
    "3. As we dive deeper into the data, we will be exploring different options."
   ]
  },
  {
   "cell_type": "markdown",
   "id": "167d06bb",
   "metadata": {},
   "source": [
    "### spstralian DFs"
   ]
  },
  {
   "cell_type": "markdown",
   "id": "daee43e9",
   "metadata": {},
   "source": [
    "First, we will concatenate all the dfs to be analyze the country data as a whole"
   ]
  },
  {
   "cell_type": "code",
   "execution_count": 186,
   "id": "4273980d",
   "metadata": {},
   "outputs": [],
   "source": [
    "df_sp_concat = pd.concat([sp_glass_df,\n",
    "sp_indeed_df,\n",
    "sp_link_df])"
   ]
  },
  {
   "cell_type": "code",
   "execution_count": 187,
   "id": "d53268fc",
   "metadata": {},
   "outputs": [
    {
     "data": {
      "text/html": [
       "<div>\n",
       "<style scoped>\n",
       "    .dataframe tbody tr th:only-of-type {\n",
       "        vertical-align: middle;\n",
       "    }\n",
       "\n",
       "    .dataframe tbody tr th {\n",
       "        vertical-align: top;\n",
       "    }\n",
       "\n",
       "    .dataframe thead th {\n",
       "        text-align: right;\n",
       "    }\n",
       "</style>\n",
       "<table border=\"1\" class=\"dataframe\">\n",
       "  <thead>\n",
       "    <tr style=\"text-align: right;\">\n",
       "      <th></th>\n",
       "      <th>Job Title</th>\n",
       "      <th>Company Name</th>\n",
       "      <th>Location</th>\n",
       "      <th>Date Scraped</th>\n",
       "      <th>Job URL</th>\n",
       "      <th>Job Industry</th>\n",
       "      <th>Job Type</th>\n",
       "      <th>Job Seniority</th>\n",
       "      <th>Job Description</th>\n",
       "    </tr>\n",
       "  </thead>\n",
       "  <tbody>\n",
       "    <tr>\n",
       "      <th>0</th>\n",
       "      <td>Business Analyst (m/f/d)</td>\n",
       "      <td>TUI</td>\n",
       "      <td>Arca</td>\n",
       "      <td>7/26/2021</td>\n",
       "      <td>https://www.glassdoor.com/partner/jobListing.h...</td>\n",
       "      <td>Industry : Travel &amp; Tourism</td>\n",
       "      <td>Job Type : N/A</td>\n",
       "      <td>NaN</td>\n",
       "      <td>For TUI Group IT we are looking for a Business...</td>\n",
       "    </tr>\n",
       "    <tr>\n",
       "      <th>1</th>\n",
       "      <td>Business Analyst | Delta Partners</td>\n",
       "      <td>FTI Consulting, Inc.</td>\n",
       "      <td>Spain</td>\n",
       "      <td>7/26/2021</td>\n",
       "      <td>https://www.glassdoor.com/partner/jobListing.h...</td>\n",
       "      <td>Industry : Business Services</td>\n",
       "      <td>Job Type : Internship</td>\n",
       "      <td>NaN</td>\n",
       "      <td>Brief Description\\n\\nThis job is for you if yo...</td>\n",
       "    </tr>\n",
       "  </tbody>\n",
       "</table>\n",
       "</div>"
      ],
      "text/plain": [
       "                           Job Title          Company Name Location  \\\n",
       "0           Business Analyst (m/f/d)                   TUI     Arca   \n",
       "1  Business Analyst | Delta Partners  FTI Consulting, Inc.    Spain   \n",
       "\n",
       "  Date Scraped                                            Job URL  \\\n",
       "0    7/26/2021  https://www.glassdoor.com/partner/jobListing.h...   \n",
       "1    7/26/2021  https://www.glassdoor.com/partner/jobListing.h...   \n",
       "\n",
       "                   Job Industry               Job Type Job Seniority  \\\n",
       "0   Industry : Travel & Tourism         Job Type : N/A           NaN   \n",
       "1  Industry : Business Services  Job Type : Internship           NaN   \n",
       "\n",
       "                                     Job Description  \n",
       "0  For TUI Group IT we are looking for a Business...  \n",
       "1  Brief Description\\n\\nThis job is for you if yo...  "
      ]
     },
     "execution_count": 187,
     "metadata": {},
     "output_type": "execute_result"
    }
   ],
   "source": [
    "df_sp_concat.head(2)"
   ]
  },
  {
   "cell_type": "code",
   "execution_count": 188,
   "id": "9708af41",
   "metadata": {},
   "outputs": [
    {
     "data": {
      "text/plain": [
       "182"
      ]
     },
     "execution_count": 188,
     "metadata": {},
     "output_type": "execute_result"
    }
   ],
   "source": [
    "len(sp_glass_df)"
   ]
  },
  {
   "cell_type": "code",
   "execution_count": 189,
   "id": "0635aed2",
   "metadata": {},
   "outputs": [
    {
     "data": {
      "text/plain": [
       "96"
      ]
     },
     "execution_count": 189,
     "metadata": {},
     "output_type": "execute_result"
    }
   ],
   "source": [
    "len(sp_indeed_df)"
   ]
  },
  {
   "cell_type": "code",
   "execution_count": 190,
   "id": "98b1582c",
   "metadata": {},
   "outputs": [
    {
     "data": {
      "text/plain": [
       "1529"
      ]
     },
     "execution_count": 190,
     "metadata": {},
     "output_type": "execute_result"
    }
   ],
   "source": [
    "len(sp_link_df)"
   ]
  },
  {
   "cell_type": "code",
   "execution_count": 191,
   "id": "a6d58c16",
   "metadata": {},
   "outputs": [
    {
     "data": {
      "text/plain": [
       "1807"
      ]
     },
     "execution_count": 191,
     "metadata": {},
     "output_type": "execute_result"
    }
   ],
   "source": [
    "len(df_sp_concat)"
   ]
  },
  {
   "cell_type": "markdown",
   "id": "5b5a6247",
   "metadata": {},
   "source": [
    "To simplify our analysis, we will reset the index"
   ]
  },
  {
   "cell_type": "code",
   "execution_count": 192,
   "id": "18c95782",
   "metadata": {},
   "outputs": [],
   "source": [
    "df_sp_concat.reset_index(drop=True,inplace=True)"
   ]
  },
  {
   "cell_type": "markdown",
   "id": "7f6373ff",
   "metadata": {},
   "source": [
    "### Language detection"
   ]
  },
  {
   "cell_type": "markdown",
   "id": "fe620507",
   "metadata": {},
   "source": [
    "Just to make sure we have reliable information, we will be using a language detection tool"
   ]
  },
  {
   "cell_type": "code",
   "execution_count": 193,
   "id": "58c5c6cb",
   "metadata": {},
   "outputs": [
    {
     "name": "stdout",
     "output_type": "stream",
     "text": [
      "For TUI Group IT we are looking for a Bu  -->  en\n"
     ]
    }
   ],
   "source": [
    "txt = df_sp_concat[\"Job Description\"].iloc[0]\n",
    "print(txt[0:40], \" --> \", langdetect.detect(txt))"
   ]
  },
  {
   "cell_type": "code",
   "execution_count": 194,
   "id": "35089027",
   "metadata": {},
   "outputs": [
    {
     "data": {
      "text/html": [
       "<div>\n",
       "<style scoped>\n",
       "    .dataframe tbody tr th:only-of-type {\n",
       "        vertical-align: middle;\n",
       "    }\n",
       "\n",
       "    .dataframe tbody tr th {\n",
       "        vertical-align: top;\n",
       "    }\n",
       "\n",
       "    .dataframe thead th {\n",
       "        text-align: right;\n",
       "    }\n",
       "</style>\n",
       "<table border=\"1\" class=\"dataframe\">\n",
       "  <thead>\n",
       "    <tr style=\"text-align: right;\">\n",
       "      <th></th>\n",
       "      <th>Job Title</th>\n",
       "      <th>Company Name</th>\n",
       "      <th>Location</th>\n",
       "      <th>Date Scraped</th>\n",
       "      <th>Job URL</th>\n",
       "      <th>Job Industry</th>\n",
       "      <th>Job Type</th>\n",
       "      <th>Job Seniority</th>\n",
       "      <th>Job Description</th>\n",
       "      <th>lang</th>\n",
       "    </tr>\n",
       "  </thead>\n",
       "  <tbody>\n",
       "    <tr>\n",
       "      <th>0</th>\n",
       "      <td>Business Analyst (m/f/d)</td>\n",
       "      <td>TUI</td>\n",
       "      <td>Arca</td>\n",
       "      <td>7/26/2021</td>\n",
       "      <td>https://www.glassdoor.com/partner/jobListing.h...</td>\n",
       "      <td>Industry : Travel &amp; Tourism</td>\n",
       "      <td>Job Type : N/A</td>\n",
       "      <td>NaN</td>\n",
       "      <td>For TUI Group IT we are looking for a Business...</td>\n",
       "      <td>en</td>\n",
       "    </tr>\n",
       "    <tr>\n",
       "      <th>1</th>\n",
       "      <td>Business Analyst | Delta Partners</td>\n",
       "      <td>FTI Consulting, Inc.</td>\n",
       "      <td>Spain</td>\n",
       "      <td>7/26/2021</td>\n",
       "      <td>https://www.glassdoor.com/partner/jobListing.h...</td>\n",
       "      <td>Industry : Business Services</td>\n",
       "      <td>Job Type : Internship</td>\n",
       "      <td>NaN</td>\n",
       "      <td>Brief Description\\n\\nThis job is for you if yo...</td>\n",
       "      <td>en</td>\n",
       "    </tr>\n",
       "    <tr>\n",
       "      <th>2</th>\n",
       "      <td>Analytics Analyst With English</td>\n",
       "      <td>Triangle</td>\n",
       "      <td>Madrid</td>\n",
       "      <td>7/26/2021</td>\n",
       "      <td>https://www.glassdoor.com/partner/jobListing.h...</td>\n",
       "      <td>Industry : Business Services</td>\n",
       "      <td>Job Type : Full-time</td>\n",
       "      <td>NaN</td>\n",
       "      <td>Role:\\nAnalytics Analyst with English\\nDescrip...</td>\n",
       "      <td>en</td>\n",
       "    </tr>\n",
       "    <tr>\n",
       "      <th>3</th>\n",
       "      <td>Senior Payroll Analyst - Blue-collars (They/Sh...</td>\n",
       "      <td>Glovo</td>\n",
       "      <td>Spain</td>\n",
       "      <td>7/26/2021</td>\n",
       "      <td>https://www.glassdoor.com/partner/jobListing.h...</td>\n",
       "      <td>Industry : Information Technology</td>\n",
       "      <td>Job Type : N/A</td>\n",
       "      <td>NaN</td>\n",
       "      <td>About Glovo:\\nWe're a Barcelona-based startup ...</td>\n",
       "      <td>en</td>\n",
       "    </tr>\n",
       "    <tr>\n",
       "      <th>4</th>\n",
       "      <td>Marketing Data Analyst (English)</td>\n",
       "      <td>Blu Selection</td>\n",
       "      <td>Spain</td>\n",
       "      <td>7/26/2021</td>\n",
       "      <td>https://www.glassdoor.com/partner/jobListing.h...</td>\n",
       "      <td>Industry : N/A</td>\n",
       "      <td>Job Type : Full-time</td>\n",
       "      <td>NaN</td>\n",
       "      <td>Do you dedicate your career to providing the b...</td>\n",
       "      <td>en</td>\n",
       "    </tr>\n",
       "  </tbody>\n",
       "</table>\n",
       "</div>"
      ],
      "text/plain": [
       "                                           Job Title          Company Name  \\\n",
       "0                           Business Analyst (m/f/d)                   TUI   \n",
       "1                  Business Analyst | Delta Partners  FTI Consulting, Inc.   \n",
       "2                     Analytics Analyst With English              Triangle   \n",
       "3  Senior Payroll Analyst - Blue-collars (They/Sh...                 Glovo   \n",
       "4                   Marketing Data Analyst (English)         Blu Selection   \n",
       "\n",
       "  Location Date Scraped                                            Job URL  \\\n",
       "0     Arca    7/26/2021  https://www.glassdoor.com/partner/jobListing.h...   \n",
       "1    Spain    7/26/2021  https://www.glassdoor.com/partner/jobListing.h...   \n",
       "2   Madrid    7/26/2021  https://www.glassdoor.com/partner/jobListing.h...   \n",
       "3    Spain    7/26/2021  https://www.glassdoor.com/partner/jobListing.h...   \n",
       "4    Spain    7/26/2021  https://www.glassdoor.com/partner/jobListing.h...   \n",
       "\n",
       "                        Job Industry               Job Type Job Seniority  \\\n",
       "0        Industry : Travel & Tourism         Job Type : N/A           NaN   \n",
       "1       Industry : Business Services  Job Type : Internship           NaN   \n",
       "2       Industry : Business Services   Job Type : Full-time           NaN   \n",
       "3  Industry : Information Technology         Job Type : N/A           NaN   \n",
       "4                     Industry : N/A   Job Type : Full-time           NaN   \n",
       "\n",
       "                                     Job Description lang  \n",
       "0  For TUI Group IT we are looking for a Business...   en  \n",
       "1  Brief Description\\n\\nThis job is for you if yo...   en  \n",
       "2  Role:\\nAnalytics Analyst with English\\nDescrip...   en  \n",
       "3  About Glovo:\\nWe're a Barcelona-based startup ...   en  \n",
       "4  Do you dedicate your career to providing the b...   en  "
      ]
     },
     "execution_count": 194,
     "metadata": {},
     "output_type": "execute_result"
    }
   ],
   "source": [
    "df_sp_concat['lang'] = df_sp_concat.fillna('')['Job Description'].apply(lambda x: langdetect.detect(x) if str(x).strip() != \"\" else \"\")\n",
    "df_sp_concat.head()"
   ]
  },
  {
   "cell_type": "code",
   "execution_count": 195,
   "id": "614c3f97",
   "metadata": {},
   "outputs": [
    {
     "data": {
      "text/plain": [
       "en    1300\n",
       "es     433\n",
       "        58\n",
       "pt       6\n",
       "ca       5\n",
       "fr       2\n",
       "id       1\n",
       "hu       1\n",
       "de       1\n",
       "Name: lang, dtype: int64"
      ]
     },
     "execution_count": 195,
     "metadata": {},
     "output_type": "execute_result"
    }
   ],
   "source": [
    "df_sp_concat['lang'].value_counts()"
   ]
  },
  {
   "cell_type": "markdown",
   "id": "4d89ee55",
   "metadata": {},
   "source": [
    "#### Let's take a look at the non-english/non-spanish results"
   ]
  },
  {
   "cell_type": "code",
   "execution_count": 196,
   "id": "f6d97f89",
   "metadata": {},
   "outputs": [
    {
     "data": {
      "text/plain": [
       "'Data analyst en Barcelona.\\nQuina s la missi principal?\\n\\nDur a terme el desenvolupament de la plataforma Intel litur tant a nivell tecnolgic com de crrega de continguts a partir del que expressa el Pla de recerca de lACT i el Roadmap especfic de desplegament de la plataforma tecnolgic i el seu encaix dins lecosistema digital de lACT.\\n\\nEl desplegament correcte de la plataforma ha de permetre una transferncia de coneixement ptima per al sector turstic aix com afavorir la transformaci cap a la cultura de la dada del personal de la prpia ACT.\\n\\n\"PROJECTE INTEL LITUR\" dins del PLA DE MRQUETING 2018-2022\\n\\nFuncions principals:\\nSeguiment del desplegament de la plataforma de dades amb lempresa tecnolgica desenvolupadora.\\nVetllar per lencaix de la plataforma a lextranet i al CRM de lACT.\\nPlantejar els dashboards de sortida de dades de dades massives dins de la plataforma aix com la llibreria virtual i lespai de transferncia de continguts.\\nCoordinar amb la tcnica de continguts el pla de continguts.\\nActualitzaci de les subscripcions a bases de dades de dades massives actuals i optimitzaci de els variables requerides per assolir els indicadors marcats pel Pla de recerca de lACT.\\nIdentificaci de nous/ves proveidors/es de dades massives per tal dassolir els indicadors marcats pel Pla de recerca de lACT.\\nResponsabilitzar-se de la correcta distribuci de la partida pressupostria dedicada a les dades massives.\\nElaboraci dinformes a partir de les dades de les plataformes existents, tant peridics com puntuals si aix es requereix.\\nAssistir a reunions i realitzar presentacions sobre dades turstiques.\\nPROJECTE \"CULTURA DE LA DADA a lACT\" dins de lmbit del PLA DE RECERCA\\n\\nFuncions principals:\\nDonar suport a la unitat en programaci de Power BI daquelles dades que requereixin daquest tractament: enquestes internes, dades de tercers (partners...).\\nDonar suport a la unitat en transferncia de dades al portal de Dades Obertes\\nAcompanyament en la lectura de dades al personal de lACT.\\nREQUISITS\\nGrau en Econmiques, ADE, Enginyeria, Informtica o similar.\\nTtol danalista de dades (dades massives), cientfic/a de dades o similar.\\nConeixements avanats de leina Power BI i daltres programes de Business Intelligence\\nIdiomes:\\nCatal: nivell C de la Direcci General de Poltica Lingstica o equivalent.\\nAngls: nivell B2 o equivalent\\nEs valorar:\\nConeixements daltres idiomes: francs.\\nCapacitat analtica, habilitats comunicatives, comunicaci interpersonal, orientaci a resultats, orientaci a client/a, treball en equip, organitzaci i planificaci, capacitat de sntesi, coneixements bsics de maquetaci de documents.\\nDe conformitat amb lAcord del Govern de 13 de juny de 2017, sobre criteris per a la normalitzaci de nomenaments i contractacions de personal temporal en lmbit de lAdministraci de la Generalitat de Catalunya i el seu sector pblic, es tindran en compte prioritriament les sol licituds de les persones que acreditin un vincle preexistent de carcter fix amb lAdministraci de la Generalitat i el seu sector pblic i que reuneixin els requisits de titulaci i coneixements segents:\\n\\nExcepcionalment, en cas que no es presenti cap persona que acrediti un vincle preexistent de carcter fix amb lAdministraci de la Generalitat i el seu sector pblic, es tindran en compte les sol licituds de les persones interessades que compleixin amb els requisits especificats en aquest apartat.\\n\\nPower BI, Business Intelligence'"
      ]
     },
     "execution_count": 196,
     "metadata": {},
     "output_type": "execute_result"
    }
   ],
   "source": [
    "df_sp_concat[~(df_sp_concat['lang']=='en')&~(df_sp_concat['lang']=='es')]['Job Description'].loc[38]"
   ]
  },
  {
   "cell_type": "markdown",
   "id": "d2ec52aa",
   "metadata": {},
   "source": [
    "The results where lang is empty are the ones where the job description field is empty, which makes sense. We should consider either completing the fields or dropping them as we won't be able to analyze the most fetched skills from them. Same thing occurs with Job Descriptions in languages that are not english or spanish."
   ]
  },
  {
   "cell_type": "code",
   "execution_count": 197,
   "id": "1502a55d",
   "metadata": {},
   "outputs": [],
   "source": [
    "df_sp_concat.drop(df_sp_concat[(df_sp_concat['lang']!='en')&(df_sp_concat['lang']!='es')]['lang'].index,inplace=True)"
   ]
  },
  {
   "cell_type": "code",
   "execution_count": 198,
   "id": "c6c40a70",
   "metadata": {},
   "outputs": [
    {
     "data": {
      "text/plain": [
       "1733"
      ]
     },
     "execution_count": 198,
     "metadata": {},
     "output_type": "execute_result"
    }
   ],
   "source": [
    "len(df_sp_concat)"
   ]
  },
  {
   "cell_type": "markdown",
   "id": "746d8feb",
   "metadata": {},
   "source": [
    "#### Checking the job title distribution"
   ]
  },
  {
   "cell_type": "code",
   "execution_count": 199,
   "id": "4d0e243a",
   "metadata": {},
   "outputs": [
    {
     "data": {
      "text/plain": [
       "Data Engineer                                              2.54\n",
       "Software Engineer                                          2.19\n",
       "Business Analyst                                           2.02\n",
       "Data Analyst                                               1.85\n",
       "Data Scientist – Remote, Full-time                         1.73\n",
       "[REMOTE] Swift Developer – Full-time                       1.50\n",
       "Data Scientist                                             1.44\n",
       "ET_BO_12961_Process Business Analyst Lead                  0.98\n",
       "Senior Analyst - Consulting                                0.98\n",
       "Software Engineer, Trilogy (Remote) - $200,000/year USD    0.98\n",
       "Name: Job Title, dtype: float64"
      ]
     },
     "execution_count": 199,
     "metadata": {},
     "output_type": "execute_result"
    }
   ],
   "source": [
    "round(df_sp_concat['Job Title'].value_counts()/len(df_sp_concat)*100,2)[0:10]"
   ]
  },
  {
   "cell_type": "markdown",
   "id": "52c03967",
   "metadata": {},
   "source": [
    "The prevalent job title is Data Engineer in this case."
   ]
  },
  {
   "cell_type": "code",
   "execution_count": 200,
   "id": "f914ad03",
   "metadata": {},
   "outputs": [],
   "source": [
    "# Saving the rows that comply with the condition set\n",
    "df_business_sp = df_sp_concat[df_sp_concat['Job Title'].str.contains('Business').fillna(False)]"
   ]
  },
  {
   "cell_type": "code",
   "execution_count": 201,
   "id": "41d9d6b4",
   "metadata": {},
   "outputs": [],
   "source": [
    "df_analyst_sp = df_sp_concat[df_sp_concat['Job Title'].str.contains('Analyst').fillna(False)]"
   ]
  },
  {
   "cell_type": "code",
   "execution_count": 202,
   "id": "9fba74e5",
   "metadata": {},
   "outputs": [],
   "source": [
    "df_analista_sp = df_sp_concat[df_sp_concat['Job Title'].str.contains('Analista').fillna(False)]"
   ]
  },
  {
   "cell_type": "code",
   "execution_count": 203,
   "id": "92bcfc8c",
   "metadata": {},
   "outputs": [],
   "source": [
    "df_analytics_sp = df_sp_concat[df_sp_concat['Job Title'].str.contains('Analytics').fillna(False)]"
   ]
  },
  {
   "cell_type": "code",
   "execution_count": 204,
   "id": "92bc73fc",
   "metadata": {},
   "outputs": [],
   "source": [
    "df_tableau_sp = df_sp_concat[df_sp_concat['Job Title'].str.contains('Tableau').fillna(False)]"
   ]
  },
  {
   "cell_type": "code",
   "execution_count": 205,
   "id": "172df7f5",
   "metadata": {},
   "outputs": [],
   "source": [
    "df_business_i_sp = df_sp_concat[df_sp_concat['Job Title'].str.contains('Business Intelligence').fillna(False)]"
   ]
  },
  {
   "cell_type": "code",
   "execution_count": 206,
   "id": "b0f48346",
   "metadata": {},
   "outputs": [],
   "source": [
    "df_bi_sp = df_sp_concat[df_sp_concat['Job Title'].str.contains('BI').fillna(False)]"
   ]
  },
  {
   "cell_type": "code",
   "execution_count": 207,
   "id": "64180aed",
   "metadata": {},
   "outputs": [],
   "source": [
    "df_risk_sp = df_sp_concat[df_sp_concat['Job Title'].str.contains('Risk').fillna(False)]"
   ]
  },
  {
   "cell_type": "code",
   "execution_count": 208,
   "id": "47bc7e2e",
   "metadata": {},
   "outputs": [],
   "source": [
    "df_riesgo_sp = df_sp_concat[df_sp_concat['Job Title'].str.contains('Riesgo').fillna(False)]"
   ]
  },
  {
   "cell_type": "code",
   "execution_count": 209,
   "id": "affc2043",
   "metadata": {},
   "outputs": [],
   "source": [
    "df_customer_sp = df_sp_concat[df_sp_concat['Job Title'].str.contains('Customer').fillna(False)]"
   ]
  },
  {
   "cell_type": "code",
   "execution_count": 210,
   "id": "b0197d33",
   "metadata": {},
   "outputs": [],
   "source": [
    "df_cliente_sp = df_sp_concat[df_sp_concat['Job Title'].str.contains('Cliente').fillna(False)]"
   ]
  },
  {
   "cell_type": "code",
   "execution_count": 211,
   "id": "b4e5b05d",
   "metadata": {},
   "outputs": [],
   "source": [
    "df_product_sp = df_sp_concat[df_sp_concat['Job Title'].str.contains('Product').fillna(False)]"
   ]
  },
  {
   "cell_type": "code",
   "execution_count": 212,
   "id": "98d2ed46",
   "metadata": {},
   "outputs": [],
   "source": [
    "df_producto_sp = df_sp_concat[df_sp_concat['Job Title'].str.contains('Producto').fillna(False)]"
   ]
  },
  {
   "cell_type": "code",
   "execution_count": 213,
   "id": "e0070342",
   "metadata": {},
   "outputs": [],
   "source": [
    "df_insights_sp = df_sp_concat[df_sp_concat['Job Title'].str.contains('Insights').fillna(False)]"
   ]
  },
  {
   "cell_type": "code",
   "execution_count": 214,
   "id": "90aed9d7",
   "metadata": {},
   "outputs": [],
   "source": [
    "df_full_concat_sp = pd.concat([df_business_sp,df_analyst_sp,df_analista_sp,df_data_analytics_sp,df_tablesp_sp,df_business_i_sp,df_bi_sp,df_risk_sp,df_riesgo_sp,df_customer_sp,df_cliente_sp,df_product_sp,df_producto_sp,df_insights_sp])"
   ]
  },
  {
   "cell_type": "code",
   "execution_count": 215,
   "id": "c2025dc1",
   "metadata": {},
   "outputs": [],
   "source": [
    "df_full_concat_sp.drop_duplicates(inplace=True)"
   ]
  },
  {
   "cell_type": "code",
   "execution_count": 216,
   "id": "d00e7580",
   "metadata": {},
   "outputs": [
    {
     "data": {
      "text/plain": [
       "839"
      ]
     },
     "execution_count": 216,
     "metadata": {},
     "output_type": "execute_result"
    }
   ],
   "source": [
    "len(df_full_concat_sp)"
   ]
  },
  {
   "cell_type": "markdown",
   "id": "149fca4f",
   "metadata": {},
   "source": [
    "We kept almost half the rows that meet at least 1 of the conditions above."
   ]
  },
  {
   "cell_type": "code",
   "execution_count": 217,
   "id": "f25474db",
   "metadata": {},
   "outputs": [
    {
     "data": {
      "text/html": [
       "<div>\n",
       "<style scoped>\n",
       "    .dataframe tbody tr th:only-of-type {\n",
       "        vertical-align: middle;\n",
       "    }\n",
       "\n",
       "    .dataframe tbody tr th {\n",
       "        vertical-align: top;\n",
       "    }\n",
       "\n",
       "    .dataframe thead th {\n",
       "        text-align: right;\n",
       "    }\n",
       "</style>\n",
       "<table border=\"1\" class=\"dataframe\">\n",
       "  <thead>\n",
       "    <tr style=\"text-align: right;\">\n",
       "      <th></th>\n",
       "      <th>Job Title</th>\n",
       "      <th>Company Name</th>\n",
       "      <th>Location</th>\n",
       "      <th>Date Scraped</th>\n",
       "      <th>Job URL</th>\n",
       "      <th>Job Industry</th>\n",
       "      <th>Job Type</th>\n",
       "      <th>Job Seniority</th>\n",
       "      <th>Job Description</th>\n",
       "      <th>lang</th>\n",
       "    </tr>\n",
       "  </thead>\n",
       "  <tbody>\n",
       "    <tr>\n",
       "      <th>0</th>\n",
       "      <td>Business Analyst (m/f/d)</td>\n",
       "      <td>TUI</td>\n",
       "      <td>Arca</td>\n",
       "      <td>7/26/2021</td>\n",
       "      <td>https://www.glassdoor.com/partner/jobListing.h...</td>\n",
       "      <td>Industry : Travel &amp; Tourism</td>\n",
       "      <td>Job Type : N/A</td>\n",
       "      <td>NaN</td>\n",
       "      <td>For TUI Group IT we are looking for a Business...</td>\n",
       "      <td>en</td>\n",
       "    </tr>\n",
       "    <tr>\n",
       "      <th>1</th>\n",
       "      <td>Business Analyst | Delta Partners</td>\n",
       "      <td>FTI Consulting, Inc.</td>\n",
       "      <td>Spain</td>\n",
       "      <td>7/26/2021</td>\n",
       "      <td>https://www.glassdoor.com/partner/jobListing.h...</td>\n",
       "      <td>Industry : Business Services</td>\n",
       "      <td>Job Type : Internship</td>\n",
       "      <td>NaN</td>\n",
       "      <td>Brief Description\\n\\nThis job is for you if yo...</td>\n",
       "      <td>en</td>\n",
       "    </tr>\n",
       "    <tr>\n",
       "      <th>8</th>\n",
       "      <td>Business Analyst, Master Data Management</td>\n",
       "      <td>IQVIA</td>\n",
       "      <td>Madrid</td>\n",
       "      <td>7/27/2021</td>\n",
       "      <td>https://www.glassdoor.com/partner/jobListing.h...</td>\n",
       "      <td>Industry : Biotech &amp; Pharmaceuticals</td>\n",
       "      <td>Job Type : Full-time</td>\n",
       "      <td>NaN</td>\n",
       "      <td>External Job Description\\nRole Overview\\nThe I...</td>\n",
       "      <td>en</td>\n",
       "    </tr>\n",
       "    <tr>\n",
       "      <th>22</th>\n",
       "      <td>Business Analyst, Master Data Management</td>\n",
       "      <td>IQVIA</td>\n",
       "      <td>Madrid</td>\n",
       "      <td>2021-07-28</td>\n",
       "      <td>https://www.glassdoor.com/partner/jobListing.h...</td>\n",
       "      <td>Industry : Biotech &amp; Pharmaceuticals</td>\n",
       "      <td>Job Type : Full-time</td>\n",
       "      <td>NaN</td>\n",
       "      <td>External Job Description\\nRole Overview\\nThe I...</td>\n",
       "      <td>en</td>\n",
       "    </tr>\n",
       "    <tr>\n",
       "      <th>42</th>\n",
       "      <td>Business Analyst - Zimit</td>\n",
       "      <td>Alight</td>\n",
       "      <td>Granada</td>\n",
       "      <td>2021-07-29</td>\n",
       "      <td>https://www.glassdoor.com/partner/jobListing.h...</td>\n",
       "      <td>Industry : Business Services</td>\n",
       "      <td>Job Type : Full-time</td>\n",
       "      <td>NaN</td>\n",
       "      <td>Other Permanent Granada (GRA1), Spain Posted o...</td>\n",
       "      <td>en</td>\n",
       "    </tr>\n",
       "  </tbody>\n",
       "</table>\n",
       "</div>"
      ],
      "text/plain": [
       "                                   Job Title          Company Name Location  \\\n",
       "0                   Business Analyst (m/f/d)                   TUI     Arca   \n",
       "1          Business Analyst | Delta Partners  FTI Consulting, Inc.    Spain   \n",
       "8   Business Analyst, Master Data Management                 IQVIA   Madrid   \n",
       "22  Business Analyst, Master Data Management                 IQVIA   Madrid   \n",
       "42                  Business Analyst - Zimit                Alight  Granada   \n",
       "\n",
       "   Date Scraped                                            Job URL  \\\n",
       "0     7/26/2021  https://www.glassdoor.com/partner/jobListing.h...   \n",
       "1     7/26/2021  https://www.glassdoor.com/partner/jobListing.h...   \n",
       "8     7/27/2021  https://www.glassdoor.com/partner/jobListing.h...   \n",
       "22   2021-07-28  https://www.glassdoor.com/partner/jobListing.h...   \n",
       "42   2021-07-29  https://www.glassdoor.com/partner/jobListing.h...   \n",
       "\n",
       "                            Job Industry               Job Type Job Seniority  \\\n",
       "0            Industry : Travel & Tourism         Job Type : N/A           NaN   \n",
       "1           Industry : Business Services  Job Type : Internship           NaN   \n",
       "8   Industry : Biotech & Pharmaceuticals   Job Type : Full-time           NaN   \n",
       "22  Industry : Biotech & Pharmaceuticals   Job Type : Full-time           NaN   \n",
       "42          Industry : Business Services   Job Type : Full-time           NaN   \n",
       "\n",
       "                                      Job Description lang  \n",
       "0   For TUI Group IT we are looking for a Business...   en  \n",
       "1   Brief Description\\n\\nThis job is for you if yo...   en  \n",
       "8   External Job Description\\nRole Overview\\nThe I...   en  \n",
       "22  External Job Description\\nRole Overview\\nThe I...   en  \n",
       "42  Other Permanent Granada (GRA1), Spain Posted o...   en  "
      ]
     },
     "execution_count": 217,
     "metadata": {},
     "output_type": "execute_result"
    }
   ],
   "source": [
    "df_full_concat_sp.head()"
   ]
  },
  {
   "cell_type": "markdown",
   "id": "ebdddb89",
   "metadata": {},
   "source": [
    "### Text analysis"
   ]
  },
  {
   "cell_type": "markdown",
   "id": "9a190252",
   "metadata": {},
   "source": [
    "As we won't be modelling, we will be looking for some commonly asked for skills and we will measure how much they are mentioned in different job postings. For this, we will be using the str.contains method as used above. "
   ]
  },
  {
   "cell_type": "markdown",
   "id": "fbfb9e61",
   "metadata": {},
   "source": [
    "##### Skills that we will be looking for\n",
    "Below we will list the skills that will be looking for in the descriptions in order to understand which ones are fetched the most:\n",
    "- Data Visualization (data viz - Visualizing Data - Reporting)\n",
    "- Power BI (PowerBI)\n",
    "- Tablesp\n",
    "- Looker\n",
    "- Qlik\n",
    "- Google Data Studio (GDS)\n",
    "- Data Cleaning (Data prep - Data preparation)\n",
    "- Programming\n",
    "- MATLAB\n",
    "- R\n",
    "- Python\n",
    "- SAS\n",
    "- SQL \n",
    "- NoSQL\n",
    "- Machine Learning (ML)\n",
    "- Microsoft Excel\n",
    "- ETL\n",
    "- Azure\n",
    "- AWS\n",
    "- Google Cloud Platform (GCP)\n",
    "- Oracle\n",
    "- Domain (industry)"
   ]
  },
  {
   "cell_type": "markdown",
   "id": "9b60b159",
   "metadata": {},
   "source": [
    "#### Creamos una lista de resultados en ingles para buscar palabras en ingles"
   ]
  },
  {
   "cell_type": "code",
   "execution_count": 218,
   "id": "bd384370",
   "metadata": {},
   "outputs": [],
   "source": [
    "skills_list_en = ['data visualization','data viz','visualizing data','reporting','power bi','powerbi',\\\n",
    "'tableau','looker','qlik','google data studio', 'gds', 'data cleaning', 'data prep','data preparation'\\\n",
    ",'programming', 'matlab', ' r ', 'python', 'sas','sql', 'nosql','machine learning','artificial','intelligence',' ml ','microsoft excel'\\\n",
    ",'excel','etl','azure','aws','google cloud platform','gcp','google','oracle','domain','industry','apache','spark'\\\n",
    ",'dataproc','databricks','airflow','dbt','pipeline','scalding','hadoop','pig']"
   ]
  },
  {
   "cell_type": "markdown",
   "id": "fc2ca012",
   "metadata": {},
   "source": [
    "#### Creamos una lista de resultados en español para buscar palabras en español"
   ]
  },
  {
   "cell_type": "code",
   "execution_count": 219,
   "id": "42cdfaf1",
   "metadata": {},
   "outputs": [],
   "source": [
    "skills_list_sp = ['visualización','data viz','visualizar','reporteria','reportes','power bi','powerbi',\\\n",
    "'tableau','looker','qlik','google data studio', 'gds', 'limpieza', 'data prep','preparacion','preparación'\\\n",
    ",'programming', 'matlab', ' r ', 'python', 'sas','sql', 'nosql','machine learning','inteligencia',' ml ','microsoft excel'\\\n",
    ",'excel','etl','azure','aws','google cloud platform','gcp','google','oracle','dominio','industria','apache','spark'\\\n",
    ",'dataproc','databricks','airflow','dbt','pipeline','scalding','hadoop','pig']"
   ]
  },
  {
   "cell_type": "markdown",
   "id": "e8b2f863",
   "metadata": {},
   "source": [
    "#### Concatenamos las listas"
   ]
  },
  {
   "cell_type": "code",
   "execution_count": 220,
   "id": "0db91ed5",
   "metadata": {},
   "outputs": [],
   "source": [
    "skills_list_sp_en = skills_list_en + skills_list_sp"
   ]
  },
  {
   "cell_type": "code",
   "execution_count": 221,
   "id": "c227a161",
   "metadata": {},
   "outputs": [
    {
     "data": {
      "text/plain": [
       "['data visualization',\n",
       " 'data viz',\n",
       " 'visualizing data',\n",
       " 'reporting',\n",
       " 'power bi',\n",
       " 'powerbi',\n",
       " 'tableau',\n",
       " 'looker',\n",
       " 'qlik',\n",
       " 'google data studio',\n",
       " 'gds',\n",
       " 'data cleaning',\n",
       " 'data prep',\n",
       " 'data preparation',\n",
       " 'programming',\n",
       " 'matlab',\n",
       " ' r ',\n",
       " 'python',\n",
       " 'sas',\n",
       " 'sql',\n",
       " 'nosql',\n",
       " 'machine learning',\n",
       " 'artificial',\n",
       " 'intelligence',\n",
       " ' ml ',\n",
       " 'microsoft excel',\n",
       " 'excel',\n",
       " 'etl',\n",
       " 'azure',\n",
       " 'aws',\n",
       " 'google cloud platform',\n",
       " 'gcp',\n",
       " 'google',\n",
       " 'oracle',\n",
       " 'domain',\n",
       " 'industry',\n",
       " 'apache',\n",
       " 'spark',\n",
       " 'dataproc',\n",
       " 'databricks',\n",
       " 'airflow',\n",
       " 'dbt',\n",
       " 'pipeline',\n",
       " 'scalding',\n",
       " 'hadoop',\n",
       " 'pig',\n",
       " 'visualización',\n",
       " 'data viz',\n",
       " 'visualizar',\n",
       " 'reporteria',\n",
       " 'reportes',\n",
       " 'power bi',\n",
       " 'powerbi',\n",
       " 'tableau',\n",
       " 'looker',\n",
       " 'qlik',\n",
       " 'google data studio',\n",
       " 'gds',\n",
       " 'limpieza',\n",
       " 'data prep',\n",
       " 'preparacion',\n",
       " 'preparación',\n",
       " 'programming',\n",
       " 'matlab',\n",
       " ' r ',\n",
       " 'python',\n",
       " 'sas',\n",
       " 'sql',\n",
       " 'nosql',\n",
       " 'machine learning',\n",
       " 'inteligencia',\n",
       " ' ml ',\n",
       " 'microsoft excel',\n",
       " 'excel',\n",
       " 'etl',\n",
       " 'azure',\n",
       " 'aws',\n",
       " 'google cloud platform',\n",
       " 'gcp',\n",
       " 'google',\n",
       " 'oracle',\n",
       " 'dominio',\n",
       " 'industria',\n",
       " 'apache',\n",
       " 'spark',\n",
       " 'dataproc',\n",
       " 'databricks',\n",
       " 'airflow',\n",
       " 'dbt',\n",
       " 'pipeline',\n",
       " 'scalding',\n",
       " 'hadoop',\n",
       " 'pig']"
      ]
     },
     "execution_count": 221,
     "metadata": {},
     "output_type": "execute_result"
    }
   ],
   "source": [
    "skills_list_sp_en"
   ]
  },
  {
   "cell_type": "code",
   "execution_count": 222,
   "id": "940e4d52",
   "metadata": {},
   "outputs": [
    {
     "data": {
      "text/html": [
       "<div>\n",
       "<style scoped>\n",
       "    .dataframe tbody tr th:only-of-type {\n",
       "        vertical-align: middle;\n",
       "    }\n",
       "\n",
       "    .dataframe tbody tr th {\n",
       "        vertical-align: top;\n",
       "    }\n",
       "\n",
       "    .dataframe thead th {\n",
       "        text-align: right;\n",
       "    }\n",
       "</style>\n",
       "<table border=\"1\" class=\"dataframe\">\n",
       "  <thead>\n",
       "    <tr style=\"text-align: right;\">\n",
       "      <th></th>\n",
       "      <th>Job Title</th>\n",
       "      <th>Company Name</th>\n",
       "      <th>Location</th>\n",
       "      <th>Date Scraped</th>\n",
       "      <th>Job URL</th>\n",
       "      <th>Job Industry</th>\n",
       "      <th>Job Type</th>\n",
       "      <th>Job Seniority</th>\n",
       "      <th>Job Description</th>\n",
       "      <th>lang</th>\n",
       "    </tr>\n",
       "  </thead>\n",
       "  <tbody>\n",
       "    <tr>\n",
       "      <th>0</th>\n",
       "      <td>Business Analyst (m/f/d)</td>\n",
       "      <td>TUI</td>\n",
       "      <td>Arca</td>\n",
       "      <td>7/26/2021</td>\n",
       "      <td>https://www.glassdoor.com/partner/jobListing.h...</td>\n",
       "      <td>Industry : Travel &amp; Tourism</td>\n",
       "      <td>Job Type : N/A</td>\n",
       "      <td>NaN</td>\n",
       "      <td>For TUI Group IT we are looking for a Business...</td>\n",
       "      <td>en</td>\n",
       "    </tr>\n",
       "    <tr>\n",
       "      <th>1</th>\n",
       "      <td>Business Analyst | Delta Partners</td>\n",
       "      <td>FTI Consulting, Inc.</td>\n",
       "      <td>Spain</td>\n",
       "      <td>7/26/2021</td>\n",
       "      <td>https://www.glassdoor.com/partner/jobListing.h...</td>\n",
       "      <td>Industry : Business Services</td>\n",
       "      <td>Job Type : Internship</td>\n",
       "      <td>NaN</td>\n",
       "      <td>Brief Description\\n\\nThis job is for you if yo...</td>\n",
       "      <td>en</td>\n",
       "    </tr>\n",
       "    <tr>\n",
       "      <th>8</th>\n",
       "      <td>Business Analyst, Master Data Management</td>\n",
       "      <td>IQVIA</td>\n",
       "      <td>Madrid</td>\n",
       "      <td>7/27/2021</td>\n",
       "      <td>https://www.glassdoor.com/partner/jobListing.h...</td>\n",
       "      <td>Industry : Biotech &amp; Pharmaceuticals</td>\n",
       "      <td>Job Type : Full-time</td>\n",
       "      <td>NaN</td>\n",
       "      <td>External Job Description\\nRole Overview\\nThe I...</td>\n",
       "      <td>en</td>\n",
       "    </tr>\n",
       "    <tr>\n",
       "      <th>22</th>\n",
       "      <td>Business Analyst, Master Data Management</td>\n",
       "      <td>IQVIA</td>\n",
       "      <td>Madrid</td>\n",
       "      <td>2021-07-28</td>\n",
       "      <td>https://www.glassdoor.com/partner/jobListing.h...</td>\n",
       "      <td>Industry : Biotech &amp; Pharmaceuticals</td>\n",
       "      <td>Job Type : Full-time</td>\n",
       "      <td>NaN</td>\n",
       "      <td>External Job Description\\nRole Overview\\nThe I...</td>\n",
       "      <td>en</td>\n",
       "    </tr>\n",
       "    <tr>\n",
       "      <th>42</th>\n",
       "      <td>Business Analyst - Zimit</td>\n",
       "      <td>Alight</td>\n",
       "      <td>Granada</td>\n",
       "      <td>2021-07-29</td>\n",
       "      <td>https://www.glassdoor.com/partner/jobListing.h...</td>\n",
       "      <td>Industry : Business Services</td>\n",
       "      <td>Job Type : Full-time</td>\n",
       "      <td>NaN</td>\n",
       "      <td>Other Permanent Granada (GRA1), Spain Posted o...</td>\n",
       "      <td>en</td>\n",
       "    </tr>\n",
       "  </tbody>\n",
       "</table>\n",
       "</div>"
      ],
      "text/plain": [
       "                                   Job Title          Company Name Location  \\\n",
       "0                   Business Analyst (m/f/d)                   TUI     Arca   \n",
       "1          Business Analyst | Delta Partners  FTI Consulting, Inc.    Spain   \n",
       "8   Business Analyst, Master Data Management                 IQVIA   Madrid   \n",
       "22  Business Analyst, Master Data Management                 IQVIA   Madrid   \n",
       "42                  Business Analyst - Zimit                Alight  Granada   \n",
       "\n",
       "   Date Scraped                                            Job URL  \\\n",
       "0     7/26/2021  https://www.glassdoor.com/partner/jobListing.h...   \n",
       "1     7/26/2021  https://www.glassdoor.com/partner/jobListing.h...   \n",
       "8     7/27/2021  https://www.glassdoor.com/partner/jobListing.h...   \n",
       "22   2021-07-28  https://www.glassdoor.com/partner/jobListing.h...   \n",
       "42   2021-07-29  https://www.glassdoor.com/partner/jobListing.h...   \n",
       "\n",
       "                            Job Industry               Job Type Job Seniority  \\\n",
       "0            Industry : Travel & Tourism         Job Type : N/A           NaN   \n",
       "1           Industry : Business Services  Job Type : Internship           NaN   \n",
       "8   Industry : Biotech & Pharmaceuticals   Job Type : Full-time           NaN   \n",
       "22  Industry : Biotech & Pharmaceuticals   Job Type : Full-time           NaN   \n",
       "42          Industry : Business Services   Job Type : Full-time           NaN   \n",
       "\n",
       "                                      Job Description lang  \n",
       "0   For TUI Group IT we are looking for a Business...   en  \n",
       "1   Brief Description\\n\\nThis job is for you if yo...   en  \n",
       "8   External Job Description\\nRole Overview\\nThe I...   en  \n",
       "22  External Job Description\\nRole Overview\\nThe I...   en  \n",
       "42  Other Permanent Granada (GRA1), Spain Posted o...   en  "
      ]
     },
     "execution_count": 222,
     "metadata": {},
     "output_type": "execute_result"
    }
   ],
   "source": [
    "df_full_concat_sp.head()"
   ]
  },
  {
   "cell_type": "markdown",
   "id": "df7c6130",
   "metadata": {},
   "source": [
    "### Looking for the terms on the Job Descriptions"
   ]
  },
  {
   "cell_type": "code",
   "execution_count": 223,
   "id": "7de8fe25",
   "metadata": {},
   "outputs": [],
   "source": [
    "skills_count_dict = {}"
   ]
  },
  {
   "cell_type": "code",
   "execution_count": 224,
   "id": "411123d8",
   "metadata": {},
   "outputs": [
    {
     "name": "stdout",
     "output_type": "stream",
     "text": [
      "data visualization  was found in  27  job postings\n",
      "data viz  was found in  1  job postings\n",
      "visualizing data  was found in  1  job postings\n",
      "reporting  was found in  123  job postings\n",
      "power bi  was found in  40  job postings\n",
      "powerbi  was found in  16  job postings\n",
      "tableau  was found in  50  job postings\n",
      "looker  was found in  15  job postings\n",
      "qlik  was found in  17  job postings\n",
      "google data studio  was found in  4  job postings\n",
      "gds  was found in  0  job postings\n",
      "data cleaning  was found in  0  job postings\n",
      "data prep  was found in  1  job postings\n",
      "data preparation  was found in  1  job postings\n",
      "programming  was found in  55  job postings\n",
      "matlab  was found in  1  job postings\n",
      " r   was found in  12  job postings\n",
      "python  was found in  55  job postings\n",
      "sas  was found in  72  job postings\n",
      "sql  was found in  104  job postings\n",
      "nosql  was found in  9  job postings\n",
      "machine learning  was found in  18  job postings\n",
      "artificial  was found in  8  job postings\n",
      "intelligence  was found in  58  job postings\n",
      " ml   was found in  4  job postings\n",
      "microsoft excel  was found in  5  job postings\n",
      "excel  was found in  259  job postings\n",
      "etl  was found in  23  job postings\n",
      "azure  was found in  21  job postings\n",
      "aws  was found in  34  job postings\n",
      "google cloud platform  was found in  0  job postings\n",
      "gcp  was found in  0  job postings\n",
      "google  was found in  39  job postings\n",
      "oracle  was found in  5  job postings\n",
      "domain  was found in  29  job postings\n",
      "industry  was found in  157  job postings\n",
      "apache  was found in  0  job postings\n",
      "spark  was found in  12  job postings\n",
      "dataproc  was found in  0  job postings\n",
      "databricks  was found in  6  job postings\n",
      "airflow  was found in  1  job postings\n",
      "dbt  was found in  2  job postings\n",
      "pipeline  was found in  17  job postings\n",
      "scalding  was found in  0  job postings\n",
      "hadoop  was found in  4  job postings\n",
      "pig  was found in  8  job postings\n",
      "visualización  was found in  4  job postings\n",
      "data viz  was found in  1  job postings\n",
      "visualizar  was found in  2  job postings\n",
      "reporteria  was found in  0  job postings\n",
      "reportes  was found in  4  job postings\n",
      "power bi  was found in  40  job postings\n",
      "powerbi  was found in  16  job postings\n",
      "tableau  was found in  50  job postings\n",
      "looker  was found in  15  job postings\n",
      "qlik  was found in  17  job postings\n",
      "google data studio  was found in  4  job postings\n",
      "gds  was found in  0  job postings\n",
      "limpieza  was found in  4  job postings\n",
      "data prep  was found in  1  job postings\n",
      "preparacion  was found in  0  job postings\n",
      "preparación  was found in  0  job postings\n",
      "programming  was found in  55  job postings\n",
      "matlab  was found in  1  job postings\n",
      " r   was found in  12  job postings\n",
      "python  was found in  55  job postings\n",
      "sas  was found in  72  job postings\n",
      "sql  was found in  104  job postings\n",
      "nosql  was found in  9  job postings\n",
      "machine learning  was found in  18  job postings\n",
      "inteligencia  was found in  1  job postings\n",
      " ml   was found in  4  job postings\n",
      "microsoft excel  was found in  5  job postings\n",
      "excel  was found in  259  job postings\n",
      "etl  was found in  23  job postings\n",
      "azure  was found in  21  job postings\n",
      "aws  was found in  34  job postings\n",
      "google cloud platform  was found in  0  job postings\n",
      "gcp  was found in  0  job postings\n",
      "google  was found in  39  job postings\n",
      "oracle  was found in  5  job postings\n",
      "dominio  was found in  3  job postings\n",
      "industria  was found in  18  job postings\n",
      "apache  was found in  0  job postings\n",
      "spark  was found in  12  job postings\n",
      "dataproc  was found in  0  job postings\n",
      "databricks  was found in  6  job postings\n",
      "airflow  was found in  1  job postings\n",
      "dbt  was found in  2  job postings\n",
      "pipeline  was found in  17  job postings\n",
      "scalding  was found in  0  job postings\n",
      "hadoop  was found in  4  job postings\n",
      "pig  was found in  8  job postings\n"
     ]
    }
   ],
   "source": [
    "for i in skills_list_sp_en:\n",
    "    print(i,' was found in ',len(df_full_concat_sp[df_full_concat_sp['Job Description'].str.lower().str.contains(i).fillna(False)]),' job postings')\n",
    "    skills_count_dict[i]=len(df_full_concat_sp[df_full_concat_sp['Job Description'].str.lower().str.contains(i).fillna(False)])"
   ]
  },
  {
   "cell_type": "code",
   "execution_count": 225,
   "id": "3db42097",
   "metadata": {},
   "outputs": [
    {
     "data": {
      "text/plain": [
       "{'data visualization': 27,\n",
       " 'data viz': 1,\n",
       " 'visualizing data': 1,\n",
       " 'reporting': 123,\n",
       " 'power bi': 40,\n",
       " 'powerbi': 16,\n",
       " 'tableau': 50,\n",
       " 'looker': 15,\n",
       " 'qlik': 17,\n",
       " 'google data studio': 4,\n",
       " 'gds': 0,\n",
       " 'data cleaning': 0,\n",
       " 'data prep': 1,\n",
       " 'data preparation': 1,\n",
       " 'programming': 55,\n",
       " 'matlab': 1,\n",
       " ' r ': 12,\n",
       " 'python': 55,\n",
       " 'sas': 72,\n",
       " 'sql': 104,\n",
       " 'nosql': 9,\n",
       " 'machine learning': 18,\n",
       " 'artificial': 8,\n",
       " 'intelligence': 58,\n",
       " ' ml ': 4,\n",
       " 'microsoft excel': 5,\n",
       " 'excel': 259,\n",
       " 'etl': 23,\n",
       " 'azure': 21,\n",
       " 'aws': 34,\n",
       " 'google cloud platform': 0,\n",
       " 'gcp': 0,\n",
       " 'google': 39,\n",
       " 'oracle': 5,\n",
       " 'domain': 29,\n",
       " 'industry': 157,\n",
       " 'apache': 0,\n",
       " 'spark': 12,\n",
       " 'dataproc': 0,\n",
       " 'databricks': 6,\n",
       " 'airflow': 1,\n",
       " 'dbt': 2,\n",
       " 'pipeline': 17,\n",
       " 'scalding': 0,\n",
       " 'hadoop': 4,\n",
       " 'pig': 8,\n",
       " 'visualización': 4,\n",
       " 'visualizar': 2,\n",
       " 'reporteria': 0,\n",
       " 'reportes': 4,\n",
       " 'limpieza': 4,\n",
       " 'preparacion': 0,\n",
       " 'preparación': 0,\n",
       " 'inteligencia': 1,\n",
       " 'dominio': 3,\n",
       " 'industria': 18}"
      ]
     },
     "execution_count": 225,
     "metadata": {},
     "output_type": "execute_result"
    }
   ],
   "source": [
    "# Let's take a look at our dict\n",
    "skills_count_dict"
   ]
  },
  {
   "cell_type": "code",
   "execution_count": 226,
   "id": "25289d4d",
   "metadata": {},
   "outputs": [],
   "source": [
    "skills_df_sp = pd.DataFrame(skills_count_dict.items(),columns=['skill','count'])"
   ]
  },
  {
   "cell_type": "code",
   "execution_count": 227,
   "id": "81a05304",
   "metadata": {},
   "outputs": [
    {
     "data": {
      "text/html": [
       "<div>\n",
       "<style scoped>\n",
       "    .dataframe tbody tr th:only-of-type {\n",
       "        vertical-align: middle;\n",
       "    }\n",
       "\n",
       "    .dataframe tbody tr th {\n",
       "        vertical-align: top;\n",
       "    }\n",
       "\n",
       "    .dataframe thead th {\n",
       "        text-align: right;\n",
       "    }\n",
       "</style>\n",
       "<table border=\"1\" class=\"dataframe\">\n",
       "  <thead>\n",
       "    <tr style=\"text-align: right;\">\n",
       "      <th></th>\n",
       "      <th>skill</th>\n",
       "      <th>count</th>\n",
       "    </tr>\n",
       "  </thead>\n",
       "  <tbody>\n",
       "    <tr>\n",
       "      <th>0</th>\n",
       "      <td>data visualization</td>\n",
       "      <td>27</td>\n",
       "    </tr>\n",
       "    <tr>\n",
       "      <th>1</th>\n",
       "      <td>data viz</td>\n",
       "      <td>1</td>\n",
       "    </tr>\n",
       "    <tr>\n",
       "      <th>2</th>\n",
       "      <td>visualizing data</td>\n",
       "      <td>1</td>\n",
       "    </tr>\n",
       "    <tr>\n",
       "      <th>3</th>\n",
       "      <td>reporting</td>\n",
       "      <td>123</td>\n",
       "    </tr>\n",
       "    <tr>\n",
       "      <th>4</th>\n",
       "      <td>power bi</td>\n",
       "      <td>40</td>\n",
       "    </tr>\n",
       "  </tbody>\n",
       "</table>\n",
       "</div>"
      ],
      "text/plain": [
       "                skill  count\n",
       "0  data visualization     27\n",
       "1            data viz      1\n",
       "2    visualizing data      1\n",
       "3           reporting    123\n",
       "4            power bi     40"
      ]
     },
     "execution_count": 227,
     "metadata": {},
     "output_type": "execute_result"
    }
   ],
   "source": [
    "skills_df_sp.head()"
   ]
  },
  {
   "cell_type": "code",
   "execution_count": 228,
   "id": "fa0e5583",
   "metadata": {},
   "outputs": [
    {
     "data": {
      "text/html": [
       "<div>\n",
       "<style scoped>\n",
       "    .dataframe tbody tr th:only-of-type {\n",
       "        vertical-align: middle;\n",
       "    }\n",
       "\n",
       "    .dataframe tbody tr th {\n",
       "        vertical-align: top;\n",
       "    }\n",
       "\n",
       "    .dataframe thead th {\n",
       "        text-align: right;\n",
       "    }\n",
       "</style>\n",
       "<table border=\"1\" class=\"dataframe\">\n",
       "  <thead>\n",
       "    <tr style=\"text-align: right;\">\n",
       "      <th></th>\n",
       "      <th>skill</th>\n",
       "      <th>count</th>\n",
       "    </tr>\n",
       "  </thead>\n",
       "  <tbody>\n",
       "    <tr>\n",
       "      <th>0</th>\n",
       "      <td>data visualization</td>\n",
       "      <td>27</td>\n",
       "    </tr>\n",
       "    <tr>\n",
       "      <th>1</th>\n",
       "      <td>data viz</td>\n",
       "      <td>1</td>\n",
       "    </tr>\n",
       "    <tr>\n",
       "      <th>2</th>\n",
       "      <td>visualizing data</td>\n",
       "      <td>1</td>\n",
       "    </tr>\n",
       "    <tr>\n",
       "      <th>3</th>\n",
       "      <td>reporting</td>\n",
       "      <td>123</td>\n",
       "    </tr>\n",
       "    <tr>\n",
       "      <th>4</th>\n",
       "      <td>power bi</td>\n",
       "      <td>40</td>\n",
       "    </tr>\n",
       "    <tr>\n",
       "      <th>5</th>\n",
       "      <td>powerbi</td>\n",
       "      <td>16</td>\n",
       "    </tr>\n",
       "    <tr>\n",
       "      <th>6</th>\n",
       "      <td>tableau</td>\n",
       "      <td>50</td>\n",
       "    </tr>\n",
       "    <tr>\n",
       "      <th>7</th>\n",
       "      <td>looker</td>\n",
       "      <td>15</td>\n",
       "    </tr>\n",
       "    <tr>\n",
       "      <th>8</th>\n",
       "      <td>qlik</td>\n",
       "      <td>17</td>\n",
       "    </tr>\n",
       "    <tr>\n",
       "      <th>9</th>\n",
       "      <td>google data studio</td>\n",
       "      <td>4</td>\n",
       "    </tr>\n",
       "    <tr>\n",
       "      <th>10</th>\n",
       "      <td>gds</td>\n",
       "      <td>0</td>\n",
       "    </tr>\n",
       "    <tr>\n",
       "      <th>11</th>\n",
       "      <td>data cleaning</td>\n",
       "      <td>0</td>\n",
       "    </tr>\n",
       "    <tr>\n",
       "      <th>12</th>\n",
       "      <td>data prep</td>\n",
       "      <td>1</td>\n",
       "    </tr>\n",
       "    <tr>\n",
       "      <th>13</th>\n",
       "      <td>data preparation</td>\n",
       "      <td>1</td>\n",
       "    </tr>\n",
       "    <tr>\n",
       "      <th>14</th>\n",
       "      <td>programming</td>\n",
       "      <td>55</td>\n",
       "    </tr>\n",
       "    <tr>\n",
       "      <th>15</th>\n",
       "      <td>matlab</td>\n",
       "      <td>1</td>\n",
       "    </tr>\n",
       "    <tr>\n",
       "      <th>16</th>\n",
       "      <td>r</td>\n",
       "      <td>12</td>\n",
       "    </tr>\n",
       "    <tr>\n",
       "      <th>17</th>\n",
       "      <td>python</td>\n",
       "      <td>55</td>\n",
       "    </tr>\n",
       "    <tr>\n",
       "      <th>18</th>\n",
       "      <td>sas</td>\n",
       "      <td>72</td>\n",
       "    </tr>\n",
       "    <tr>\n",
       "      <th>19</th>\n",
       "      <td>sql</td>\n",
       "      <td>104</td>\n",
       "    </tr>\n",
       "    <tr>\n",
       "      <th>20</th>\n",
       "      <td>nosql</td>\n",
       "      <td>9</td>\n",
       "    </tr>\n",
       "    <tr>\n",
       "      <th>21</th>\n",
       "      <td>machine learning</td>\n",
       "      <td>18</td>\n",
       "    </tr>\n",
       "    <tr>\n",
       "      <th>22</th>\n",
       "      <td>artificial</td>\n",
       "      <td>8</td>\n",
       "    </tr>\n",
       "    <tr>\n",
       "      <th>23</th>\n",
       "      <td>intelligence</td>\n",
       "      <td>58</td>\n",
       "    </tr>\n",
       "    <tr>\n",
       "      <th>24</th>\n",
       "      <td>ml</td>\n",
       "      <td>4</td>\n",
       "    </tr>\n",
       "    <tr>\n",
       "      <th>25</th>\n",
       "      <td>microsoft excel</td>\n",
       "      <td>5</td>\n",
       "    </tr>\n",
       "    <tr>\n",
       "      <th>26</th>\n",
       "      <td>excel</td>\n",
       "      <td>259</td>\n",
       "    </tr>\n",
       "    <tr>\n",
       "      <th>27</th>\n",
       "      <td>etl</td>\n",
       "      <td>23</td>\n",
       "    </tr>\n",
       "    <tr>\n",
       "      <th>28</th>\n",
       "      <td>azure</td>\n",
       "      <td>21</td>\n",
       "    </tr>\n",
       "    <tr>\n",
       "      <th>29</th>\n",
       "      <td>aws</td>\n",
       "      <td>34</td>\n",
       "    </tr>\n",
       "    <tr>\n",
       "      <th>30</th>\n",
       "      <td>google cloud platform</td>\n",
       "      <td>0</td>\n",
       "    </tr>\n",
       "    <tr>\n",
       "      <th>31</th>\n",
       "      <td>gcp</td>\n",
       "      <td>0</td>\n",
       "    </tr>\n",
       "    <tr>\n",
       "      <th>32</th>\n",
       "      <td>google</td>\n",
       "      <td>39</td>\n",
       "    </tr>\n",
       "    <tr>\n",
       "      <th>33</th>\n",
       "      <td>oracle</td>\n",
       "      <td>5</td>\n",
       "    </tr>\n",
       "    <tr>\n",
       "      <th>34</th>\n",
       "      <td>domain</td>\n",
       "      <td>29</td>\n",
       "    </tr>\n",
       "    <tr>\n",
       "      <th>35</th>\n",
       "      <td>industry</td>\n",
       "      <td>157</td>\n",
       "    </tr>\n",
       "    <tr>\n",
       "      <th>36</th>\n",
       "      <td>apache</td>\n",
       "      <td>0</td>\n",
       "    </tr>\n",
       "    <tr>\n",
       "      <th>37</th>\n",
       "      <td>spark</td>\n",
       "      <td>12</td>\n",
       "    </tr>\n",
       "    <tr>\n",
       "      <th>38</th>\n",
       "      <td>dataproc</td>\n",
       "      <td>0</td>\n",
       "    </tr>\n",
       "    <tr>\n",
       "      <th>39</th>\n",
       "      <td>databricks</td>\n",
       "      <td>6</td>\n",
       "    </tr>\n",
       "    <tr>\n",
       "      <th>40</th>\n",
       "      <td>airflow</td>\n",
       "      <td>1</td>\n",
       "    </tr>\n",
       "    <tr>\n",
       "      <th>41</th>\n",
       "      <td>dbt</td>\n",
       "      <td>2</td>\n",
       "    </tr>\n",
       "    <tr>\n",
       "      <th>42</th>\n",
       "      <td>pipeline</td>\n",
       "      <td>17</td>\n",
       "    </tr>\n",
       "    <tr>\n",
       "      <th>43</th>\n",
       "      <td>scalding</td>\n",
       "      <td>0</td>\n",
       "    </tr>\n",
       "    <tr>\n",
       "      <th>44</th>\n",
       "      <td>hadoop</td>\n",
       "      <td>4</td>\n",
       "    </tr>\n",
       "    <tr>\n",
       "      <th>45</th>\n",
       "      <td>pig</td>\n",
       "      <td>8</td>\n",
       "    </tr>\n",
       "    <tr>\n",
       "      <th>46</th>\n",
       "      <td>visualización</td>\n",
       "      <td>4</td>\n",
       "    </tr>\n",
       "    <tr>\n",
       "      <th>47</th>\n",
       "      <td>visualizar</td>\n",
       "      <td>2</td>\n",
       "    </tr>\n",
       "    <tr>\n",
       "      <th>48</th>\n",
       "      <td>reporteria</td>\n",
       "      <td>0</td>\n",
       "    </tr>\n",
       "    <tr>\n",
       "      <th>49</th>\n",
       "      <td>reportes</td>\n",
       "      <td>4</td>\n",
       "    </tr>\n",
       "    <tr>\n",
       "      <th>50</th>\n",
       "      <td>limpieza</td>\n",
       "      <td>4</td>\n",
       "    </tr>\n",
       "    <tr>\n",
       "      <th>51</th>\n",
       "      <td>preparacion</td>\n",
       "      <td>0</td>\n",
       "    </tr>\n",
       "    <tr>\n",
       "      <th>52</th>\n",
       "      <td>preparación</td>\n",
       "      <td>0</td>\n",
       "    </tr>\n",
       "    <tr>\n",
       "      <th>53</th>\n",
       "      <td>inteligencia</td>\n",
       "      <td>1</td>\n",
       "    </tr>\n",
       "    <tr>\n",
       "      <th>54</th>\n",
       "      <td>dominio</td>\n",
       "      <td>3</td>\n",
       "    </tr>\n",
       "    <tr>\n",
       "      <th>55</th>\n",
       "      <td>industria</td>\n",
       "      <td>18</td>\n",
       "    </tr>\n",
       "  </tbody>\n",
       "</table>\n",
       "</div>"
      ],
      "text/plain": [
       "                    skill  count\n",
       "0      data visualization     27\n",
       "1                data viz      1\n",
       "2        visualizing data      1\n",
       "3               reporting    123\n",
       "4                power bi     40\n",
       "5                 powerbi     16\n",
       "6                 tableau     50\n",
       "7                  looker     15\n",
       "8                    qlik     17\n",
       "9      google data studio      4\n",
       "10                    gds      0\n",
       "11          data cleaning      0\n",
       "12              data prep      1\n",
       "13       data preparation      1\n",
       "14            programming     55\n",
       "15                 matlab      1\n",
       "16                     r      12\n",
       "17                 python     55\n",
       "18                    sas     72\n",
       "19                    sql    104\n",
       "20                  nosql      9\n",
       "21       machine learning     18\n",
       "22             artificial      8\n",
       "23           intelligence     58\n",
       "24                    ml       4\n",
       "25        microsoft excel      5\n",
       "26                  excel    259\n",
       "27                    etl     23\n",
       "28                  azure     21\n",
       "29                    aws     34\n",
       "30  google cloud platform      0\n",
       "31                    gcp      0\n",
       "32                 google     39\n",
       "33                 oracle      5\n",
       "34                 domain     29\n",
       "35               industry    157\n",
       "36                 apache      0\n",
       "37                  spark     12\n",
       "38               dataproc      0\n",
       "39             databricks      6\n",
       "40                airflow      1\n",
       "41                    dbt      2\n",
       "42               pipeline     17\n",
       "43               scalding      0\n",
       "44                 hadoop      4\n",
       "45                    pig      8\n",
       "46          visualización      4\n",
       "47             visualizar      2\n",
       "48             reporteria      0\n",
       "49               reportes      4\n",
       "50               limpieza      4\n",
       "51            preparacion      0\n",
       "52            preparación      0\n",
       "53           inteligencia      1\n",
       "54                dominio      3\n",
       "55              industria     18"
      ]
     },
     "execution_count": 228,
     "metadata": {},
     "output_type": "execute_result"
    }
   ],
   "source": [
    "skills_df_sp"
   ]
  },
  {
   "cell_type": "code",
   "execution_count": 229,
   "id": "b2a6a2a1",
   "metadata": {},
   "outputs": [
    {
     "data": {
      "text/plain": [
       "en    699\n",
       "es    140\n",
       "Name: lang, dtype: int64"
      ]
     },
     "execution_count": 229,
     "metadata": {},
     "output_type": "execute_result"
    }
   ],
   "source": [
    "df_full_concat_sp['lang'].value_counts()"
   ]
  },
  {
   "cell_type": "code",
   "execution_count": 230,
   "id": "a52c49a5",
   "metadata": {},
   "outputs": [
    {
     "data": {
      "text/plain": [
       "140"
      ]
     },
     "execution_count": 230,
     "metadata": {},
     "output_type": "execute_result"
    }
   ],
   "source": [
    "len(df_full_concat_sp[df_full_concat_sp['lang']=='es'])"
   ]
  },
  {
   "cell_type": "code",
   "execution_count": 231,
   "id": "ae57cc28",
   "metadata": {},
   "outputs": [],
   "source": [
    "skills_df_sp['mentions_percent']=pd.concat([round(skills_df_sp['count'][:46]/len(df_full_concat_sp)*100,2),round(skills_df_sp['count'][46:]/len(df_full_concat_sp[df_full_concat_sp['lang']=='es'])*100,2)])"
   ]
  },
  {
   "cell_type": "code",
   "execution_count": 234,
   "id": "0c2f1e06",
   "metadata": {},
   "outputs": [],
   "source": [
    "skills_df_sp=skills_df_sp.sort_values('mentions_percent',ascending= False)"
   ]
  },
  {
   "cell_type": "markdown",
   "id": "0beb8897",
   "metadata": {},
   "source": [
    "## Exporting the results"
   ]
  },
  {
   "cell_type": "code",
   "execution_count": 235,
   "id": "b42271b7",
   "metadata": {},
   "outputs": [],
   "source": [
    "#skills_df_sp.to_csv(r'C:\\Users\\Gonzalo\\Documents\\DH\\Contenido\\ds_blend_students_2020\\Proyectos Propios\\By Industry\\0 - Jobs\\Data Analytics\\Results - CSV\\results_sp.csv')"
   ]
  },
  {
   "cell_type": "code",
   "execution_count": null,
   "id": "408046ca",
   "metadata": {},
   "outputs": [],
   "source": []
  }
 ],
 "metadata": {
  "kernelspec": {
   "display_name": "Python 3",
   "language": "python",
   "name": "python3"
  },
  "language_info": {
   "codemirror_mode": {
    "name": "ipython",
    "version": 3
   },
   "file_extension": ".py",
   "mimetype": "text/x-python",
   "name": "python",
   "nbconvert_exporter": "python",
   "pygments_lexer": "ipython3",
   "version": "3.7.10"
  }
 },
 "nbformat": 4,
 "nbformat_minor": 5
}
