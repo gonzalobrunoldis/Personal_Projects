{
 "cells": [
  {
   "cell_type": "code",
   "execution_count": 1,
   "id": "e8db4a47",
   "metadata": {},
   "outputs": [],
   "source": [
    "#TODOs \n",
    "# Add Data Origin (Linkedin in this case)"
   ]
  },
  {
   "cell_type": "code",
   "execution_count": 2,
   "id": "3a9d2628",
   "metadata": {},
   "outputs": [],
   "source": [
    "from urllib.request import urlopen as ureq\n",
    "import urllib"
   ]
  },
  {
   "cell_type": "code",
   "execution_count": 3,
   "id": "de42e726",
   "metadata": {},
   "outputs": [],
   "source": [
    "import pandas as pd\n",
    "import re\n",
    "import random\n",
    "from datetime import date, timedelta\n",
    "\n",
    "import selenium\n",
    "from bs4 import BeautifulSoup as soup\n",
    "from datetime import date, timedelta, datetime\n",
    "from IPython.core.display import clear_output\n",
    "from random import randint\n",
    "from requests import get\n",
    "from selenium import webdriver\n",
    "from selenium.webdriver.common.action_chains import ActionChains\n",
    "from time import sleep\n",
    "from time import time\n",
    "start_time = time()\n",
    "\n",
    "from warnings import warn"
   ]
  },
  {
   "cell_type": "code",
   "execution_count": 4,
   "id": "cde054e8",
   "metadata": {},
   "outputs": [],
   "source": [
    "from bs4 import BeautifulSoup as soup"
   ]
  },
  {
   "cell_type": "code",
   "execution_count": 5,
   "id": "922d9cce",
   "metadata": {},
   "outputs": [],
   "source": [
    "#url = 'https://www.seek.com.au/data-analyst-jobs/in-All-Sydney-NSW?daterange=1&sortmode=ListedDate'\n",
    "url = 'https://www.seek.com.au/data-analyst-junior-jobs/in-sydney?daterange=2'"
   ]
  },
  {
   "cell_type": "markdown",
   "id": "7732b571",
   "metadata": {},
   "source": [
    "### Opening up connection and getting HTML info from the webpage"
   ]
  },
  {
   "cell_type": "code",
   "execution_count": 6,
   "id": "30baee2c",
   "metadata": {},
   "outputs": [],
   "source": [
    "driver = webdriver.Chrome()\n",
    "driver.get(url)"
   ]
  },
  {
   "cell_type": "code",
   "execution_count": 7,
   "id": "24750ba7",
   "metadata": {},
   "outputs": [
    {
     "data": {
      "text/plain": [
       "'102 jobs found'"
      ]
     },
     "execution_count": 7,
     "metadata": {},
     "output_type": "execute_result"
    }
   ],
   "source": [
    "driver.find_element_by_xpath('//span[@id=\"SearchSummary\"]').text"
   ]
  },
  {
   "cell_type": "code",
   "execution_count": 8,
   "id": "89bfb0a9",
   "metadata": {},
   "outputs": [
    {
     "data": {
      "text/plain": [
       "'102'"
      ]
     },
     "execution_count": 8,
     "metadata": {},
     "output_type": "execute_result"
    }
   ],
   "source": [
    "new_jobs_posted = re.findall('\\d+',driver.find_element_by_xpath('//span[@id=\"SearchSummary\"]').text)[0]\n",
    "new_jobs_posted"
   ]
  },
  {
   "cell_type": "code",
   "execution_count": 9,
   "id": "60cc58e9",
   "metadata": {},
   "outputs": [],
   "source": [
    "#Instatiating the lists to fill when looping\n",
    "job_titles=[]\n",
    "company_name=[]\n",
    "job_location=[]\n",
    "date_scraped=[]\n",
    "links=[]\n",
    "job_industry=[]\n",
    "job_desc=[]\n",
    "job_type=[]\n",
    "job_seniority=[]\n",
    "page = 0\n",
    "links2= []\n",
    "\n",
    "#Check for the app to stop if the job was already scrapped\n",
    "df = pd.read_csv('Seek_data_info.csv')"
   ]
  },
  {
   "cell_type": "code",
   "execution_count": 10,
   "id": "4212d669",
   "metadata": {},
   "outputs": [],
   "source": [
    "#Contenedores1\n",
    "contenedores = driver.find_elements_by_xpath('//article[@data-automation=\"premiumJob\"]')"
   ]
  },
  {
   "cell_type": "code",
   "execution_count": 11,
   "id": "8c1277f6",
   "metadata": {},
   "outputs": [],
   "source": [
    "#Contenedores2\n",
    "contenedores2 = driver.find_elements_by_xpath('//article[@data-automation=\"normalJob\"]')"
   ]
  },
  {
   "cell_type": "code",
   "execution_count": 12,
   "id": "dc1b278c",
   "metadata": {},
   "outputs": [],
   "source": [
    "while 1>0:\n",
    "#Jobs en class = \"premiumJob\"\n",
    "    links = []\n",
    "    sleep(random.uniform(3.2,6.8))\n",
    "    contenedores = driver.find_elements_by_xpath('//article[@data-automation=\"premiumJob\"]')\n",
    "    contenedores2 = driver.find_elements_by_xpath('//article[@data-automation=\"normalJob\"]')\n",
    "    for job_post in contenedores:\n",
    "        try:\n",
    "            job_area = job_post.find_element_by_xpath('.//a[@data-automation=\"jobArea\"]').text\n",
    "        except: \n",
    "            job_area = ''\n",
    "        # Job Title\n",
    "        job_titles.append(job_post.find_element_by_xpath('.//a[@class=\"_2S5REPk\"]').text)\n",
    "        # Company name\n",
    "        try:\n",
    "            company_name.append(job_post.find_element_by_xpath('.//a[@data-automation=\"jobCompany\"]').text)\n",
    "        except:\n",
    "            company_name.append('Private Advertiser')\n",
    "        # Job Location\n",
    "        job_location.append(job_post.find_element_by_xpath('.//a[@data-automation=\"jobLocation\"]').text + ' ' + job_area)\n",
    "        #Date Scraped\n",
    "        date_scraped.append(str(date.today()))\n",
    "        #Links\n",
    "        links.append(job_post.find_element_by_xpath('.//a[@class=\"_2S5REPk\"]').get_attribute('href'))\n",
    "        links2.append(job_post.find_element_by_xpath('.//a[@class=\"_2S5REPk\"]').get_attribute('href'))\n",
    "\n",
    "    #Jobs en class = \"normalJob\"\n",
    "    for job_post in contenedores2:\n",
    "        try:\n",
    "            job_area = job_post.find_element_by_xpath('.//a[@data-automation=\"jobArea\"]').text\n",
    "        except: \n",
    "            job_area = ''\n",
    "        # Job Title\n",
    "        job_titles.append(job_post.find_element_by_xpath('.//a[@class=\"_2S5REPk\"]').text)\n",
    "        # Company name\n",
    "        try:\n",
    "            company_name.append(job_post.find_element_by_xpath('.//a[@data-automation=\"jobCompany\"]').text)\n",
    "        except:\n",
    "            company_name.append('Private Advertiser')\n",
    "        # Job Location\n",
    "        job_location.append(job_post.find_element_by_xpath('.//a[@data-automation=\"jobLocation\"]').text + ' ' + job_area)\n",
    "        #Date Scraped\n",
    "        date_scraped.append(str(date.today()))\n",
    "        #Links\n",
    "        links.append(job_post.find_element_by_xpath('.//a[@class=\"_2S5REPk\"]').get_attribute('href'))\n",
    "        links2.append(job_post.find_element_by_xpath('.//a[@class=\"_2S5REPk\"]').get_attribute('href'))\n",
    "\n",
    "    for i in range(0,len(links)):\n",
    "        sleep(random.uniform(1.5,4.8))\n",
    "        url= links[i]\n",
    "        uclient = ureq(url)\n",
    "        page_html = uclient.read()\n",
    "        uclient.close()\n",
    "        page_soup = soup(page_html, 'html.parser')\n",
    "        if len(page_soup.findAll('div',{'class':'yvsb870 _14uh9942g _1lOnv_4'})) == 4:\n",
    "            job_industry.append(page_soup.findAll('div',{'class':'yvsb870 _14uh9942g _1lOnv_4'})[1].text.strip())\n",
    "            job_desc.append(page_soup.findAll('div',{'data-automation':'jobAdDetails'})[0].text.strip())\n",
    "            job_type.append(page_soup.findAll('div',{'class':'yvsb870 _14uh9942g _1lOnv_4'})[3].text.strip())\n",
    "            job_seniority.append('NA')\n",
    "        \n",
    "        elif len(page_soup.findAll('div',{'class':'yvsb870 _14uh9942g _1lOnv_4'})) == 5 and (re.search(r'\\d+',page_soup.findAll('div',{'class':'yvsb870 _14uh9942g _1lOnv_4'})[3].text.strip()) is None):\n",
    "            job_industry.append(page_soup.findAll('div',{'class':'yvsb870 _14uh9942g _1lOnv_4'})[2].text.strip())\n",
    "            job_desc.append(page_soup.findAll('div',{'data-automation':'jobAdDetails'})[0].text.strip())\n",
    "            job_type.append(page_soup.findAll('div',{'class':'yvsb870 _14uh9942g _1lOnv_4'})[4].text.strip())\n",
    "            job_seniority.append('NA')\n",
    "        \n",
    "        elif len(page_soup.findAll('div',{'class':'yvsb870 _14uh9942g _1lOnv_4'})) == 5 and (re.search(r'\\d+',page_soup.findAll('div',{'class':'yvsb870 _14uh9942g _1lOnv_4'})[3].text.strip()) is not None):\n",
    "            job_industry.append(page_soup.findAll('div',{'class':'yvsb870 _14uh9942g _1lOnv_4'})[1].text.strip())\n",
    "            job_desc.append(page_soup.findAll('div',{'data-automation':'jobAdDetails'})[0].text.strip())\n",
    "            job_type.append(page_soup.findAll('div',{'class':'yvsb870 _14uh9942g _1lOnv_4'})[4].text.strip())\n",
    "            job_seniority.append('NA')\n",
    "        \n",
    "        elif len(page_soup.findAll('div',{'class':'yvsb870 _14uh9942g _1lOnv_4'})) == 6:\n",
    "            job_industry.append(page_soup.findAll('div',{'class':'yvsb870 _14uh9942g _1lOnv_4'})[2].text.strip())\n",
    "            job_desc.append(page_soup.findAll('div',{'data-automation':'jobAdDetails'})[0].text.strip())\n",
    "            job_type.append(page_soup.findAll('div',{'class':'yvsb870 _14uh9942g _1lOnv_4'})[5].text.strip())\n",
    "            job_seniority.append('NA')\n",
    "    \n",
    "    try:\n",
    "        driver.find_element_by_xpath('//a[@class=\"_24YOjgT\"]').click()\n",
    "        page += 1\n",
    "    except:\n",
    "        break"
   ]
  },
  {
   "cell_type": "code",
   "execution_count": 13,
   "id": "51de1706",
   "metadata": {},
   "outputs": [],
   "source": [
    "dataframe_structure = {'Job Title': job_titles, 'Company Name':company_name, 'Location':job_location, 'Date Scraped':date_scraped, 'Job URL':links2, 'Job Industry':job_industry, 'Job Type':job_type, 'Job Seniority':job_seniority, 'Job Description':job_desc}"
   ]
  },
  {
   "cell_type": "code",
   "execution_count": 14,
   "id": "3cc6d93e",
   "metadata": {},
   "outputs": [
    {
     "name": "stdout",
     "output_type": "stream",
     "text": [
      "Job titles ----\n",
      "102\n",
      "['Junior Data Analyst', 'Junior Data Analyst']\n",
      "Job company ----\n",
      "102\n",
      "['TABCORP', 'Guzman y Gomez']\n",
      "Job Location ----\n",
      "102\n",
      "['Sydney CBD, Inner West & Eastern Suburbs', 'Sydney CBD, Inner West & Eastern Suburbs']\n",
      "Date scraped ----\n",
      "102\n",
      "['2021-08-27', '2021-08-27']\n",
      "Job links ----\n",
      "102\n",
      "['https://www.seek.com.au/job/53618692?type=standout#searchRequestToken=337a891f-3bd0-4669-864c-839d6997604f', 'https://www.seek.com.au/job/53636737?type=standout#searchRequestToken=337a891f-3bd0-4669-864c-839d6997604f']\n",
      "Job type ----\n",
      "102\n",
      "['Full Time', 'Full Time']\n",
      "Job industry ----\n",
      "['Banking & Financial Services', 'Information & Communication Technology']\n",
      "Job seniority ----\n",
      "['NA', 'NA']\n"
     ]
    }
   ],
   "source": [
    "print('Job titles ----')\n",
    "print(len(job_titles))    \n",
    "print(job_titles[0:2])\n",
    "print('Job company ----')\n",
    "print(len(company_name))\n",
    "print(company_name[0:2])\n",
    "print('Job Location ----')\n",
    "print(len(job_location))\n",
    "print(job_location[0:2])\n",
    "print('Date scraped ----')\n",
    "print(len(date_scraped))\n",
    "print(date_scraped[0:2])\n",
    "print('Job links ----')\n",
    "print(len(links2))\n",
    "print(links2[0:2])\n",
    "print('Job type ----')\n",
    "print(len(job_type))\n",
    "print(job_type[0:2])\n",
    "print('Job industry ----')\n",
    "print(job_industry[0:2])\n",
    "print('Job seniority ----')\n",
    "print(job_seniority[0:2])"
   ]
  },
  {
   "cell_type": "code",
   "execution_count": 15,
   "id": "d92b1880",
   "metadata": {},
   "outputs": [],
   "source": [
    "df = pd.read_csv('Seek_data_info.csv', engine='python')\n",
    "last_index_in_csv = int(df.iloc[-1]['Unnamed: 0'])\n",
    "last_index_in_csv_1 = last_index_in_csv+1\n",
    "df = pd.DataFrame(dataframe_structure)\n",
    "df.index += last_index_in_csv_1"
   ]
  },
  {
   "cell_type": "code",
   "execution_count": 16,
   "id": "c95d5b75",
   "metadata": {},
   "outputs": [
    {
     "data": {
      "text/html": [
       "<div>\n",
       "<style scoped>\n",
       "    .dataframe tbody tr th:only-of-type {\n",
       "        vertical-align: middle;\n",
       "    }\n",
       "\n",
       "    .dataframe tbody tr th {\n",
       "        vertical-align: top;\n",
       "    }\n",
       "\n",
       "    .dataframe thead th {\n",
       "        text-align: right;\n",
       "    }\n",
       "</style>\n",
       "<table border=\"1\" class=\"dataframe\">\n",
       "  <thead>\n",
       "    <tr style=\"text-align: right;\">\n",
       "      <th></th>\n",
       "      <th>Job Title</th>\n",
       "      <th>Company Name</th>\n",
       "      <th>Location</th>\n",
       "      <th>Date Scraped</th>\n",
       "      <th>Job URL</th>\n",
       "      <th>Job Industry</th>\n",
       "      <th>Job Type</th>\n",
       "      <th>Job Seniority</th>\n",
       "      <th>Job Description</th>\n",
       "    </tr>\n",
       "  </thead>\n",
       "  <tbody>\n",
       "    <tr>\n",
       "      <th>1239</th>\n",
       "      <td>Junior Data Analyst</td>\n",
       "      <td>TABCORP</td>\n",
       "      <td>Sydney CBD, Inner West &amp; Eastern Suburbs</td>\n",
       "      <td>2021-08-27</td>\n",
       "      <td>https://www.seek.com.au/job/53618692?type=stan...</td>\n",
       "      <td>Banking &amp; Financial Services</td>\n",
       "      <td>Full Time</td>\n",
       "      <td>NA</td>\n",
       "      <td>One day you’re helping us boldly innovate, ano...</td>\n",
       "    </tr>\n",
       "    <tr>\n",
       "      <th>1240</th>\n",
       "      <td>Junior Data Analyst</td>\n",
       "      <td>Guzman y Gomez</td>\n",
       "      <td>Sydney CBD, Inner West &amp; Eastern Suburbs</td>\n",
       "      <td>2021-08-27</td>\n",
       "      <td>https://www.seek.com.au/job/53636737?type=stan...</td>\n",
       "      <td>Information &amp; Communication Technology</td>\n",
       "      <td>Full Time</td>\n",
       "      <td>NA</td>\n",
       "      <td>Guzman y Gomez is the fastest growing fast foo...</td>\n",
       "    </tr>\n",
       "    <tr>\n",
       "      <th>1241</th>\n",
       "      <td>Junior Business Analyst</td>\n",
       "      <td>Brilliance Financial Technology</td>\n",
       "      <td>Sydney CBD, Inner West &amp; Eastern Suburbs</td>\n",
       "      <td>2021-08-27</td>\n",
       "      <td>https://www.seek.com.au/job/53666044?type=stan...</td>\n",
       "      <td>Banking &amp; Financial Services</td>\n",
       "      <td>Full Time</td>\n",
       "      <td>NA</td>\n",
       "      <td>About the RoleOur company is a leading provide...</td>\n",
       "    </tr>\n",
       "    <tr>\n",
       "      <th>1242</th>\n",
       "      <td>Quantitative Data Analyst</td>\n",
       "      <td>Peoplefusion</td>\n",
       "      <td>Sydney</td>\n",
       "      <td>2021-08-27</td>\n",
       "      <td>https://www.seek.com.au/job/53667899?type=stan...</td>\n",
       "      <td>Banking &amp; Financial Services</td>\n",
       "      <td>Full Time</td>\n",
       "      <td>NA</td>\n",
       "      <td>Genuine opportunity for a graduate or early ca...</td>\n",
       "    </tr>\n",
       "    <tr>\n",
       "      <th>1243</th>\n",
       "      <td>Data Analyst</td>\n",
       "      <td>Mercer</td>\n",
       "      <td>Sydney</td>\n",
       "      <td>2021-08-27</td>\n",
       "      <td>https://www.seek.com.au/job/53619448?type=stan...</td>\n",
       "      <td>Human Resources &amp; Recruitment</td>\n",
       "      <td>Full Time</td>\n",
       "      <td>NA</td>\n",
       "      <td>Company:MercerDescription:Junior Project Manag...</td>\n",
       "    </tr>\n",
       "  </tbody>\n",
       "</table>\n",
       "</div>"
      ],
      "text/plain": [
       "                      Job Title                     Company Name  \\\n",
       "1239        Junior Data Analyst                          TABCORP   \n",
       "1240        Junior Data Analyst                   Guzman y Gomez   \n",
       "1241    Junior Business Analyst  Brilliance Financial Technology   \n",
       "1242  Quantitative Data Analyst                     Peoplefusion   \n",
       "1243               Data Analyst                           Mercer   \n",
       "\n",
       "                                      Location Date Scraped  \\\n",
       "1239  Sydney CBD, Inner West & Eastern Suburbs   2021-08-27   \n",
       "1240  Sydney CBD, Inner West & Eastern Suburbs   2021-08-27   \n",
       "1241  Sydney CBD, Inner West & Eastern Suburbs   2021-08-27   \n",
       "1242                                   Sydney    2021-08-27   \n",
       "1243                                   Sydney    2021-08-27   \n",
       "\n",
       "                                                Job URL  \\\n",
       "1239  https://www.seek.com.au/job/53618692?type=stan...   \n",
       "1240  https://www.seek.com.au/job/53636737?type=stan...   \n",
       "1241  https://www.seek.com.au/job/53666044?type=stan...   \n",
       "1242  https://www.seek.com.au/job/53667899?type=stan...   \n",
       "1243  https://www.seek.com.au/job/53619448?type=stan...   \n",
       "\n",
       "                                Job Industry   Job Type Job Seniority  \\\n",
       "1239            Banking & Financial Services  Full Time            NA   \n",
       "1240  Information & Communication Technology  Full Time            NA   \n",
       "1241            Banking & Financial Services  Full Time            NA   \n",
       "1242            Banking & Financial Services  Full Time            NA   \n",
       "1243           Human Resources & Recruitment  Full Time            NA   \n",
       "\n",
       "                                        Job Description  \n",
       "1239  One day you’re helping us boldly innovate, ano...  \n",
       "1240  Guzman y Gomez is the fastest growing fast foo...  \n",
       "1241  About the RoleOur company is a leading provide...  \n",
       "1242  Genuine opportunity for a graduate or early ca...  \n",
       "1243  Company:MercerDescription:Junior Project Manag...  "
      ]
     },
     "execution_count": 16,
     "metadata": {},
     "output_type": "execute_result"
    }
   ],
   "source": [
    "df.head()"
   ]
  },
  {
   "cell_type": "code",
   "execution_count": 17,
   "id": "8b8e9781",
   "metadata": {},
   "outputs": [],
   "source": [
    "df.to_csv('Seek_data_info.csv',mode='a',header=False)"
   ]
  },
  {
   "cell_type": "code",
   "execution_count": null,
   "id": "182bcad0",
   "metadata": {},
   "outputs": [],
   "source": []
  }
 ],
 "metadata": {
  "kernelspec": {
   "display_name": "Python 3",
   "language": "python",
   "name": "python3"
  },
  "language_info": {
   "codemirror_mode": {
    "name": "ipython",
    "version": 3
   },
   "file_extension": ".py",
   "mimetype": "text/x-python",
   "name": "python",
   "nbconvert_exporter": "python",
   "pygments_lexer": "ipython3",
   "version": "3.7.10"
  }
 },
 "nbformat": 4,
 "nbformat_minor": 5
}
